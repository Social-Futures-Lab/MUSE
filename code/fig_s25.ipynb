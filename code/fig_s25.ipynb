{
 "cells": [
  {
   "cell_type": "code",
   "execution_count": 33,
   "id": "initial_id",
   "metadata": {
    "collapsed": true,
    "ExecuteTime": {
     "end_time": "2024-09-09T10:25:11.220356Z",
     "start_time": "2024-09-09T10:25:11.152994Z"
    }
   },
   "outputs": [],
   "source": [
    "import pandas as pd\n",
    "import matplotlib.pyplot as plt\n",
    "import numpy as np\n",
    "import matplotlib\n",
    "import os\n",
    "from scipy.stats import spearmanr\n",
    "from pprint import pprint\n",
    "\n",
    "# all the correction approaches\n",
    "all_methods = [\n",
    "    'note_1_text',\n",
    "    'note_2_text',\n",
    "    'correction_response (ours, time reference: high-qual note)',\n",
    "    'correction_response (ours, time reference: avg-qual note)',\n",
    "    'correction_response (ours removing {retrieval+image}, i.e., vanilla gpt-4)',\n",
    "    'correction_response (ours removing retrieval)',\n",
    "    'correction_response (ours removing image)',\n",
    "    'correction_response (ours, time reference: tweet)'\n",
    "]\n",
    "\n",
    "# all the annotations who completed the tasks\n",
    "all_users = [  \n",
    "    'group1_user1',\n",
    "    'group1_user2',\n",
    "    'group2_user1',\n",
    "    'group2_user2',  \n",
    "    'group3_user1',\n",
    "    'group3_user2',\n",
    "    'group4_user1',\n",
    "    'group4_user2',\n",
    "    'group5_user1',\n",
    "    'group5_user2'\n",
    "]"
   ]
  },
  {
   "cell_type": "code",
   "execution_count": 34,
   "outputs": [],
   "source": [
    "path = '../data/'\n",
    "phase_1_post_ids = ['100', '107', '110', '114', '118', '119', '124', '128', '142', '144', '149', '152', '163', '173', '184']\n",
    "\n",
    "# Overall quality\n",
    "post_resp_label_1 = pd.DataFrame(columns=['post_id', 'response_id', 'username', 'label'])\n",
    "for user in all_users:\n",
    "    df_eval = pd.read_csv(path + 'Q9-overall_quality.csv', dtype=str)\n",
    "    df_eval = df_eval[~df_eval['post_id'].isin(phase_1_post_ids)]\n",
    "    temp = df_eval[df_eval['username'] == user][['post_id', 'response_id', 'username', 'label']]\n",
    "    temp['label'] = [int(l)/10 for l in temp['label']]\n",
    "    post_resp_label_1 = pd.concat((post_resp_label_1, temp))\n",
    "\n",
    "thr_min, thr_max = 0, 1\n",
    "results = {}"
   ],
   "metadata": {
    "collapsed": false,
    "ExecuteTime": {
     "end_time": "2024-09-09T10:25:11.289417Z",
     "start_time": "2024-09-09T10:25:11.173722Z"
    }
   },
   "id": "a785766416359558"
  },
  {
   "cell_type": "markdown",
   "source": [
    "# Explicitness of correction"
   ],
   "metadata": {
    "collapsed": false
   },
   "id": "598e727fddc7e65c"
  },
  {
   "cell_type": "code",
   "execution_count": 35,
   "outputs": [
    {
     "name": "stdout",
     "output_type": "stream",
     "text": [
      "{'N': 2248, 'coe': 0.48599310561003295, 'p': 1.1065613663802877e-67}\n"
     ]
    }
   ],
   "source": [
    "file = 'Q1-correction_explicitness.csv'\n",
    "post_resp_label_2 = pd.DataFrame(columns=['post_id', 'response_id', 'username', 'label'])\n",
    "for user in all_users:\n",
    "    label2num = dict(zip(['Unclear', 'Implicit', 'Explicit'], [0,0.5,1]))\n",
    "    df_eval = pd.read_csv(path + file, dtype=str)\n",
    "    df_eval = df_eval[~df_eval['post_id'].isin(phase_1_post_ids)]\n",
    "    df_eval['label'] = df_eval['label'].fillna('nan')\n",
    "    temp = df_eval[df_eval['username'] == user][['post_id', 'response_id', 'username', 'label']]\n",
    "    temp['label'] = [label2num[l] if l!='nan' else 'nan' for l in temp['label']]\n",
    "    post_resp_label_2 = pd.concat((post_resp_label_2, temp))\n",
    "\n",
    "post_resp_label = post_resp_label_1.merge(post_resp_label_2, on=['post_id', 'response_id', 'username'], how='left')\n",
    "post_resp_label = post_resp_label[(post_resp_label['label_x']<=thr_max) & (post_resp_label['label_x']>=thr_min)]\n",
    "post_resp_label = post_resp_label[post_resp_label['label_y'] != 'nan']\n",
    "res = spearmanr(post_resp_label[['label_x', 'label_y']])\n",
    "results[file] = {'N': post_resp_label.shape[0]*2, 'coe': res.correlation, 'p': res.pvalue}\n",
    "pprint(results[file])"
   ],
   "metadata": {
    "collapsed": false,
    "ExecuteTime": {
     "end_time": "2024-09-09T10:25:11.396833Z",
     "start_time": "2024-09-09T10:25:11.295983Z"
    }
   },
   "id": "de83057b1c2fb220"
  },
  {
   "cell_type": "markdown",
   "source": [
    "# Accuracy of identification"
   ],
   "metadata": {
    "collapsed": false
   },
   "id": "a514c561d02acbdd"
  },
  {
   "cell_type": "code",
   "execution_count": 36,
   "outputs": [
    {
     "name": "stdout",
     "output_type": "stream",
     "text": [
      "{'N': 2248, 'coe': 0.5197300857574857, 'p': 8.796604644600887e-79}\n"
     ]
    }
   ],
   "source": [
    "file = 'Q2-identification_accuracy.csv'\n",
    "post_resp_label_2 = pd.DataFrame(columns=['post_id', 'response_id', 'username', 'label'])\n",
    "for user in all_users:\n",
    "    label2num = dict(zip(['Do not exist', 'Exist with misidentification', 'Exist without misidentification'], [0,0.5,1]))\n",
    "    df_eval = pd.read_csv(path + file, dtype=str)\n",
    "    df_eval = df_eval[~df_eval['post_id'].isin(phase_1_post_ids)]\n",
    "    df_eval['label'] = df_eval['label'].fillna('nan')\n",
    "    temp = df_eval[df_eval['username'] == user][['post_id', 'response_id', 'username', 'label']]\n",
    "    temp['label'] = [label2num[l] if l!='nan' else 'nan' for l in temp['label']]\n",
    "    post_resp_label_2 = pd.concat((post_resp_label_2, temp))\n",
    "\n",
    "post_resp_label = post_resp_label_1.merge(post_resp_label_2, on=['post_id', 'response_id', 'username'], how='left')\n",
    "post_resp_label = post_resp_label[(post_resp_label['label_x']<=thr_max) & (post_resp_label['label_x']>=thr_min)]\n",
    "post_resp_label = post_resp_label[post_resp_label['label_y'] != 'nan']\n",
    "res = spearmanr(post_resp_label[['label_x', 'label_y']])\n",
    "results[file] = {'N': post_resp_label.shape[0]*2, 'coe': res.correlation, 'p': res.pvalue}\n",
    "pprint(results[file])"
   ],
   "metadata": {
    "collapsed": false,
    "ExecuteTime": {
     "end_time": "2024-09-09T10:25:11.500679Z",
     "start_time": "2024-09-09T10:25:11.403411Z"
    }
   },
   "id": "d706c1a8da626ba5"
  },
  {
   "cell_type": "markdown",
   "source": [
    "# Comprehensiveness of accuracy identification"
   ],
   "metadata": {
    "collapsed": false
   },
   "id": "44f535eda9c17707"
  },
  {
   "cell_type": "code",
   "execution_count": 37,
   "outputs": [
    {
     "name": "stdout",
     "output_type": "stream",
     "text": [
      "{'N': 2248, 'coe': 0.6242867792471183, 'p': 1.8076886838625558e-122}\n"
     ]
    }
   ],
   "source": [
    "file = 'Q2.1-identification_comprehensiveness.csv'\n",
    "post_resp_label_2 = pd.DataFrame(columns=['post_id', 'response_id', 'username', 'label'])\n",
    "for user in all_users:\n",
    "    label2num = dict(zip(['No', 'Low', 'Medium', 'High', 'Extremely High'], [0,0.25,0.5,0.75,1]))\n",
    "    df_eval = pd.read_csv(path + file, dtype=str)\n",
    "    df_eval = df_eval[~df_eval['post_id'].isin(phase_1_post_ids)]\n",
    "    df_eval['label'] = df_eval['label'].fillna('nan')\n",
    "    temp = df_eval[df_eval['username'] == user][['post_id', 'response_id', 'username', 'label']]\n",
    "    temp['label'] = [label2num[l] if l!='nan' else 'nan' for l in temp['label']]\n",
    "    post_resp_label_2 = pd.concat((post_resp_label_2, temp))\n",
    "\n",
    "post_resp_label = post_resp_label_1.merge(post_resp_label_2, on=['post_id', 'response_id', 'username'], how='left')\n",
    "post_resp_label = post_resp_label[(post_resp_label['label_x']<=thr_max) & (post_resp_label['label_x']>=thr_min)]\n",
    "post_resp_label = post_resp_label[post_resp_label['label_y'] != 'nan']\n",
    "res = spearmanr(post_resp_label[['label_x', 'label_y']])\n",
    "results[file] = {'N': post_resp_label.shape[0]*2, 'coe': res.correlation, 'p': res.pvalue}\n",
    "pprint(results[file])"
   ],
   "metadata": {
    "collapsed": false,
    "ExecuteTime": {
     "end_time": "2024-09-09T10:25:11.599241Z",
     "start_time": "2024-09-09T10:25:11.506766Z"
    }
   },
   "id": "ec7bd894c08d7e55"
  },
  {
   "cell_type": "markdown",
   "source": [
    "# Accuracy of explanation"
   ],
   "metadata": {
    "collapsed": false
   },
   "id": "a059bc929ad99ab"
  },
  {
   "cell_type": "code",
   "execution_count": 38,
   "outputs": [
    {
     "name": "stdout",
     "output_type": "stream",
     "text": [
      "{'N': 2248, 'coe': 0.6178001875389924, 'p': 2.865411849578317e-119}\n"
     ]
    }
   ],
   "source": [
    "file = 'Q2.2-explanation_accuracy.csv'\n",
    "post_resp_label_2 = pd.DataFrame(columns=['post_id', 'response_id', 'username', 'label'])\n",
    "for user in all_users:\n",
    "    label2num = dict(zip(['Completely Incorrect', 'Mostly Incorrect', 'Half', 'Mostly Correct', 'Fully Correct'], [0,0.25,0.5,0.75,1]))\n",
    "    df_eval = pd.read_csv(path + file, dtype=str)\n",
    "    df_eval = df_eval[~df_eval['post_id'].isin(phase_1_post_ids)]\n",
    "    df_eval['label'] = df_eval['label'].fillna('nan')\n",
    "    temp = df_eval[df_eval['username'] == user][['post_id', 'response_id', 'username', 'label']]\n",
    "    temp['label'] = [label2num[l] if l!='nan' else 'nan' for l in temp['label']]\n",
    "    post_resp_label_2 = pd.concat((post_resp_label_2, temp))\n",
    "\n",
    "post_resp_label = post_resp_label_1.merge(post_resp_label_2, on=['post_id', 'response_id', 'username'], how='left')\n",
    "post_resp_label = post_resp_label[(post_resp_label['label_x']<=thr_max) & (post_resp_label['label_x']>=thr_min)]\n",
    "post_resp_label = post_resp_label[post_resp_label['label_y'] != 'nan']\n",
    "res = spearmanr(post_resp_label[['label_x', 'label_y']])\n",
    "results[file] = {'N': post_resp_label.shape[0]*2, 'coe': res.correlation, 'p': res.pvalue}\n",
    "pprint(results[file])"
   ],
   "metadata": {
    "collapsed": false,
    "ExecuteTime": {
     "end_time": "2024-09-09T10:25:11.702738Z",
     "start_time": "2024-09-09T10:25:11.605269Z"
    }
   },
   "id": "f1722a5cc9a5dfe1"
  },
  {
   "cell_type": "markdown",
   "source": [
    "# Informativeness of explanation"
   ],
   "metadata": {
    "collapsed": false
   },
   "id": "fefc6d5c0027b8f6"
  },
  {
   "cell_type": "code",
   "execution_count": 39,
   "outputs": [
    {
     "name": "stdout",
     "output_type": "stream",
     "text": [
      "{'N': 1982, 'coe': 0.8302715620801142, 'p': 2.5846513983023207e-253}\n"
     ]
    }
   ],
   "source": [
    "file = 'Q2.2.1-explanation_informativeness.csv'\n",
    "post_resp_label_2 = pd.DataFrame(columns=['post_id', 'response_id', 'username', 'label'])\n",
    "for user in all_users:\n",
    "    df_eval = pd.read_csv(path + file, dtype=str)\n",
    "    df_eval = df_eval[~df_eval['post_id'].isin(phase_1_post_ids)]\n",
    "    df_eval['label'] = df_eval['label'].fillna('nan')\n",
    "    temp = df_eval[df_eval['username'] == user][['post_id', 'response_id', 'username', 'label']]\n",
    "    temp['label'] = [int(l)/10 if l!='nan' else 'nan' for l in temp['label']]\n",
    "    post_resp_label_2 = pd.concat((post_resp_label_2, temp))\n",
    "\n",
    "post_resp_label = post_resp_label_1.merge(post_resp_label_2, on=['post_id', 'response_id', 'username'], how='left')\n",
    "post_resp_label = post_resp_label[(post_resp_label['label_x']<=thr_max) & (post_resp_label['label_x']>=thr_min)]\n",
    "post_resp_label = post_resp_label[post_resp_label['label_y'] != 'nan']\n",
    "res = spearmanr(post_resp_label[['label_x', 'label_y']])\n",
    "results[file] = {'N': post_resp_label.shape[0]*2, 'coe': res.correlation, 'p': res.pvalue}\n",
    "pprint(results[file])"
   ],
   "metadata": {
    "collapsed": false,
    "ExecuteTime": {
     "end_time": "2024-09-09T10:25:11.802039Z",
     "start_time": "2024-09-09T10:25:11.706528Z"
    }
   },
   "id": "d86cbd97f1bf0a42"
  },
  {
   "cell_type": "markdown",
   "source": [
    "# Relevance of text"
   ],
   "metadata": {
    "collapsed": false
   },
   "id": "8cdcab516071d5ab"
  },
  {
   "cell_type": "code",
   "execution_count": 40,
   "outputs": [
    {
     "name": "stdout",
     "output_type": "stream",
     "text": [
      "{'N': 2238, 'coe': 0.6690932240863231, 'p': 3.6548970818598417e-146}\n"
     ]
    }
   ],
   "source": [
    "file = 'Q3-text_relevance.csv'\n",
    "post_resp_label_2 = pd.DataFrame(columns=['post_id', 'response_id', 'username', 'label'])\n",
    "for user in all_users:\n",
    "    df_eval = pd.read_csv(path + file, dtype=str)\n",
    "    df_eval = df_eval[~df_eval['post_id'].isin(phase_1_post_ids)]\n",
    "    df_eval['label'] = df_eval['label'].fillna('nan')\n",
    "    temp = df_eval[df_eval['username'] == user][['post_id', 'response_id', 'username', 'label']]\n",
    "    temp['label'] = [int(l)/10 if l!='nan' else 'nan' for l in temp['label']]\n",
    "    post_resp_label_2 = pd.concat((post_resp_label_2, temp))\n",
    "\n",
    "post_resp_label = post_resp_label_1.merge(post_resp_label_2, on=['post_id', 'response_id', 'username'], how='left')\n",
    "post_resp_label = post_resp_label[(post_resp_label['label_x']<=thr_max) & (post_resp_label['label_x']>=thr_min)]\n",
    "post_resp_label = post_resp_label[post_resp_label['label_y'] != 'nan']\n",
    "res = spearmanr(post_resp_label[['label_x', 'label_y']])\n",
    "results[file] = {'N': post_resp_label.shape[0]*2, 'coe': res.correlation, 'p': res.pvalue}\n",
    "pprint(results[file])"
   ],
   "metadata": {
    "collapsed": false,
    "ExecuteTime": {
     "end_time": "2024-09-09T10:25:11.903565Z",
     "start_time": "2024-09-09T10:25:11.806180Z"
    }
   },
   "id": "6e9bc947505d586"
  },
  {
   "cell_type": "markdown",
   "source": [
    "# Factuality of text"
   ],
   "metadata": {
    "collapsed": false
   },
   "id": "aa9e75e874020e8"
  },
  {
   "cell_type": "code",
   "execution_count": 41,
   "outputs": [
    {
     "name": "stdout",
     "output_type": "stream",
     "text": [
      "{'N': 2230, 'coe': 0.6294091371911394, 'p': 4.610540005397706e-124}\n"
     ]
    }
   ],
   "source": [
    "file = 'Q4-text_factuality.csv'\n",
    "post_resp_label_2 = pd.DataFrame(columns=['post_id', 'response_id', 'username', 'label'])\n",
    "for user in all_users:\n",
    "    label2num = dict(zip(['Completely False, Inaccurate, or Unverifiable', 'Mostly False, Inaccurate, or Unverifiable', 'Half Factual and Accurate', 'Mostly Factual and Accurate', 'Completely Factual and Accurate'], [0,0.25,0.5,0.75,1]))\n",
    "    df_eval = pd.read_csv(path + file, dtype=str)\n",
    "    df_eval = df_eval[~df_eval['post_id'].isin(phase_1_post_ids)]\n",
    "    df_eval['label'] = df_eval['label'].fillna('nan')\n",
    "    temp = df_eval[df_eval['username'] == user][['post_id', 'response_id', 'username', 'label']]\n",
    "    temp['label'] = [label2num[l] if l!='nan' else 'nan' for l in temp['label']]\n",
    "    post_resp_label_2 = pd.concat((post_resp_label_2, temp))\n",
    "\n",
    "post_resp_label = post_resp_label_1.merge(post_resp_label_2, on=['post_id', 'response_id', 'username'], how='left')\n",
    "post_resp_label = post_resp_label[(post_resp_label['label_x']<=thr_max) & (post_resp_label['label_x']>=thr_min)]\n",
    "post_resp_label = post_resp_label[post_resp_label['label_y'] != 'nan']\n",
    "res = spearmanr(post_resp_label[['label_x', 'label_y']])\n",
    "results[file] = {'N': post_resp_label.shape[0]*2, 'coe': res.correlation, 'p': res.pvalue}\n",
    "pprint(results[file])"
   ],
   "metadata": {
    "collapsed": false,
    "ExecuteTime": {
     "end_time": "2024-09-09T10:25:12.011346Z",
     "start_time": "2024-09-09T10:25:11.908234Z"
    }
   },
   "id": "e52a31ebd72cce2a"
  },
  {
   "cell_type": "markdown",
   "source": [
    "# Fluency of text"
   ],
   "metadata": {
    "collapsed": false
   },
   "id": "2bef163026dddd90"
  },
  {
   "cell_type": "code",
   "execution_count": 42,
   "outputs": [
    {
     "name": "stdout",
     "output_type": "stream",
     "text": [
      "{'N': 2248, 'coe': 0.1909426199552996, 'p': 1.0900150148912291e-10}\n"
     ]
    }
   ],
   "source": [
    "file = 'Q5-text_fluency.csv'\n",
    "post_resp_label_2 = pd.DataFrame(columns=['post_id', 'response_id', 'username', 'label'])\n",
    "for user in all_users:\n",
    "    label2num = dict(zip(['Yes', 'Yes, but minor', 'No'], [0,0.5,1]))\n",
    "    df_eval = pd.read_csv(path + file, dtype=str)\n",
    "    df_eval = df_eval[~df_eval['post_id'].isin(phase_1_post_ids)]\n",
    "    df_eval['label'] = df_eval['label'].fillna('nan')\n",
    "    temp = df_eval[df_eval['username'] == user][['post_id', 'response_id', 'username', 'label']]\n",
    "    temp['label'] = [label2num[l] if l!='nan' else 'nan' for l in temp['label']]\n",
    "    post_resp_label_2 = pd.concat((post_resp_label_2, temp))\n",
    "\n",
    "post_resp_label = post_resp_label_1.merge(post_resp_label_2, on=['post_id', 'response_id', 'username'], how='left')\n",
    "post_resp_label = post_resp_label[(post_resp_label['label_x']<=thr_max) & (post_resp_label['label_x']>=thr_min)]\n",
    "post_resp_label = post_resp_label[post_resp_label['label_y'] != 'nan']\n",
    "res = spearmanr(post_resp_label[['label_x', 'label_y']])\n",
    "results[file] = {'N': post_resp_label.shape[0]*2, 'coe': res.correlation, 'p': res.pvalue}\n",
    "pprint(results[file])"
   ],
   "metadata": {
    "collapsed": false,
    "ExecuteTime": {
     "end_time": "2024-09-09T10:25:12.108168Z",
     "start_time": "2024-09-09T10:25:12.013836Z"
    }
   },
   "id": "74cd4b33af1bdf80"
  },
  {
   "cell_type": "markdown",
   "source": [
    "# Coherence of text"
   ],
   "metadata": {
    "collapsed": false
   },
   "id": "5b6a548ad2702f31"
  },
  {
   "cell_type": "code",
   "execution_count": 43,
   "outputs": [
    {
     "name": "stdout",
     "output_type": "stream",
     "text": [
      "{'N': 2172, 'coe': 0.3072362145423442, 'p': 3.582361254508835e-25}\n"
     ]
    }
   ],
   "source": [
    "file = 'Q6-text_coherence.csv'\n",
    "post_resp_label_2 = pd.DataFrame(columns=['post_id', 'response_id', 'username', 'label'])\n",
    "for user in all_users:\n",
    "    label2num = dict(zip(['Barely Coherent and Logical', 'Partially Coherent and Logical', 'Coherent and Logical'], [0,0.5,1]))\n",
    "    df_eval = pd.read_csv(path + file, dtype=str)\n",
    "    df_eval = df_eval[~df_eval['post_id'].isin(phase_1_post_ids)]\n",
    "    df_eval['label'] = df_eval['label'].fillna('nan')\n",
    "    temp = df_eval[df_eval['username'] == user][['post_id', 'response_id', 'username', 'label']]\n",
    "    temp['label'] = [label2num[l] if l!='nan' else 'nan' for l in temp['label']]\n",
    "    post_resp_label_2 = pd.concat((post_resp_label_2, temp))\n",
    "\n",
    "post_resp_label = post_resp_label_1.merge(post_resp_label_2, on=['post_id', 'response_id', 'username'], how='left')\n",
    "post_resp_label = post_resp_label[(post_resp_label['label_x']<=thr_max) & (post_resp_label['label_x']>=thr_min)]\n",
    "post_resp_label = post_resp_label[post_resp_label['label_y'] != 'nan']\n",
    "res = spearmanr(post_resp_label[['label_x', 'label_y']])\n",
    "results[file] = {'N': post_resp_label.shape[0]*2, 'coe': res.correlation, 'p': res.pvalue}\n",
    "pprint(results[file])"
   ],
   "metadata": {
    "collapsed": false,
    "ExecuteTime": {
     "end_time": "2024-09-09T10:25:12.206157Z",
     "start_time": "2024-09-09T10:25:12.111132Z"
    }
   },
   "id": "1ac5c595af064143"
  },
  {
   "cell_type": "markdown",
   "source": [
    "# Toxicity of text"
   ],
   "metadata": {
    "collapsed": false
   },
   "id": "e16253b98782475f"
  },
  {
   "cell_type": "code",
   "execution_count": 44,
   "outputs": [
    {
     "name": "stdout",
     "output_type": "stream",
     "text": [
      "{'N': 2248, 'coe': 0.18467949661608205, 'p': 4.419797814316746e-10}\n"
     ]
    }
   ],
   "source": [
    "file = 'Q7-text_toxicity.csv'\n",
    "post_resp_label_2 = pd.DataFrame(columns=['post_id', 'response_id', 'username', 'label'])\n",
    "for user in all_users:\n",
    "    label2num = dict(zip(['Yes', 'No'], [0,1]))\n",
    "    df_eval = pd.read_csv(path + file, dtype=str)\n",
    "    df_eval = df_eval[~df_eval['post_id'].isin(phase_1_post_ids)]\n",
    "    df_eval['label'] = df_eval['label'].fillna('nan')\n",
    "    temp = df_eval[df_eval['username'] == user][['post_id', 'response_id', 'username', 'label']]\n",
    "    temp['label'] = [label2num[l] if l!='nan' else 'nan' for l in temp['label']]\n",
    "    post_resp_label_2 = pd.concat((post_resp_label_2, temp))\n",
    "\n",
    "post_resp_label = post_resp_label_1.merge(post_resp_label_2, on=['post_id', 'response_id', 'username'], how='left')\n",
    "post_resp_label = post_resp_label[(post_resp_label['label_x']<=thr_max) & (post_resp_label['label_x']>=thr_min)]\n",
    "post_resp_label = post_resp_label[post_resp_label['label_y'] != 'nan']\n",
    "res = spearmanr(post_resp_label[['label_x', 'label_y']])\n",
    "results[file] = {'N': post_resp_label.shape[0]*2, 'coe': res.correlation, 'p': res.pvalue}\n",
    "pprint(results[file])"
   ],
   "metadata": {
    "collapsed": false,
    "ExecuteTime": {
     "end_time": "2024-09-09T10:25:12.305969Z",
     "start_time": "2024-09-09T10:25:12.208907Z"
    }
   },
   "id": "610a4070b0bbd190"
  },
  {
   "cell_type": "markdown",
   "source": [
    "# Reachability of references"
   ],
   "metadata": {
    "collapsed": false
   },
   "id": "311fab85dd285f79"
  },
  {
   "cell_type": "code",
   "execution_count": 45,
   "outputs": [
    {
     "name": "stdout",
     "output_type": "stream",
     "text": [
      "{'N': 2008, 'coe': 0.12890789572129807, 'p': 4.1928929806905734e-05}\n"
     ]
    }
   ],
   "source": [
    "file = 'Q8-reference_reachability.csv'\n",
    "post_resp_label_2 = pd.DataFrame(columns=['post_id', 'response_id', 'username', 'label'])\n",
    "for user in all_users:\n",
    "    label2num = dict(zip(['No', 'Yes'], [0,1]))\n",
    "    df_eval = pd.read_csv(path + file, dtype=str)\n",
    "    df_eval = df_eval[~df_eval['post_id'].isin(phase_1_post_ids)]\n",
    "    df_eval['label'] = df_eval['label'].fillna('nan')\n",
    "    temp = df_eval[df_eval['username'] == user][['post_id', 'response_id', 'username', 'label', 'response_url_id']]\n",
    "    temp['label'] = [label2num[l] if l!='nan' else 'nan' for l in temp['label']]\n",
    "    temp_uni = temp[['post_id', 'response_id', 'username']].drop_duplicates()\n",
    "    temp_uni['label'] = ['nan'] * temp_uni.shape[0]\n",
    "    for idx, row in temp_uni.iterrows():\n",
    "        temp_uni['label'][idx] = temp[(temp['post_id']==row['post_id']) & (temp['response_id']==row['response_id'])]['label'].mean()\n",
    "    post_resp_label_2 = pd.concat((post_resp_label_2, temp_uni))\n",
    "\n",
    "post_resp_label = post_resp_label_1.merge(post_resp_label_2, on=['post_id', 'response_id', 'username'], how='left')\n",
    "post_resp_label = post_resp_label[(post_resp_label['label_x']<=thr_max) & (post_resp_label['label_x']>=thr_min)]\n",
    "post_resp_label['label_y'] = post_resp_label['label_y'].fillna('nan')\n",
    "post_resp_label = post_resp_label[post_resp_label['label_y'] != 'nan']\n",
    "res = spearmanr(post_resp_label[['label_x', 'label_y']])\n",
    "results[file] = {'N': post_resp_label.shape[0]*2, 'coe': res.correlation, 'p': res.pvalue}\n",
    "pprint(results[file])"
   ],
   "metadata": {
    "collapsed": false,
    "ExecuteTime": {
     "end_time": "2024-09-09T10:25:13.147771Z",
     "start_time": "2024-09-09T10:25:12.311110Z"
    }
   },
   "id": "20e99fb7d67a1f5c"
  },
  {
   "cell_type": "markdown",
   "source": [
    "# # Credibility of references"
   ],
   "metadata": {
    "collapsed": false
   },
   "id": "86986b5ffd08ddf5"
  },
  {
   "cell_type": "code",
   "execution_count": 46,
   "outputs": [
    {
     "name": "stdout",
     "output_type": "stream",
     "text": [
      "{'N': 1816, 'coe': 0.13673874280326562, 'p': 3.5633201655553735e-05}\n"
     ]
    }
   ],
   "source": [
    "file = 'Q8.1-reference_credibility.csv'\n",
    "post_resp_label_2 = pd.DataFrame(columns=['post_id', 'response_id', 'username', 'label'])\n",
    "for user in all_users:\n",
    "    label2num = dict(zip(['Low Not Informed','Medium','High','Very High'], [0,1/3,2/3,1]))\n",
    "    df_eval = pd.read_csv(path + file, dtype=str)\n",
    "    df_eval = df_eval[~df_eval['post_id'].isin(phase_1_post_ids)]\n",
    "    df_eval['label'] = df_eval['label'].fillna('nan')\n",
    "    temp = df_eval[df_eval['username'] == user][['post_id', 'response_id', 'username', 'label', 'response_url_id']]\n",
    "    temp['label'] = [label2num[l] if l in label2num.keys() else 'nan' for l in temp['label']]\n",
    "    temp = temp[temp['label'] != 'nan']\n",
    "    temp_uni = temp[['post_id', 'response_id', 'username']].drop_duplicates()\n",
    "    temp_uni['label'] = ['nan'] * temp_uni.shape[0]\n",
    "    for idx, row in temp_uni.iterrows():\n",
    "        temp_uni['label'][idx] = temp[(temp['post_id']==row['post_id']) & (temp['response_id']==row['response_id'])]['label'].mean()\n",
    "    post_resp_label_2 = pd.concat((post_resp_label_2, temp_uni))\n",
    "\n",
    "post_resp_label = post_resp_label_1.merge(post_resp_label_2, on=['post_id', 'response_id', 'username'], how='left')\n",
    "post_resp_label = post_resp_label[(post_resp_label['label_x']<=thr_max) & (post_resp_label['label_x']>=thr_min)]\n",
    "post_resp_label['label_y'] = post_resp_label['label_y'].fillna('nan')\n",
    "post_resp_label = post_resp_label[post_resp_label['label_y'] != 'nan']\n",
    "res = spearmanr(post_resp_label[['label_x', 'label_y']])\n",
    "results[file] = {'N': post_resp_label.shape[0]*2, 'coe': res.correlation, 'p': res.pvalue}\n",
    "pprint(results[file])"
   ],
   "metadata": {
    "collapsed": false,
    "ExecuteTime": {
     "end_time": "2024-09-09T10:25:13.677998Z",
     "start_time": "2024-09-09T10:25:13.145771Z"
    }
   },
   "id": "1433f1afc0e6bf05"
  },
  {
   "cell_type": "code",
   "execution_count": 47,
   "outputs": [
    {
     "name": "stdout",
     "output_type": "stream",
     "text": [
      "{'N': 1818, 'coe': 0.14456437391398477, 'p': 1.2111631235950632e-05}\n"
     ]
    }
   ],
   "source": [
    "file = 'Q8.2-reference_relevance.csv'\n",
    "post_resp_label_2 = pd.DataFrame(columns=['post_id', 'response_id', 'username', 'label'])\n",
    "for user in all_users:\n",
    "    label2num = dict(zip(['No', 'Yes'], [0, 1]))\n",
    "    df_eval = pd.read_csv(path + file, dtype=str)\n",
    "    df_eval = df_eval[~df_eval['post_id'].isin(phase_1_post_ids)]\n",
    "    df_eval['label'] = df_eval['label'].fillna('nan')\n",
    "    temp = df_eval[df_eval['username'] == user][['post_id', 'response_id', 'username', 'label', 'response_url_id']]\n",
    "    temp['label'] = [label2num[l] if l in label2num.keys() else 'nan' for l in temp['label']]\n",
    "    temp = temp[temp['label'] != 'nan']\n",
    "    temp_uni = temp[['post_id', 'response_id', 'username']].drop_duplicates()\n",
    "    temp_uni['label'] = ['nan'] * temp_uni.shape[0]\n",
    "    for idx, row in temp_uni.iterrows():\n",
    "        temp_uni['label'][idx] = temp[(temp['post_id']==row['post_id']) & (temp['response_id']==row['response_id'])]['label'].mean()\n",
    "    post_resp_label_2 = pd.concat((post_resp_label_2, temp_uni))\n",
    "\n",
    "post_resp_label = post_resp_label_1.merge(post_resp_label_2, on=['post_id', 'response_id', 'username'], how='left')\n",
    "post_resp_label = post_resp_label[(post_resp_label['label_x']<=thr_max) & (post_resp_label['label_x']>=thr_min)]\n",
    "post_resp_label['label_y'] = post_resp_label['label_y'].fillna('nan')\n",
    "post_resp_label = post_resp_label[post_resp_label['label_y'] != 'nan']\n",
    "res = spearmanr(post_resp_label[['label_x', 'label_y']])\n",
    "results[file] = {'N': post_resp_label.shape[0]*2, 'coe': res.correlation, 'p': res.pvalue}\n",
    "pprint(results[file])"
   ],
   "metadata": {
    "collapsed": false,
    "ExecuteTime": {
     "end_time": "2024-09-09T10:25:14.187309Z",
     "start_time": "2024-09-09T10:25:13.682187Z"
    }
   },
   "id": "4ce524fc72acea7a"
  },
  {
   "cell_type": "code",
   "execution_count": 48,
   "outputs": [
    {
     "data": {
      "text/plain": "<Figure size 250x480 with 1 Axes>",
      "image/png": "[encoded data removed]"
     },
     "metadata": {},
     "output_type": "display_data"
    }
   ],
   "source": [
    "plt.style.use('default')\n",
    "plt.rcParams['font.family'] = 'Helvetica'\n",
    "matplotlib.rcParams['font.size'] = 10.5\n",
    "\n",
    "files = results.keys()\n",
    "labels = [\n",
    "    'Explicitness of identifications & explanations',\n",
    "    'Accurate identifications',\n",
    "    'Comprehensiveness of accurate identifications',\n",
    "    'Accuracy of explanations',\n",
    "    'Informativeness of accurate explanations',\n",
    "    'Relevance of text',\n",
    "    'Factuality of text',\n",
    "    'Fluency of text',\n",
    "    'Coherence of text',\n",
    "    'Toxicity of text',\n",
    "    'Reachability of references',\n",
    "    'Credibility of references',\n",
    "    'Relevance of references'\n",
    "]\n",
    "ns = [results[f]['N'] for f in files]\n",
    "coes = [results[f]['coe'] for f in files]\n",
    "ps = [results[f]['p'] for f in files]\n",
    "\n",
    "fig, ax = plt.subplots(figsize=(2.5, 4.8))\n",
    "plt.barh(y=labels[::-1], width=coes[::-1], color='#339989')\n",
    "plt.xlabel(r\"Spearman's $\\rho$\")\n",
    "plt.xlim([0,0.9])\n",
    "plt.xticks([0,0.3,0.6,0.9])\n",
    "plt.setp(ax.spines.values(), color='k', linewidth=0.75)\n",
    "ax.yaxis.set_tick_params(width=0.75)\n",
    "ax.set_axisbelow(True)\n",
    "ax.grid(axis='x', color='#F3EBE1', linewidth=0.7)"
   ],
   "metadata": {
    "collapsed": false,
    "ExecuteTime": {
     "end_time": "2024-09-09T10:25:14.308852Z",
     "start_time": "2024-09-09T10:25:14.205295Z"
    }
   },
   "id": "fded854826266d60"
  }
 ],
 "metadata": {
  "kernelspec": {
   "display_name": "Python 3",
   "language": "python",
   "name": "python3"
  },
  "language_info": {
   "codemirror_mode": {
    "name": "ipython",
    "version": 2
   },
   "file_extension": ".py",
   "mimetype": "text/x-python",
   "name": "python",
   "nbconvert_exporter": "python",
   "pygments_lexer": "ipython2",
   "version": "2.7.6"
  }
 },
 "nbformat": 4,
 "nbformat_minor": 5
}
