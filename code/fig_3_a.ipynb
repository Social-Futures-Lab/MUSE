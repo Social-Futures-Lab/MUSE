{
 "cells": [
  {
   "cell_type": "code",
   "execution_count": 1,
   "id": "initial_id",
   "metadata": {
    "collapsed": true,
    "ExecuteTime": {
     "end_time": "2024-04-26T08:22:52.675833Z",
     "start_time": "2024-04-26T08:22:51.634572Z"
    }
   },
   "outputs": [],
   "source": [
    "import pandas as pd\n",
    "from pprint import pprint\n",
    "import matplotlib.pyplot as plt\n",
    "import numpy as np\n",
    "import matplotlib\n",
    "from scipy.stats import mannwhitneyu\n",
    "\n",
    "# all the correction approaches\n",
    "all_methods = [\n",
    "    'note_1_text',\n",
    "    'note_2_text',\n",
    "    'correction_response (ours, time reference: high-qual note)',\n",
    "    'correction_response (ours, time reference: avg-qual note)',\n",
    "    'correction_response (ours removing {retrieval+image}, i.e., vanilla gpt-4)',\n",
    "    'correction_response (ours removing retrieval)',\n",
    "    'correction_response (ours removing image)',\n",
    "    'correction_response (ours, time reference: tweet)'\n",
    "]\n",
    "\n",
    "# all the annotations who completed the tasks\n",
    "all_users = [  \n",
    "    'group1_user1',\n",
    "    'group1_user2',\n",
    "    'group2_user1',\n",
    "    'group2_user2',  \n",
    "    'group3_user1',\n",
    "    'group3_user2',\n",
    "    'group4_user1',\n",
    "    'group4_user2',\n",
    "    'group5_user1',\n",
    "    'group5_user2'\n",
    "]\n",
    "\n",
    "# plot setup \n",
    "plt.style.use('default')\n",
    "plt.rcParams['font.family'] = 'Helvetica'\n",
    "\n",
    "matplotlib.rcParams['font.size'] = 10\n",
    "\n",
    "target_methods_mapping = {\n",
    "    'correction_response (ours, time reference: tweet)': 'MUSE',\n",
    "    'correction_response (ours removing {retrieval+image}, i.e., vanilla gpt-4)': 'GPT-4',\n",
    "    'note_1_text': 'Laypeople (high)',\n",
    "    'note_2_text': 'Laypeople (avg)'\n",
    "}\n",
    "\n",
    "method_color = {\n",
    "    'MUSE': '#8798C4',\n",
    "    'GPT-4': '#BABFD4',\n",
    "    'Laypeople (high)': '#F8D3A6',\n",
    "    'Laypeople (avg)': '#F7E6CC'\n",
    "}\n",
    "\n",
    "method_marker = {\n",
    "    'MUSE': 's',\n",
    "    'GPT-4': 'o',\n",
    "    'Laypeople (high)': '>',\n",
    "    'Laypeople (avg)': '<'\n",
    "}\n"
   ]
  },
  {
   "cell_type": "code",
   "execution_count": 2,
   "outputs": [],
   "source": [
    "path = '../data/'\n",
    "\n",
    "# process annotations\n",
    "df_eval = pd.read_csv(path + 'Q9-overall_quality.csv', dtype=str)\n",
    "phase_1_post_ids = ['100', '107', '110', '114', '118', '119', '124', '128', '142', '144', '149', '152', '163', '173', '184']\n",
    "df_eval = df_eval[~df_eval['post_id'].isin(phase_1_post_ids)]\n",
    "\n",
    "# process responses\n",
    "postId_tweetId = pd.read_csv(path + 'tweetid_postid.csv', dtype=str)\n",
    "df_resp_mm = pd.read_csv(path + 'responses_multimodal.csv', dtype=str)\n",
    "df_resp_mm = df_resp_mm.merge(postId_tweetId, on='tweet_id', how='left')\n",
    "df_resp_mm['tweet_modality'] = ['multimodal'] * df_resp_mm.shape[0]\n",
    "df_resp_um = pd.read_csv(path + 'responses_unimodal.csv', dtype=str)\n",
    "df_resp_um = df_resp_um.merge(postId_tweetId, on='tweet_id', how='left')\n",
    "df_resp_um['tweet_modality'] = ['unimodal'] * df_resp_um.shape[0]\n",
    "df_resp = pd.concat((df_resp_mm, df_resp_um))\n",
    "df_resp = df_resp.fillna('nan')\n",
    "\n",
    "postId_tweetModality = dict(zip(df_resp['post_id'], df_resp['tweet_modality']))\n",
    "\n",
    "# get the post ids whose responses were evaluated by one participant only\n",
    "userName_tweetIds = pd.read_csv(path + 'username_tweetids.csv', dtype=str)\n",
    "userName_tweetIds = dict(zip(userName_tweetIds['username'], [tweet_ids.split(';') for tweet_ids in userName_tweetIds['tweet_ids']]))\n",
    "\n",
    "tweetId_postId = pd.read_csv(path + 'tweetid_postid.csv', dtype=str)\n",
    "tweetId_postId = dict(zip(tweetId_postId['tweet_id'], tweetId_postId['post_id']))\n",
    "\n",
    "userName_postIds = {}\n",
    "for username, tweet_ids in userName_tweetIds.items():\n",
    "    if username in all_users:\n",
    "        userName_postIds[username] = [tweetId_postId[tweet_id] for tweet_id in tweet_ids]\n",
    "\n",
    "userName_postIds_2 = {}\n",
    "for group_num in range(1, 6):\n",
    "    u0, u1 = 'group'+str(group_num)+'_user1', 'group'+str(group_num)+'_user2'\n",
    "    post_ids_u0 = set(userName_postIds[u0])\n",
    "    post_ids_u1 = set(userName_postIds[u1])\n",
    "    post_ids_u0_unique = post_ids_u0.difference(post_ids_u1)\n",
    "    post_ids_u1_unique = post_ids_u1.difference(post_ids_u0)\n",
    "\n",
    "    userName_postIds_2[u0] = list(post_ids_u0_unique)\n",
    "    userName_postIds_2[u1] = list(post_ids_u1_unique)\n",
    "    \n",
    "# get the labels for each approach\n",
    "methods, scores, modalities = [], [], []\n",
    "for user in all_users:\n",
    "    post_ids = df_eval[df_eval['username'] == user]['post_id'].unique()\n",
    "    for post_id in post_ids:\n",
    "        method_label, method_modality = {}, {}\n",
    "\n",
    "        df = df_eval[(df_eval['username'] == user) & (df_eval['post_id'] == post_id)]\n",
    "\n",
    "        methods_included = df['response_type'].unique()\n",
    "        for method in methods_included:\n",
    "            labels = list(df[df['response_type'] == method]['label'])\n",
    "            modality = postId_tweetModality[post_id]\n",
    "\n",
    "            if len(labels) != 1:\n",
    "                print('ERROR')\n",
    "            else:\n",
    "                methods.append(method)\n",
    "                scores.append(labels[0])\n",
    "                modalities.append(modality)\n",
    "                if post_id in userName_postIds_2[user]:\n",
    "                    methods.append(method)\n",
    "                    scores.append(labels[0])\n",
    "                    modalities.append(modality)\n",
    "                method_label[method] = labels[0]\n",
    "                method_modality[method] = modality\n",
    "\n",
    "        methods_excluded = set(all_methods).difference(set(methods_included))\n",
    "        for method in methods_excluded:\n",
    "            responses = list(df_resp[df_resp['post_id'] == post_id][method])\n",
    "\n",
    "            if len(responses) != 1:\n",
    "                print('ERROR')\n",
    "            else:\n",
    "                if responses[0] == 'nan':\n",
    "                    continue\n",
    "                elif responses[0] == '~':\n",
    "                    methods.append(method)\n",
    "                    scores.append(method_label['correction_response (ours, time reference: high-qual note)'])\n",
    "                    modalities.append(method_modality['correction_response (ours, time reference: high-qual note)'])\n",
    "                    if post_id in userName_postIds_2[user]:\n",
    "                        methods.append(method)\n",
    "                        scores.append(method_label['correction_response (ours, time reference: high-qual note)'])\n",
    "                        modalities.append(method_modality['correction_response (ours, time reference: high-qual note)'])\n",
    "                elif responses[0] == '|||':\n",
    "                    methods.append(method)\n",
    "                    scores.append(method_label['correction_response (ours, time reference: avg-qual note)'])\n",
    "                    modalities.append(method_modality['correction_response (ours, time reference: avg-qual note)'])\n",
    "                    if post_id in userName_postIds_2[user]:\n",
    "                        methods.append(method)\n",
    "                        scores.append(method_label['correction_response (ours, time reference: avg-qual note)'])\n",
    "                        modalities.append(method_modality['correction_response (ours, time reference: avg-qual note)'])\n",
    "                elif responses[0] == '///':\n",
    "                    methods.append(method)\n",
    "                    scores.append(method_label['correction_response (ours removing {retrieval+image}, i.e., vanilla gpt-4)'])\n",
    "                    modalities.append(method_modality['correction_response (ours removing {retrieval+image}, i.e., vanilla gpt-4)'])\n",
    "                    if post_id in userName_postIds_2[user]:\n",
    "                        methods.append(method)\n",
    "                        scores.append(method_label['correction_response (ours removing {retrieval+image}, i.e., vanilla gpt-4)'])\n",
    "                        modalities.append(method_modality['correction_response (ours removing {retrieval+image}, i.e., vanilla gpt-4)'])\n",
    "                elif responses[0] == '*':\n",
    "                    methods.append(method)\n",
    "                    scores.append(method_label['correction_response (ours removing retrieval)'])\n",
    "                    modalities.append(method_modality['correction_response (ours removing retrieval)'])\n",
    "                    if post_id in userName_postIds_2[user]:\n",
    "                        methods.append(method)\n",
    "                        scores.append(method_label['correction_response (ours removing retrieval)'])\n",
    "                        modalities.append(method_modality['correction_response (ours removing retrieval)'])\n",
    "                elif responses[0] == '$':\n",
    "                    methods.append(method)\n",
    "                    scores.append(method_label['correction_response (ours removing image)'])\n",
    "                    modalities.append(method_modality['correction_response (ours removing image)'])\n",
    "                    if post_id in userName_postIds_2[user]:\n",
    "                        methods.append(method)\n",
    "                        scores.append(method_label['correction_response (ours removing image)'])\n",
    "                        modalities.append(method_modality['correction_response (ours removing image)'])\n",
    "\n",
    "df = pd.DataFrame({\n",
    "    'Method': methods,\n",
    "    'Quality': scores,\n",
    "    'Modality': modalities\n",
    "})\n",
    "\n",
    "df = {\n",
    "    \"Multimodal\": df[df['Modality'] == 'multimodal'][['Method', 'Quality']],\n",
    "    \"Unimodal\": df[df['Modality'] == 'unimodal'][['Method', 'Quality']]\n",
    "}\n",
    "\n",
    "dict_plot = {key: {} for key in df.keys()}\n",
    "for key, value in df.items():\n",
    "    for method in target_methods_mapping.keys():\n",
    "        scores = list(value[value['Method'] == method]['Quality'])\n",
    "        scores = np.array([int(s) for s in scores])\n",
    "        dict_plot[key][target_methods_mapping[method]] = scores\n",
    "    dict_plot[key] = {method: scores for method, scores in dict_plot[key].items()}"
   ],
   "metadata": {
    "collapsed": false,
    "ExecuteTime": {
     "end_time": "2024-04-26T08:22:53.144025Z",
     "start_time": "2024-04-26T08:22:52.686511Z"
    }
   },
   "id": "b43ae03a749c42d9"
  },
  {
   "cell_type": "markdown",
   "source": [
    "Compute N/n"
   ],
   "metadata": {
    "collapsed": false
   },
   "id": "59c915edbb3392a0"
  },
  {
   "cell_type": "code",
   "execution_count": 3,
   "outputs": [
    {
     "name": "stdout",
     "output_type": "stream",
     "text": [
      "75\n",
      "77\n",
      "77\n",
      "77\n",
      "\n",
      "155\n",
      "155\n",
      "155\n",
      "155\n"
     ]
    }
   ],
   "source": [
    "print(int(len(dict_plot['Multimodal']['Laypeople (avg)'])/2))\n",
    "print(int(len(dict_plot['Multimodal']['Laypeople (high)'])/2))\n",
    "print(int(len(dict_plot['Multimodal']['GPT-4'])/2))\n",
    "print(int(len(dict_plot['Multimodal']['MUSE'])/2))\n",
    "\n",
    "print()\n",
    "print(int(len(dict_plot['Unimodal']['Laypeople (avg)'])/2))\n",
    "print(int(len(dict_plot['Unimodal']['Laypeople (high)'])/2))\n",
    "print(int(len(dict_plot['Unimodal']['GPT-4'])/2))\n",
    "print(int(len(dict_plot['Unimodal']['MUSE'])/2))"
   ],
   "metadata": {
    "collapsed": false,
    "ExecuteTime": {
     "end_time": "2024-04-26T08:22:53.149859Z",
     "start_time": "2024-04-26T08:22:53.146635Z"
    }
   },
   "id": "8d335c0ea8ef97fb"
  },
  {
   "cell_type": "markdown",
   "source": [
    "Compute avg/std"
   ],
   "metadata": {
    "collapsed": false
   },
   "id": "b17175cac563baf7"
  },
  {
   "cell_type": "code",
   "execution_count": 4,
   "outputs": [
    {
     "name": "stdout",
     "output_type": "stream",
     "text": [
      "{'Multimodal': {'GPT-4': 4.785714285714286,\n",
      "                'Laypeople (avg)': 5.42,\n",
      "                'Laypeople (high)': 6.240259740259741,\n",
      "                'MUSE': 7.4935064935064934},\n",
      " 'Unimodal': {'GPT-4': 6.493548387096774,\n",
      "              'Laypeople (avg)': 5.058064516129032,\n",
      "              'Laypeople (high)': 6.290322580645161,\n",
      "              'MUSE': 8.438709677419356}}\n",
      "\n",
      "{'Multimodal': {'GPT-4': 2.737342264243567,\n",
      "                'Laypeople (avg)': 2.040490137197433,\n",
      "                'Laypeople (high)': 2.144322600042838,\n",
      "                'MUSE': 2.3417352685860227},\n",
      " 'Unimodal': {'GPT-4': 2.5115777696141484,\n",
      "              'Laypeople (avg)': 2.0720527757552625,\n",
      "              'Laypeople (high)': 1.890443682127708,\n",
      "              'MUSE': 1.7637345677256027}}\n"
     ]
    }
   ],
   "source": [
    "method_mean = {key: {} for key in dict_plot.keys()}\n",
    "method_std = {key: {} for key in dict_plot.keys()}\n",
    "for key, value in dict_plot.items():\n",
    "    method_mean[key] = {method: np.mean(scores) for method, scores in dict_plot[key].items()}\n",
    "    method_std[key] = {method: np.std(scores) for method, scores in dict_plot[key].items()}\n",
    "\n",
    "pprint(method_mean)\n",
    "\n",
    "print()\n",
    "pprint(method_std)"
   ],
   "metadata": {
    "collapsed": false,
    "ExecuteTime": {
     "end_time": "2024-04-26T08:22:53.154951Z",
     "start_time": "2024-04-26T08:22:53.152496Z"
    }
   },
   "id": "3d94a41e5026e3c4"
  },
  {
   "cell_type": "markdown",
   "source": [
    "Plot"
   ],
   "metadata": {
    "collapsed": false
   },
   "id": "43b1742e4c3087b8"
  },
  {
   "cell_type": "code",
   "execution_count": 5,
   "outputs": [
    {
     "data": {
      "text/plain": "Text(11.4, 1.2, '$p=0.0007$')"
     },
     "execution_count": 5,
     "metadata": {},
     "output_type": "execute_result"
    },
    {
     "data": {
      "text/plain": "<Figure size 600x200 with 1 Axes>",
      "image/png": "[encoded data removed]"
     },
     "metadata": {},
     "output_type": "display_data"
    }
   ],
   "source": [
    "fig, ax = plt.subplots(figsize=(6, 2))\n",
    "\n",
    "linestyle = ['-', '--']\n",
    "delta = [-0.3, -0.1, 0.1, 0.3]\n",
    "for i in range(len(method_mean.keys())):\n",
    "    for j, method in enumerate(method_color.keys()):\n",
    "        if i == 0:\n",
    "            ax.errorbar(method_mean[list(method_mean.keys())[i]][method], i + 1 + delta[j],\n",
    "                        xerr=method_std[list(method_mean.keys())[i]][method], label = method,\n",
    "                        elinewidth=1, marker=method_marker[method], color=method_color[method])\n",
    "        else:\n",
    "            ax.errorbar(method_mean[list(method_mean.keys())[i]][method], i + 1 + delta[j],\n",
    "                        xerr=method_std[list(method_mean.keys())[i]][method],\n",
    "                        elinewidth=1, marker=method_marker[method], color=method_color[method])\n",
    "\n",
    "ax.set_xlim([1.5, 13])\n",
    "ax.set_xticks(ticks=[2,4,6,8,10])\n",
    "ax.set_yticks(ticks=[1, 2], labels=['Text + images', 'Text'])\n",
    "ax.xaxis.set_label_position('top')\n",
    "plt.setp(ax.spines.values(), color='k', linewidth=1)\n",
    "ax.tick_params(top=False, labeltop=True, bottom=False, labelbottom=False, axis='x', pad=-1.5)\n",
    "ax.set_ylim([0.5, 2.5])\n",
    "ax.yaxis.set_tick_params(width=1)\n",
    "ax.spines['right'].set_visible(False)\n",
    "ax.spines['top'].set_visible(False)\n",
    "ax.spines['bottom'].set_visible(False)\n",
    "ax.set_axisbelow(True)\n",
    "ax.grid(axis='x', color='#F6F2EC', linewidth=1)\n",
    "\n",
    "handles, labels = ax.get_legend_handles_labels()\n",
    "order = [3,2,1,0]\n",
    "lgnd = ax.legend([handles[idx] for idx in order],[labels[idx] for idx in order],\n",
    "          loc='lower left', facecolor='w', edgecolor='w', framealpha=1, fancybox=False,\n",
    "          handletextpad=0.5, borderpad=0.2, labelspacing=0.25, columnspacing=1.5, \n",
    "          bbox_to_anchor=(-0.15, 1.2), ncol=4)\n",
    "lgnd.get_texts()[3].set_color('#8798C4')\n",
    "lgnd.get_texts()[3].set_fontweight('bold')\n",
    "\n",
    "x1, x2 = 10.5, 11\n",
    "d = 0.4\n",
    "font_medium = 8.5\n",
    "\n",
    "ax.annotate('', xy=(x1, 2+delta[2]), xytext=(x1, 2+delta[1]), arrowprops=dict(arrowstyle='-', lw=0.75, color='k'))\n",
    "ax.text(x1+d, (4+delta[2]+delta[1])/2, r'$p=0.02$', va='center', ha='right', fontsize=font_medium, rotation=-90)\n",
    "\n",
    "ax.annotate('', xy=(x1, 1+delta[3]), xytext=(x1, 1+delta[1]), arrowprops=dict(arrowstyle='-', lw=0.75, color='k'))\n",
    "ax.text(x1+d, (2+delta[3]+delta[1])/2, r'$p=0.07$', va='center', ha='right', fontsize=font_medium, rotation=-90)\n",
    "ax.annotate('', xy=(x2, 1+delta[3]), xytext=(x2, 1+delta[2]), arrowprops=dict(arrowstyle='-', lw=0.75, color='k'))\n",
    "ax.text(x2+d, (2+delta[3]+delta[2])/2, r'$p=0.0007$', va='center', ha='right', fontsize=font_medium, rotation=-90)"
   ],
   "metadata": {
    "collapsed": false,
    "ExecuteTime": {
     "end_time": "2024-04-26T08:22:53.486844Z",
     "start_time": "2024-04-26T08:22:53.166286Z"
    }
   },
   "id": "4127778bcba38daf"
  },
  {
   "cell_type": "markdown",
   "source": [
    "Compute p-val"
   ],
   "metadata": {
    "collapsed": false
   },
   "id": "391bbf1c7411320c"
  },
  {
   "cell_type": "code",
   "execution_count": 6,
   "outputs": [
    {
     "name": "stdout",
     "output_type": "stream",
     "text": [
      "{'Multimodal': {('GPT-4', 'Laypeople (avg)'): 0.07228490381438565,\n",
      "                ('GPT-4', 'Laypeople (high)'): 5.278935058910068e-06,\n",
      "                ('Laypeople (high)', 'Laypeople (avg)'): 0.0007247089860654854,\n",
      "                ('MUSE', 'GPT-4'): 6.431392073671529e-18,\n",
      "                ('MUSE', 'Laypeople (avg)'): 1.3107842467257403e-16,\n",
      "                ('MUSE', 'Laypeople (high)'): 2.6951446871703828e-08},\n",
      " 'Unimodal': {('GPT-4', 'Laypeople (avg)'): 5.008443507753472e-16,\n",
      "              ('GPT-4', 'Laypeople (high)'): 0.02198175952357136,\n",
      "              ('Laypeople (high)', 'Laypeople (avg)'): 3.4223896384574063e-13,\n",
      "              ('MUSE', 'GPT-4'): 5.826616748337859e-28,\n",
      "              ('MUSE', 'Laypeople (avg)'): 1.4651275601682495e-67,\n",
      "              ('MUSE', 'Laypeople (high)'): 1.2193791195936524e-44}}\n"
     ]
    }
   ],
   "source": [
    "modality_method_pval = {key:{} for key in dict_plot.keys()}\n",
    "for key, val in dict_plot.items():\n",
    "    method_pairs = [(a, b) for idx, a in enumerate(method_color.keys()) for b in list(method_color.keys())[idx + 1:]]\n",
    "    for m1, m2 in method_pairs:\n",
    "        _, p = mannwhitneyu(val[m1], val[m2])\n",
    "        modality_method_pval[key][(m1, m2)] = p\n",
    "pprint(modality_method_pval)"
   ],
   "metadata": {
    "collapsed": false,
    "ExecuteTime": {
     "end_time": "2024-04-26T08:22:53.496832Z",
     "start_time": "2024-04-26T08:22:53.489091Z"
    }
   },
   "id": "950de2adc9dc64a0"
  }
 ],
 "metadata": {
  "kernelspec": {
   "display_name": "Python 3",
   "language": "python",
   "name": "python3"
  },
  "language_info": {
   "codemirror_mode": {
    "name": "ipython",
    "version": 2
   },
   "file_extension": ".py",
   "mimetype": "text/x-python",
   "name": "python",
   "nbconvert_exporter": "python",
   "pygments_lexer": "ipython2",
   "version": "2.7.6"
  }
 },
 "nbformat": 4,
 "nbformat_minor": 5
}
