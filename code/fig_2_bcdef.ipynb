{
 "cells": [
  {
   "cell_type": "code",
   "execution_count": 1,
   "id": "initial_id",
   "metadata": {
    "collapsed": true,
    "ExecuteTime": {
     "end_time": "2024-04-26T09:09:30.213278Z",
     "start_time": "2024-04-26T09:09:29.000312Z"
    }
   },
   "outputs": [],
   "source": [
    "import pandas as pd\n",
    "from pprint import pprint\n",
    "import matplotlib.pyplot as plt\n",
    "import numpy as np\n",
    "import matplotlib\n",
    "from scipy.stats import mannwhitneyu\n",
    "from collections import OrderedDict\n",
    "from collections import Counter\n",
    "\n",
    "all_methods = [\n",
    "    'note_1_text',\n",
    "    'note_2_text',\n",
    "    'correction_response (ours, time reference: high-qual note)',\n",
    "    'correction_response (ours, time reference: avg-qual note)',\n",
    "    'correction_response (ours removing {retrieval+image}, i.e., vanilla gpt-4)',\n",
    "    'correction_response (ours removing retrieval)',\n",
    "    'correction_response (ours removing image)',\n",
    "    'correction_response (ours, time reference: tweet)'\n",
    "]\n",
    "\n",
    "all_users = [  \n",
    "    'group1_user1',\n",
    "    'group1_user2',\n",
    "    'group2_user1',\n",
    "    'group2_user2',  \n",
    "    'group3_user1',\n",
    "    'group3_user2',\n",
    "    'group4_user1',\n",
    "    'group4_user2',\n",
    "    'group5_user1',\n",
    "    'group5_user2'\n",
    "]\n",
    "\n",
    "path = '../data/'\n",
    "\n",
    "phase_1_post_ids = ['100', '107', '110', '114', '118', '119', '124', '128', '142', '144', '149', '152', '163', '173', '184']\n",
    "\n",
    "# process responses\n",
    "postId_tweetId = pd.read_csv(path + 'tweetid_postid.csv', dtype=str)\n",
    "df_resp_mm = pd.read_csv(path + 'responses_multimodal.csv', dtype=str)\n",
    "df_resp_mm = df_resp_mm.merge(postId_tweetId, on='tweet_id', how='left')\n",
    "df_resp_um = pd.read_csv(path + 'responses_unimodal.csv', dtype=str)\n",
    "df_resp_um = df_resp_um.merge(postId_tweetId, on='tweet_id', how='left')\n",
    "df_resp = pd.concat((df_resp_mm, df_resp_um))\n",
    "df_resp = df_resp.fillna('nan')\n",
    "\n",
    "# get the post ids whose responses were evaluated by one participant only\n",
    "userName_tweetIds = pd.read_csv(path + 'username_tweetids.csv', dtype=str)\n",
    "userName_tweetIds = dict(zip(userName_tweetIds['username'], [tweet_ids.split(';') for tweet_ids in userName_tweetIds['tweet_ids']]))\n",
    "\n",
    "tweetId_postId = pd.read_csv(path + 'tweetid_postid.csv', dtype=str)\n",
    "tweetId_postId = dict(zip(tweetId_postId['tweet_id'], tweetId_postId['post_id']))\n",
    "\n",
    "userName_postIds = {}\n",
    "for username, tweet_ids in userName_tweetIds.items():\n",
    "    if username in all_users:\n",
    "        userName_postIds[username] = [tweetId_postId[tweet_id] for tweet_id in tweet_ids]\n",
    "\n",
    "userName_postIds_2 = {}\n",
    "for group_num in range(1, 6):\n",
    "    u0, u1 = 'group'+str(group_num)+'_user1', 'group'+str(group_num)+'_user2'\n",
    "    post_ids_u0 = set(userName_postIds[u0])\n",
    "    post_ids_u1 = set(userName_postIds[u1])\n",
    "    post_ids_u0_unique = post_ids_u0.difference(post_ids_u1)\n",
    "    post_ids_u1_unique = post_ids_u1.difference(post_ids_u0)\n",
    "\n",
    "    userName_postIds_2[u0] = list(post_ids_u0_unique)\n",
    "    userName_postIds_2[u1] = list(post_ids_u1_unique)\n",
    "    \n",
    "# plot setup \n",
    "plt.style.use('default')\n",
    "plt.rcParams['font.family'] = 'Helvetica'\n",
    "\n",
    "matplotlib.rcParams['font.size'] = 10.5\n",
    "\n",
    "target_methods_mapping = {\n",
    "    'correction_response (ours, time reference: tweet)': 'MUSE',\n",
    "    'correction_response (ours removing {retrieval+image}, i.e., vanilla gpt-4)': 'GPT-4',\n",
    "    'note_1_text': 'Laypeople (high)',\n",
    "    'note_2_text': 'Laypeople (avg)'\n",
    "}\n",
    "\n",
    "method_color = {\n",
    "    'Laypeople (avg)': '#F7E6CC',\n",
    "    'Laypeople (high)': '#F8D3A6',\n",
    "    'GPT-4': '#BABFD4',\n",
    "    'MUSE': '#8798C4'\n",
    "}\n",
    "\n",
    "fig_width, fig_height = 2.8, 1.4\n",
    "line_width = 0.75\n",
    "font_small, font_medium = 8.5, 9.5\n",
    "bbox_y = 1.08\n",
    "l1_x, l2_x, l3_x = 105, 117.5, 130\n",
    "x_lim = 130\n",
    "\n",
    "def num_on_stacked_bar(ax, threshold=4):\n",
    "    i = 1\n",
    "    for c in ax.containers:\n",
    "        if i == 1:\n",
    "            labels = [str(round(v.get_width())) + '%' if v.get_width() > threshold else '' for v in c]\n",
    "            ax.bar_label(c, labels=labels, label_type='center')\n",
    "            i = 0\n",
    "        else:\n",
    "            labels = [round(v.get_width()) if v.get_width() > threshold else '' for v in c]\n",
    "            ax.bar_label(c, labels=labels, label_type='center')\n",
    "            \n",
    "def adjacent_values(vals, q1, q3):\n",
    "    upper_adjacent_value = q3 + (q3 - q1) * 1.5\n",
    "    upper_adjacent_value = np.clip(upper_adjacent_value, q3, vals[-1])\n",
    "\n",
    "    lower_adjacent_value = q1 - (q3 - q1) * 1.5\n",
    "    lower_adjacent_value = np.clip(lower_adjacent_value, vals[0], q1)\n",
    "    return lower_adjacent_value, upper_adjacent_value"
   ]
  },
  {
   "cell_type": "markdown",
   "source": [
    "# Explicitness of correction"
   ],
   "metadata": {
    "collapsed": false
   },
   "id": "644fd98a6fe253a2"
  },
  {
   "cell_type": "code",
   "execution_count": 2,
   "outputs": [],
   "source": [
    "# process annotations\n",
    "df_eval = pd.read_csv(path + 'Q1-correction_explicitness.csv', dtype=str)\n",
    "df_eval = df_eval[~df_eval['post_id'].isin(phase_1_post_ids)]\n",
    "    \n",
    "# get the labels for each approach\n",
    "data_dict = {method: [] for method in all_methods}\n",
    "for user in all_users:\n",
    "    post_ids = df_eval[df_eval['username'] == user]['post_id'].unique()\n",
    "    for post_id in post_ids:\n",
    "\n",
    "        method_label = {}\n",
    "\n",
    "        df = df_eval[(df_eval['username'] == user) & (df_eval['post_id'] == post_id)]\n",
    "\n",
    "        methods_included = df['response_type'].unique()\n",
    "\n",
    "        for method in methods_included:\n",
    "            labels = list(df[df['response_type'] == method]['label'])\n",
    "\n",
    "            if len(labels) != 1:\n",
    "                print('ERROR')\n",
    "            else:\n",
    "                data_dict[method].append(labels[0])\n",
    "                if post_id in userName_postIds_2[user]: # need to count one more time\n",
    "                    data_dict[method].append(labels[0])\n",
    "                method_label[method] = labels[0]\n",
    "\n",
    "        methods_excluded = set(all_methods).difference(set(methods_included))\n",
    "        for method in methods_excluded:\n",
    "            responses = list(df_resp[df_resp['post_id'] == post_id][method])\n",
    "\n",
    "            if len(responses) != 1:\n",
    "                print('ERROR')\n",
    "            else:\n",
    "                if responses[0] == 'nan':\n",
    "                    continue\n",
    "                elif responses[0] == '~':\n",
    "                    data_dict[method].append(method_label['correction_response (ours, time reference: high-qual note)'])\n",
    "                    if post_id in userName_postIds_2[user]:  # need to count twice\n",
    "                        data_dict[method].append(method_label['correction_response (ours, time reference: high-qual note)'])\n",
    "                elif responses[0] == '///':\n",
    "                    data_dict[method].append(method_label['correction_response (ours removing {retrieval+image}, i.e., vanilla gpt-4)'])\n",
    "                    if post_id in userName_postIds_2[user]:  # need to count twice\n",
    "                        data_dict[method].append(method_label['correction_response (ours removing {retrieval+image}, i.e., vanilla gpt-4)'])\n",
    "                elif responses[0] == '*':\n",
    "                    data_dict[method].append(method_label['correction_response (ours removing retrieval)'])\n",
    "                    if post_id in userName_postIds_2[user]:  # need to count twice\n",
    "                        data_dict[method].append(method_label['correction_response (ours removing retrieval)'])\n",
    "                elif responses[0] == '$':\n",
    "                    data_dict[method].append(method_label['correction_response (ours removing image)'])\n",
    "                    if post_id in userName_postIds_2[user]:  # need to count twice\n",
    "                        data_dict[method].append(method_label['correction_response (ours removing image)'])\n",
    "                elif responses[0] == '|||':\n",
    "                    data_dict[method].append(method_label['correction_response (ours, time reference: avg-qual note)'])\n",
    "                    if post_id in userName_postIds_2[user]:  # need to count twice\n",
    "                        data_dict[method].append(method_label['correction_response (ours, time reference: avg-qual note)'])"
   ],
   "metadata": {
    "collapsed": false,
    "ExecuteTime": {
     "end_time": "2024-04-26T09:09:30.626688Z",
     "start_time": "2024-04-26T09:09:30.214814Z"
    }
   },
   "id": "a1ba727097b8b77e"
  },
  {
   "cell_type": "code",
   "execution_count": 3,
   "outputs": [
    {
     "name": "stdout",
     "output_type": "stream",
     "text": [
      "Laypeople (high), n = 232\n",
      "Laypeople (avg), n = 230\n",
      "GPT-4, n = 232\n",
      "MUSE, n = 232\n"
     ]
    },
    {
     "data": {
      "text/plain": "Text(115, 1.5, '$p=0.002$')"
     },
     "execution_count": 3,
     "metadata": {},
     "output_type": "execute_result"
    },
    {
     "data": {
      "text/plain": "<Figure size 280x140 with 1 Axes>",
      "image/png": "[encoded data removed]"
     },
     "metadata": {},
     "output_type": "display_data"
    }
   ],
   "source": [
    "labels_mapping = {\n",
    "    'Explicit': 'High',\n",
    "    'Implicit': 'Medium',\n",
    "    'Unclear': 'Low'\n",
    "}\n",
    "label2num = dict(zip(\n",
    "    labels_mapping.values(), \n",
    "    reversed(range(len(labels_mapping.values())))\n",
    "))\n",
    "\n",
    "data_dict_2 = {}\n",
    "for method, labels in data_dict.items():\n",
    "    if method in target_methods_mapping.keys():\n",
    "        data_dict_2[target_methods_mapping[method]] = []\n",
    "        for label in labels:\n",
    "            data_dict_2[target_methods_mapping[method]].append(labels_mapping[label])\n",
    "        print(target_methods_mapping[method] + ', n =', int(len(data_dict_2[target_methods_mapping[method]])/2))\n",
    "\n",
    "df_plot = pd.DataFrame(columns=[method for method in target_methods_mapping.values()],\n",
    "                       index=[label for label in labels_mapping.values()])\n",
    "for label in labels_mapping.values():\n",
    "    for method in target_methods_mapping.values():\n",
    "        df_plot[method][label] = Counter(data_dict_2[method])[label] * 100 / len(data_dict_2[method])\n",
    "df_plot = df_plot.T\n",
    "\n",
    "fig, ax = plt.subplots(figsize=(fig_width, fig_height))\n",
    "df_plot.plot.barh(stacked=True, color=['#5C9BBB', '#F3EBE1', '#DD6F5B'], width=line_width, linewidth=0, ax=ax)\n",
    "num_on_stacked_bar(ax)\n",
    "\n",
    "ax.set_xlim(0, x_lim)\n",
    "ax.set_xticks(ticks=[0, 25, 50, 75, 100], labels=['0%', '25', '50', '75', '100'], color='grey', fontsize=font_small)\n",
    "ax.set_yticks(ticks=[0, 1, 2, 3], labels=list(df_plot.index))\n",
    "ax.tick_params(top=False, labeltop=True, bottom=False, labelbottom=False, axis='x', which='major', pad=-3)\n",
    "\n",
    "plt.setp(ax.spines.values(), color='k', linewidth=line_width)\n",
    "ax.spines['right'].set_visible(False)\n",
    "ax.spines['top'].set_visible(False)\n",
    "ax.spines['bottom'].set_visible(False)\n",
    "ax.yaxis.set_tick_params(width=line_width)\n",
    "ax.set_axisbelow(True)\n",
    "ax.grid(axis='x', color='#F3EBE1', linewidth=line_width)\n",
    "plt.gca().get_yticklabels()[0].set_color('#8798C4')\n",
    "plt.gca().get_yticklabels()[0].set_fontweight('bold')\n",
    "\n",
    "lgnd = ax.legend(loc='lower left', facecolor='w', edgecolor='w', framealpha=1, fancybox=False,\n",
    "                  handlelength=0.7, handletextpad=0.5, borderpad=0.2, labelspacing=0.25, columnspacing=0.5,\n",
    "                  title='Explicitness of identifications and explanations', bbox_to_anchor=(-0.35, bbox_y), ncol=3)\n",
    "lgnd._legend_box.align = 'center'\n",
    "\n",
    "\n",
    "ax.annotate('', xy=(l1_x, 1), xytext=(l1_x, 2), arrowprops=dict(arrowstyle='-', lw=line_width, color='k'))\n",
    "ax.text(l1_x+10, 1.5, r'$p=0.002$', va='center', ha='right', fontsize=font_medium, rotation=-90)"
   ],
   "metadata": {
    "collapsed": false,
    "ExecuteTime": {
     "end_time": "2024-04-26T09:09:31.034649Z",
     "start_time": "2024-04-26T09:09:30.627629Z"
    }
   },
   "id": "2fbedab50ea583e7"
  },
  {
   "cell_type": "code",
   "execution_count": 4,
   "outputs": [
    {
     "name": "stdout",
     "output_type": "stream",
     "text": [
      "{('GPT-4', 'Laypeople (avg)'): 5.494700631549968e-13,\n",
      " ('GPT-4', 'Laypeople (high)'): 0.0017762694409958126,\n",
      " ('Laypeople (high)', 'Laypeople (avg)'): 1.8197549719552526e-06,\n",
      " ('MUSE', 'GPT-4'): 1.466688267423725e-09,\n",
      " ('MUSE', 'Laypeople (avg)'): 5.1385187256990525e-40,\n",
      " ('MUSE', 'Laypeople (high)'): 1.0650768462885826e-21}\n"
     ]
    }
   ],
   "source": [
    "methods_pval = {}\n",
    "method_pairs = [(a, b) for idx, a in enumerate(target_methods_mapping.values()) for b in\n",
    "                list(target_methods_mapping.values())[idx + 1:]]\n",
    "for m1, m2 in method_pairs:\n",
    "    _, p = mannwhitneyu([label2num[label] for label in data_dict_2[m1]],\n",
    "                        [label2num[label] for label in data_dict_2[m2]])\n",
    "    methods_pval[(m1, m2)] = p\n",
    "pprint(methods_pval)"
   ],
   "metadata": {
    "collapsed": false,
    "ExecuteTime": {
     "end_time": "2024-04-26T09:09:31.046606Z",
     "start_time": "2024-04-26T09:09:31.036598Z"
    }
   },
   "id": "be485a764ce2c0f7"
  },
  {
   "cell_type": "markdown",
   "source": [
    "# Accuracy of identification"
   ],
   "metadata": {
    "collapsed": false,
    "ExecuteTime": {
     "end_time": "2024-04-26T08:01:00.999229Z",
     "start_time": "2024-04-26T08:01:00.986942Z"
    }
   },
   "id": "b5f96beb9dec94d6"
  },
  {
   "cell_type": "code",
   "execution_count": 5,
   "outputs": [],
   "source": [
    "# process annotations\n",
    "df_eval = pd.read_csv(path + 'Q2-identification_accuracy.csv', dtype=str)\n",
    "df_eval = df_eval[~df_eval['post_id'].isin(phase_1_post_ids)]\n",
    "    \n",
    "# get the labels for each approach\n",
    "data_dict = {method: [] for method in all_methods}\n",
    "for user in all_users:\n",
    "    post_ids = df_eval[df_eval['username'] == user]['post_id'].unique()\n",
    "    for post_id in post_ids:\n",
    "\n",
    "        method_label = {}\n",
    "\n",
    "        df = df_eval[(df_eval['username'] == user) & (df_eval['post_id'] == post_id)]\n",
    "\n",
    "        methods_included = df['response_type'].unique()\n",
    "\n",
    "        for method in methods_included:\n",
    "            labels = list(df[df['response_type'] == method]['label'])\n",
    "\n",
    "            if len(labels) != 1:\n",
    "                print('ERROR')\n",
    "            else:\n",
    "                data_dict[method].append(labels[0])\n",
    "                if post_id in userName_postIds_2[user]: # need to count one more time\n",
    "                    data_dict[method].append(labels[0])\n",
    "                method_label[method] = labels[0]\n",
    "\n",
    "        methods_excluded = set(all_methods).difference(set(methods_included))\n",
    "        for method in methods_excluded:\n",
    "            responses = list(df_resp[df_resp['post_id'] == post_id][method])\n",
    "\n",
    "            if len(responses) != 1:\n",
    "                print('ERROR')\n",
    "            else:\n",
    "                if responses[0] == 'nan':\n",
    "                    continue\n",
    "                elif responses[0] == '~':\n",
    "                    data_dict[method].append(method_label['correction_response (ours, time reference: high-qual note)'])\n",
    "                    if post_id in userName_postIds_2[user]:  # need to count twice\n",
    "                        data_dict[method].append(method_label['correction_response (ours, time reference: high-qual note)'])\n",
    "                elif responses[0] == '///':\n",
    "                    data_dict[method].append(method_label['correction_response (ours removing {retrieval+image}, i.e., vanilla gpt-4)'])\n",
    "                    if post_id in userName_postIds_2[user]:  # need to count twice\n",
    "                        data_dict[method].append(method_label['correction_response (ours removing {retrieval+image}, i.e., vanilla gpt-4)'])\n",
    "                elif responses[0] == '*':\n",
    "                    data_dict[method].append(method_label['correction_response (ours removing retrieval)'])\n",
    "                    if post_id in userName_postIds_2[user]:  # need to count twice\n",
    "                        data_dict[method].append(method_label['correction_response (ours removing retrieval)'])\n",
    "                elif responses[0] == '$':\n",
    "                    data_dict[method].append(method_label['correction_response (ours removing image)'])\n",
    "                    if post_id in userName_postIds_2[user]:  # need to count twice\n",
    "                        data_dict[method].append(method_label['correction_response (ours removing image)'])\n",
    "                elif responses[0] == '|||':\n",
    "                    data_dict[method].append(method_label['correction_response (ours, time reference: avg-qual note)'])\n",
    "                    if post_id in userName_postIds_2[user]:  # need to count twice\n",
    "                        data_dict[method].append(method_label['correction_response (ours, time reference: avg-qual note)'])"
   ],
   "metadata": {
    "collapsed": false,
    "ExecuteTime": {
     "end_time": "2024-04-26T09:09:31.480765Z",
     "start_time": "2024-04-26T09:09:31.044560Z"
    }
   },
   "id": "aa874935bc3f2a0b"
  },
  {
   "cell_type": "code",
   "execution_count": 6,
   "outputs": [
    {
     "name": "stdout",
     "output_type": "stream",
     "text": [
      "Laypeople (high), n = 232\n",
      "Laypeople (avg), n = 230\n",
      "GPT-4, n = 232\n",
      "MUSE, n = 232\n"
     ]
    },
    {
     "data": {
      "text/plain": "Text(127.5, 2, '$p=0.1$')"
     },
     "execution_count": 6,
     "metadata": {},
     "output_type": "execute_result"
    },
    {
     "data": {
      "text/plain": "<Figure size 280x140 with 1 Axes>",
      "image/png": "[encoded data removed]"
     },
     "metadata": {},
     "output_type": "display_data"
    }
   ],
   "source": [
    "labels_mapping = {\n",
    "    'Exist without misidentification': 'Exist w/o errors',\n",
    "    'Exist with misidentification': 'Exist w/ errors',\n",
    "    'Do not exist': 'Do not exist'\n",
    "}\n",
    "label2num = dict(zip(\n",
    "    labels_mapping.values(), \n",
    "    reversed(range(len(labels_mapping.values())))\n",
    "))\n",
    "\n",
    "data_dict_2 = {}\n",
    "for method, labels in data_dict.items():\n",
    "    if method in target_methods_mapping.keys():\n",
    "        data_dict_2[target_methods_mapping[method]] = []\n",
    "        for label in labels:\n",
    "            data_dict_2[target_methods_mapping[method]].append(labels_mapping[label])\n",
    "        print(target_methods_mapping[method] + ', n =', int(len(data_dict_2[target_methods_mapping[method]])/2))\n",
    "        \n",
    "df_plot = pd.DataFrame(columns=[method for method in target_methods_mapping.values()],\n",
    "                       index=[label for label in labels_mapping.values()])\n",
    "for label in labels_mapping.values():\n",
    "    for method in target_methods_mapping.values():\n",
    "        df_plot[method][label] = Counter(data_dict_2[method])[label] * 100 / len(data_dict_2[method])\n",
    "df_plot = df_plot.T\n",
    "\n",
    "fig, ax = plt.subplots(figsize=(fig_width, fig_height))\n",
    "df_plot.plot.barh(stacked=True, color=['#5C9BBB', '#F3EBE1', '#DD6F5B'], width=line_width, linewidth=0, ax=ax)\n",
    "num_on_stacked_bar(ax)\n",
    "\n",
    "ax.set_xlim(0, x_lim)\n",
    "ax.set_xticks(ticks=[0, 25, 50, 75, 100], labels=['0%', '25', '50', '75', '100'], color='grey', fontsize=font_small)\n",
    "ax.set_yticks(ticks=[0, 1, 2, 3], labels=list(df_plot.index))\n",
    "ax.tick_params(top=False, labeltop=True, bottom=False, labelbottom=False, axis='x', which='major', pad=-3)\n",
    "\n",
    "plt.setp(ax.spines.values(), color='k', linewidth=line_width)\n",
    "ax.spines['right'].set_visible(False)\n",
    "ax.spines['top'].set_visible(False)\n",
    "ax.spines['bottom'].set_visible(False)\n",
    "ax.yaxis.set_tick_params(width=line_width)\n",
    "ax.set_axisbelow(True)\n",
    "ax.grid(axis='x', color='#F3EBE1', linewidth=line_width)\n",
    "plt.gca().get_yticklabels()[0].set_color('#8798C4')\n",
    "plt.gca().get_yticklabels()[0].set_fontweight('bold')\n",
    "\n",
    "lgnd = ax.legend(loc='lower left', facecolor='w', edgecolor='w', framealpha=1, fancybox=False,\n",
    "                  handlelength=0.7, handletextpad=0.5, borderpad=0.2, labelspacing=0.25, columnspacing=0.5,\n",
    "                  title='Accurate identifications', bbox_to_anchor=(-0.45, bbox_y), ncol=3)\n",
    "lgnd._legend_box.align = 'center'\n",
    "\n",
    "ax.annotate('', xy=(l1_x, 2), xytext=(l1_x, 1), arrowprops=dict(arrowstyle='-', lw=line_width, color='k'))\n",
    "ax.text(l1_x+10, 1.5, r\"$p=0.002$\", va='center', ha='right', fontsize=font_medium, rotation=-90)\n",
    "ax.annotate('', xy=(l2_x, 3), xytext=(l2_x, 1), arrowprops=dict(arrowstyle='-', lw=line_width, color='k'))\n",
    "ax.text(l2_x+10, 2, r\"$p=0.1$\", va='center', ha='right', fontsize=font_medium, rotation=-90)"
   ],
   "metadata": {
    "collapsed": false,
    "ExecuteTime": {
     "end_time": "2024-04-26T09:09:31.636121Z",
     "start_time": "2024-04-26T09:09:31.489759Z"
    }
   },
   "id": "7458994b3a6b9045"
  },
  {
   "cell_type": "code",
   "execution_count": 7,
   "outputs": [
    {
     "name": "stdout",
     "output_type": "stream",
     "text": [
      "{('GPT-4', 'Laypeople (avg)'): 0.13505209187167957,\n",
      " ('GPT-4', 'Laypeople (high)'): 0.001521903454328355,\n",
      " ('Laypeople (high)', 'Laypeople (avg)'): 1.256913486401019e-06,\n",
      " ('MUSE', 'GPT-4'): 2.9957024381329607e-13,\n",
      " ('MUSE', 'Laypeople (avg)'): 3.4956667501837423e-19,\n",
      " ('MUSE', 'Laypeople (high)'): 5.348274794244895e-06}\n"
     ]
    }
   ],
   "source": [
    "methods_pval = {}\n",
    "method_pairs = [(a, b) for idx, a in enumerate(target_methods_mapping.values()) for b in\n",
    "                list(target_methods_mapping.values())[idx + 1:]]\n",
    "for m1, m2 in method_pairs:\n",
    "    _, p = mannwhitneyu([label2num[label] for label in data_dict_2[m1]],\n",
    "                        [label2num[label] for label in data_dict_2[m2]])\n",
    "    methods_pval[(m1, m2)] = p\n",
    "pprint(methods_pval)"
   ],
   "metadata": {
    "collapsed": false,
    "ExecuteTime": {
     "end_time": "2024-04-26T09:09:31.648232Z",
     "start_time": "2024-04-26T09:09:31.637225Z"
    }
   },
   "id": "51e6a6c50ed13c9e"
  },
  {
   "cell_type": "markdown",
   "source": [
    "# Comprehensiveness of accuracy identification"
   ],
   "metadata": {
    "collapsed": false,
    "ExecuteTime": {
     "start_time": "2024-04-26T08:01:01.818317Z"
    }
   },
   "id": "cc8ac5ab75cf7ef"
  },
  {
   "cell_type": "code",
   "execution_count": 8,
   "outputs": [],
   "source": [
    "# process annotations\n",
    "df_eval = pd.read_csv(path + 'Q2.1-identification_comprehensiveness.csv', dtype=str)\n",
    "df_eval = df_eval[~df_eval['post_id'].isin(phase_1_post_ids)]\n",
    "    \n",
    "# get the labels for each approach\n",
    "data_dict = {method: [] for method in all_methods}\n",
    "for user in all_users:\n",
    "    post_ids = df_eval[df_eval['username'] == user]['post_id'].unique()\n",
    "    for post_id in post_ids:\n",
    "\n",
    "        method_label = {}\n",
    "\n",
    "        df = df_eval[(df_eval['username'] == user) & (df_eval['post_id'] == post_id)]\n",
    "\n",
    "        methods_included = df['response_type'].unique()\n",
    "\n",
    "        for method in methods_included:\n",
    "            labels = list(df[df['response_type'] == method]['label'])\n",
    "\n",
    "            if len(labels) != 1:\n",
    "                print('ERROR')\n",
    "            else:\n",
    "                data_dict[method].append(labels[0])\n",
    "                if post_id in userName_postIds_2[user]: # need to count one more time\n",
    "                    data_dict[method].append(labels[0])\n",
    "                method_label[method] = labels[0]\n",
    "\n",
    "        methods_excluded = set(all_methods).difference(set(methods_included))\n",
    "        for method in methods_excluded:\n",
    "            responses = list(df_resp[df_resp['post_id'] == post_id][method])\n",
    "\n",
    "            if len(responses) != 1:\n",
    "                print('ERROR')\n",
    "            else:\n",
    "                if responses[0] == 'nan':\n",
    "                    continue\n",
    "                elif responses[0] == '~':\n",
    "                    data_dict[method].append(method_label['correction_response (ours, time reference: high-qual note)'])\n",
    "                    if post_id in userName_postIds_2[user]:  # need to count twice\n",
    "                        data_dict[method].append(method_label['correction_response (ours, time reference: high-qual note)'])\n",
    "                elif responses[0] == '///':\n",
    "                    data_dict[method].append(method_label['correction_response (ours removing {retrieval+image}, i.e., vanilla gpt-4)'])\n",
    "                    if post_id in userName_postIds_2[user]:  # need to count twice\n",
    "                        data_dict[method].append(method_label['correction_response (ours removing {retrieval+image}, i.e., vanilla gpt-4)'])\n",
    "                elif responses[0] == '*':\n",
    "                    data_dict[method].append(method_label['correction_response (ours removing retrieval)'])\n",
    "                    if post_id in userName_postIds_2[user]:  # need to count twice\n",
    "                        data_dict[method].append(method_label['correction_response (ours removing retrieval)'])\n",
    "                elif responses[0] == '$':\n",
    "                    data_dict[method].append(method_label['correction_response (ours removing image)'])\n",
    "                    if post_id in userName_postIds_2[user]:  # need to count twice\n",
    "                        data_dict[method].append(method_label['correction_response (ours removing image)'])\n",
    "                elif responses[0] == '|||':\n",
    "                    data_dict[method].append(method_label['correction_response (ours, time reference: avg-qual note)'])\n",
    "                    if post_id in userName_postIds_2[user]:  # need to count twice\n",
    "                        data_dict[method].append(method_label['correction_response (ours, time reference: avg-qual note)'])"
   ],
   "metadata": {
    "collapsed": false,
    "ExecuteTime": {
     "end_time": "2024-04-26T09:09:32.091780Z",
     "start_time": "2024-04-26T09:09:31.643946Z"
    }
   },
   "id": "4c667e224589e5e1"
  },
  {
   "cell_type": "code",
   "execution_count": 9,
   "outputs": [
    {
     "name": "stdout",
     "output_type": "stream",
     "text": [
      "Laypeople (high), n = 232\n",
      "Laypeople (avg), n = 230\n",
      "GPT-4, n = 232\n",
      "MUSE, n = 232\n"
     ]
    },
    {
     "data": {
      "text/plain": "Text(115, 1.5, '$p=0.08$')"
     },
     "execution_count": 9,
     "metadata": {},
     "output_type": "execute_result"
    },
    {
     "data": {
      "text/plain": "<Figure size 280x140 with 1 Axes>",
      "image/png": "[encoded data removed]"
     },
     "metadata": {},
     "output_type": "display_data"
    }
   ],
   "source": [
    "labels_mapping = {\n",
    "    'Extremely High': 'Very high',\n",
    "    'High': 'High',\n",
    "    'Medium': 'Medium',\n",
    "    'Low': 'Low',\n",
    "    'No': 'Very low'\n",
    "}\n",
    "label2num = dict(zip(\n",
    "    labels_mapping.values(), \n",
    "    reversed(range(len(labels_mapping.values())))\n",
    "))\n",
    "\n",
    "data_dict_2 = {}\n",
    "for method, labels in data_dict.items():\n",
    "    if method in target_methods_mapping.keys():\n",
    "        data_dict_2[target_methods_mapping[method]] = []\n",
    "        for label in labels:\n",
    "            data_dict_2[target_methods_mapping[method]].append(labels_mapping[label])\n",
    "        print(target_methods_mapping[method] + ', n =', int(len(data_dict_2[target_methods_mapping[method]])/2))\n",
    "        \n",
    "df_plot = pd.DataFrame(columns=[method for method in target_methods_mapping.values()],\n",
    "                       index=[label for label in labels_mapping.values()])\n",
    "for label in labels_mapping.values():\n",
    "    for method in target_methods_mapping.values():\n",
    "        df_plot[method][label] = Counter(data_dict_2[method])[label] * 100 / len(data_dict_2[method])\n",
    "df_plot = df_plot.T\n",
    "\n",
    "fig, ax = plt.subplots(figsize=(fig_width, fig_height))\n",
    "df_plot.plot.barh(stacked=True, color=['#5C9BBB', '#BEDAE5', '#F3EBE1', '#EECAC0', '#DD6F5B'], width=line_width, linewidth=0, ax=ax)\n",
    "num_on_stacked_bar(ax)\n",
    "\n",
    "ax.set_xlim(0, x_lim)\n",
    "ax.set_xticks(ticks=[0, 25, 50, 75, 100], labels=['0%', '25', '50', '75', '100'], color='grey', fontsize=font_small)\n",
    "ax.set_yticks(ticks=[0, 1, 2, 3], labels=list(df_plot.index))\n",
    "ax.tick_params(top=False, labeltop=True, bottom=False, labelbottom=False, axis='x', which='major', pad=-3)\n",
    "\n",
    "plt.setp(ax.spines.values(), color='k', linewidth=line_width)\n",
    "ax.spines['right'].set_visible(False)\n",
    "ax.spines['top'].set_visible(False)\n",
    "ax.spines['bottom'].set_visible(False)\n",
    "ax.yaxis.set_tick_params(width=line_width)\n",
    "ax.set_axisbelow(True)\n",
    "ax.grid(axis='x', color='#F3EBE1', linewidth=line_width)\n",
    "plt.gca().get_yticklabels()[0].set_color('#8798C4')\n",
    "plt.gca().get_yticklabels()[0].set_fontweight('bold')\n",
    "\n",
    "lgnd = ax.legend(loc='lower left', facecolor='w', edgecolor='w', framealpha=1, fancybox=False,\n",
    "                  handlelength=0.7, handletextpad=0.5, borderpad=0.2, labelspacing=0.25, columnspacing=0.5,\n",
    "                  title='Comprehensiveness of accurate identifications', bbox_to_anchor=(-0.45, bbox_y), ncol=5)\n",
    "lgnd._legend_box.align = 'center'\n",
    "\n",
    "ax.annotate('', xy=(l1_x, 2), xytext=(l1_x, 1), arrowprops=dict(arrowstyle='-', lw=line_width, color='k'))\n",
    "ax.text(l1_x+10, 1.5, r\"$p=0.08$\", va='center', ha='right', fontsize=font_medium, rotation=-90)"
   ],
   "metadata": {
    "collapsed": false,
    "ExecuteTime": {
     "end_time": "2024-04-26T09:09:32.263514Z",
     "start_time": "2024-04-26T09:09:32.091967Z"
    }
   },
   "id": "9f84f2a92e38e2f"
  },
  {
   "cell_type": "code",
   "execution_count": 10,
   "outputs": [
    {
     "name": "stdout",
     "output_type": "stream",
     "text": [
      "{('GPT-4', 'Laypeople (avg)'): 2.040559227150826e-10,\n",
      " ('GPT-4', 'Laypeople (high)'): 0.07973811614986735,\n",
      " ('Laypeople (high)', 'Laypeople (avg)'): 3.76052441486348e-09,\n",
      " ('MUSE', 'GPT-4'): 8.068696340694539e-15,\n",
      " ('MUSE', 'Laypeople (avg)'): 5.955654275301687e-48,\n",
      " ('MUSE', 'Laypeople (high)'): 6.755476124559701e-26}\n"
     ]
    }
   ],
   "source": [
    "methods_pval = {}\n",
    "method_pairs = [(a, b) for idx, a in enumerate(target_methods_mapping.values()) for b in\n",
    "                list(target_methods_mapping.values())[idx + 1:]]\n",
    "for m1, m2 in method_pairs:\n",
    "    _, p = mannwhitneyu([label2num[label] for label in data_dict_2[m1]],\n",
    "                        [label2num[label] for label in data_dict_2[m2]])\n",
    "    methods_pval[(m1, m2)] = p\n",
    "pprint(methods_pval)"
   ],
   "metadata": {
    "collapsed": false,
    "ExecuteTime": {
     "end_time": "2024-04-26T09:09:32.269244Z",
     "start_time": "2024-04-26T09:09:32.261652Z"
    }
   },
   "id": "669c122f8a75612"
  },
  {
   "cell_type": "markdown",
   "source": [
    "# Accuracy of explanation"
   ],
   "metadata": {
    "collapsed": false,
    "ExecuteTime": {
     "end_time": "2024-04-26T08:01:01.824646Z",
     "start_time": "2024-04-26T08:01:01.823435Z"
    }
   },
   "id": "8684c677104e66f1"
  },
  {
   "cell_type": "code",
   "execution_count": 11,
   "outputs": [],
   "source": [
    "# process annotations\n",
    "df_eval = pd.read_csv(path + 'Q2.2-explanation_accuracy.csv', dtype=str)\n",
    "df_eval = df_eval[~df_eval['post_id'].isin(phase_1_post_ids)]\n",
    "    \n",
    "# get the labels for each approach\n",
    "data_dict = {method: [] for method in all_methods}\n",
    "for user in all_users:\n",
    "    post_ids = df_eval[df_eval['username'] == user]['post_id'].unique()\n",
    "    for post_id in post_ids:\n",
    "\n",
    "        method_label = {}\n",
    "\n",
    "        df = df_eval[(df_eval['username'] == user) & (df_eval['post_id'] == post_id)]\n",
    "\n",
    "        methods_included = df['response_type'].unique()\n",
    "\n",
    "        for method in methods_included:\n",
    "            labels = list(df[df['response_type'] == method]['label'])\n",
    "\n",
    "            if len(labels) != 1:\n",
    "                print('ERROR')\n",
    "            else:\n",
    "                data_dict[method].append(labels[0])\n",
    "                if post_id in userName_postIds_2[user]: # need to count one more time\n",
    "                    data_dict[method].append(labels[0])\n",
    "                method_label[method] = labels[0]\n",
    "\n",
    "        methods_excluded = set(all_methods).difference(set(methods_included))\n",
    "        for method in methods_excluded:\n",
    "            responses = list(df_resp[df_resp['post_id'] == post_id][method])\n",
    "\n",
    "            if len(responses) != 1:\n",
    "                print('ERROR')\n",
    "            else:\n",
    "                if responses[0] == 'nan':\n",
    "                    continue\n",
    "                elif responses[0] == '~':\n",
    "                    data_dict[method].append(method_label['correction_response (ours, time reference: high-qual note)'])\n",
    "                    if post_id in userName_postIds_2[user]:  # need to count twice\n",
    "                        data_dict[method].append(method_label['correction_response (ours, time reference: high-qual note)'])\n",
    "                elif responses[0] == '///':\n",
    "                    data_dict[method].append(method_label['correction_response (ours removing {retrieval+image}, i.e., vanilla gpt-4)'])\n",
    "                    if post_id in userName_postIds_2[user]:  # need to count twice\n",
    "                        data_dict[method].append(method_label['correction_response (ours removing {retrieval+image}, i.e., vanilla gpt-4)'])\n",
    "                elif responses[0] == '*':\n",
    "                    data_dict[method].append(method_label['correction_response (ours removing retrieval)'])\n",
    "                    if post_id in userName_postIds_2[user]:  # need to count twice\n",
    "                        data_dict[method].append(method_label['correction_response (ours removing retrieval)'])\n",
    "                elif responses[0] == '$':\n",
    "                    data_dict[method].append(method_label['correction_response (ours removing image)'])\n",
    "                    if post_id in userName_postIds_2[user]:  # need to count twice\n",
    "                        data_dict[method].append(method_label['correction_response (ours removing image)'])\n",
    "                elif responses[0] == '|||':\n",
    "                    data_dict[method].append(method_label['correction_response (ours, time reference: avg-qual note)'])\n",
    "                    if post_id in userName_postIds_2[user]:  # need to count twice\n",
    "                        data_dict[method].append(method_label['correction_response (ours, time reference: avg-qual note)'])"
   ],
   "metadata": {
    "collapsed": false,
    "ExecuteTime": {
     "end_time": "2024-04-26T09:09:32.713064Z",
     "start_time": "2024-04-26T09:09:32.269033Z"
    }
   },
   "id": "96c8f6cb7d5f00cf"
  },
  {
   "cell_type": "code",
   "execution_count": 12,
   "outputs": [
    {
     "name": "stdout",
     "output_type": "stream",
     "text": [
      "Laypeople (high), n = 232\n",
      "Laypeople (avg), n = 230\n",
      "GPT-4, n = 232\n",
      "MUSE, n = 232\n"
     ]
    },
    {
     "data": {
      "text/plain": "Text(115, 2, '$p=0.05$')"
     },
     "execution_count": 12,
     "metadata": {},
     "output_type": "execute_result"
    },
    {
     "data": {
      "text/plain": "<Figure size 280x140 with 1 Axes>",
      "image/png": "[encoded data removed]"
     },
     "metadata": {},
     "output_type": "display_data"
    }
   ],
   "source": [
    "labels_mapping = {\n",
    "    'Fully Correct': 'Fully',\n",
    "    'Mostly Correct': 'Mostly',\n",
    "    'Half': 'Half',\n",
    "    'Mostly Incorrect': 'Mostly not',\n",
    "    'Completely Incorrect': 'Fully not'\n",
    "}\n",
    "label2num = dict(zip(\n",
    "    labels_mapping.values(), \n",
    "    reversed(range(len(labels_mapping.values())))\n",
    "))\n",
    "\n",
    "data_dict_2 = {}\n",
    "for method, labels in data_dict.items():\n",
    "    if method in target_methods_mapping.keys():\n",
    "        data_dict_2[target_methods_mapping[method]] = []\n",
    "        for label in labels:\n",
    "            data_dict_2[target_methods_mapping[method]].append(labels_mapping[label])\n",
    "        print(target_methods_mapping[method] + ', n =', int(len(data_dict_2[target_methods_mapping[method]])/2))\n",
    "\n",
    "df_plot = pd.DataFrame(columns=[method for method in target_methods_mapping.values()],\n",
    "                       index=[label for label in labels_mapping.values()])\n",
    "for label in labels_mapping.values():\n",
    "    for method in target_methods_mapping.values():\n",
    "        df_plot[method][label] = Counter(data_dict_2[method])[label] * 100 / len(data_dict_2[method])\n",
    "df_plot = df_plot.T\n",
    "\n",
    "fig, ax = plt.subplots(figsize=(fig_width, fig_height))\n",
    "df_plot.plot.barh(stacked=True, color=['#5C9BBB', '#BEDAE5', '#F3EBE1', '#EECAC0', '#DD6F5B'], width=line_width, linewidth=0, ax=ax)\n",
    "num_on_stacked_bar(ax)\n",
    "\n",
    "ax.set_xlim(0, x_lim)\n",
    "ax.set_xticks(ticks=[0, 25, 50, 75, 100], labels=['0%', '25', '50', '75', '100'], color='grey', fontsize=font_small)\n",
    "ax.set_yticks(ticks=[0, 1, 2, 3], labels=list(df_plot.index))\n",
    "ax.tick_params(top=False, labeltop=True, bottom=False, labelbottom=False, axis='x', which='major', pad=-3)\n",
    "\n",
    "plt.setp(ax.spines.values(), color='k', linewidth=line_width)\n",
    "ax.spines['right'].set_visible(False)\n",
    "ax.spines['top'].set_visible(False)\n",
    "ax.spines['bottom'].set_visible(False)\n",
    "ax.yaxis.set_tick_params(width=line_width)\n",
    "ax.set_axisbelow(True)\n",
    "ax.grid(axis='x', color='#F3EBE1', linewidth=line_width)\n",
    "plt.gca().get_yticklabels()[0].set_color('#8798C4')\n",
    "plt.gca().get_yticklabels()[0].set_fontweight('bold')\n",
    "\n",
    "lgnd = ax.legend(loc='lower left', facecolor='w', edgecolor='w', framealpha=1, fancybox=False,\n",
    "                  handlelength=0.7, handletextpad=0.5, borderpad=0.2, labelspacing=0.25, columnspacing=0.5,\n",
    "                  title='Accuracy of explanations', bbox_to_anchor=(-0.45, bbox_y), ncol=5)\n",
    "lgnd._legend_box.align = 'center'\n",
    "\n",
    "ax.annotate('', xy=(l1_x, 1), xytext=(l1_x, 3), arrowprops=dict(arrowstyle='-', lw=line_width, color='k'))\n",
    "ax.text(l1_x+10, 2, r\"$p=0.05$\", va='center', ha='right', fontsize=font_medium, rotation=-90)"
   ],
   "metadata": {
    "collapsed": false,
    "ExecuteTime": {
     "end_time": "2024-04-26T09:09:32.900982Z",
     "start_time": "2024-04-26T09:09:32.715785Z"
    }
   },
   "id": "96ed24c8288724be"
  },
  {
   "cell_type": "code",
   "execution_count": 13,
   "outputs": [
    {
     "name": "stdout",
     "output_type": "stream",
     "text": [
      "{('GPT-4', 'Laypeople (avg)'): 0.04881565436787422,\n",
      " ('GPT-4', 'Laypeople (high)'): 4.3771837345504015e-05,\n",
      " ('Laypeople (high)', 'Laypeople (avg)'): 3.1043270416417905e-11,\n",
      " ('MUSE', 'GPT-4'): 6.463193227364409e-15,\n",
      " ('MUSE', 'Laypeople (avg)'): 4.022865458581516e-25,\n",
      " ('MUSE', 'Laypeople (high)'): 1.1836810085714851e-05}\n"
     ]
    }
   ],
   "source": [
    "methods_pval = {}\n",
    "method_pairs = [(a, b) for idx, a in enumerate(target_methods_mapping.values()) for b in\n",
    "                list(target_methods_mapping.values())[idx + 1:]]\n",
    "for m1, m2 in method_pairs:\n",
    "    _, p = mannwhitneyu([label2num[label] for label in data_dict_2[m1]],\n",
    "                        [label2num[label] for label in data_dict_2[m2]])\n",
    "    methods_pval[(m1, m2)] = p\n",
    "pprint(methods_pval)"
   ],
   "metadata": {
    "collapsed": false,
    "ExecuteTime": {
     "end_time": "2024-04-26T09:09:32.913204Z",
     "start_time": "2024-04-26T09:09:32.904483Z"
    }
   },
   "id": "d921fe4bb4e37f68"
  },
  {
   "cell_type": "markdown",
   "source": [
    "# Informativeness of explanation"
   ],
   "metadata": {
    "collapsed": false,
    "ExecuteTime": {
     "start_time": "2024-04-26T08:01:01.829252Z"
    }
   },
   "id": "911c11978b4666c4"
  },
  {
   "cell_type": "code",
   "execution_count": 14,
   "outputs": [],
   "source": [
    "# process annotations\n",
    "df_eval = pd.read_csv(path + 'Q2.2.1-explanation_informativeness.csv', dtype=str)\n",
    "df_eval = df_eval[~df_eval['post_id'].isin(phase_1_post_ids)]\n",
    "df_eval['label'] = df_eval['label'].fillna('0')\n",
    "    \n",
    "# get the labels for each approach\n",
    "methods, scores = [], []\n",
    "for user in all_users:\n",
    "    post_ids = df_eval[df_eval['username'] == user]['post_id'].unique()\n",
    "    for post_id in post_ids:\n",
    "        method_label = {}\n",
    "\n",
    "        df = df_eval[(df_eval['username'] == user) & (df_eval['post_id'] == post_id)]\n",
    "\n",
    "        methods_included = df['response_type'].unique()\n",
    "        for method in methods_included:\n",
    "            labels = list(df[df['response_type'] == method]['label'])\n",
    "\n",
    "            if len(labels) != 1:\n",
    "                print('ERROR')\n",
    "            else:\n",
    "                methods.append(method)\n",
    "                scores.append(labels[0])\n",
    "                if post_id in userName_postIds_2[user]:\n",
    "                    methods.append(method)\n",
    "                    scores.append(labels[0])\n",
    "                method_label[method] = labels[0]\n",
    "\n",
    "        methods_excluded = set(all_methods).difference(set(methods_included))\n",
    "        for method in methods_excluded:\n",
    "            responses = list(df_resp[df_resp['post_id'] == post_id][method])\n",
    "\n",
    "            if len(responses) != 1:\n",
    "                print('ERROR')\n",
    "            else:\n",
    "                if responses[0] == 'nan':\n",
    "                    continue\n",
    "                elif responses[0] == '~':\n",
    "                    methods.append(method)\n",
    "                    scores.append(method_label['correction_response (ours, time reference: high-qual note)'])\n",
    "                    if post_id in userName_postIds_2[user]:\n",
    "                        methods.append(method)\n",
    "                        scores.append(method_label['correction_response (ours, time reference: high-qual note)'])\n",
    "                elif responses[0] == '|||':\n",
    "                    methods.append(method)\n",
    "                    scores.append(method_label['correction_response (ours, time reference: avg-qual note)'])\n",
    "                    if post_id in userName_postIds_2[user]:\n",
    "                        methods.append(method)\n",
    "                        scores.append(method_label['correction_response (ours, time reference: avg-qual note)'])\n",
    "                elif responses[0] == '///':\n",
    "                    methods.append(method)\n",
    "                    scores.append(method_label['correction_response (ours removing {retrieval+image}, i.e., vanilla gpt-4)'])\n",
    "                    if post_id in userName_postIds_2[user]:\n",
    "                        methods.append(method)\n",
    "                        scores.append(\n",
    "                            method_label['correction_response (ours removing {retrieval+image}, i.e., vanilla gpt-4)'])\n",
    "                elif responses[0] == '*':\n",
    "                    methods.append(method)\n",
    "                    scores.append(method_label['correction_response (ours removing retrieval)'])\n",
    "                    if post_id in userName_postIds_2[user]:\n",
    "                        methods.append(method)\n",
    "                        scores.append(method_label['correction_response (ours removing retrieval)'])\n",
    "                elif responses[0] == '$':\n",
    "                    methods.append(method)\n",
    "                    scores.append(method_label['correction_response (ours removing image)'])\n",
    "                    if post_id in userName_postIds_2[user]:\n",
    "                        methods.append(method)\n",
    "                        scores.append(method_label['correction_response (ours removing image)'])"
   ],
   "metadata": {
    "collapsed": false,
    "ExecuteTime": {
     "end_time": "2024-04-26T09:09:33.350056Z",
     "start_time": "2024-04-26T09:09:32.921414Z"
    }
   },
   "id": "aa5740747ffd3b59"
  },
  {
   "cell_type": "code",
   "execution_count": 15,
   "outputs": [
    {
     "name": "stdout",
     "output_type": "stream",
     "text": [
      "MUSE, n = 232\n",
      "GPT-4, n = 232\n",
      "Laypeople (high), n = 232\n",
      "Laypeople (avg), n = 230\n",
      "\n",
      "4.784782608695652\n",
      "5.993534482758621\n",
      "5.780172413793103\n",
      "7.866379310344827\n"
     ]
    },
    {
     "data": {
      "text/plain": "<Figure size 280x160 with 1 Axes>",
      "image/png": "[encoded data removed]"
     },
     "metadata": {},
     "output_type": "display_data"
    }
   ],
   "source": [
    "df = pd.DataFrame({\n",
    "    'Method': methods,\n",
    "    'Informativeness': scores\n",
    "})\n",
    "\n",
    "dict_plot = {}\n",
    "medians = []\n",
    "for method in target_methods_mapping.keys():\n",
    "    scores = list(df[df['Method'] == method]['Informativeness'])\n",
    "    scores = [int(s) for s in scores if s != 'nan']\n",
    "    print(target_methods_mapping[method] + ', n =', int(len(scores)/2))\n",
    "    dict_plot[target_methods_mapping[method]] = scores\n",
    "dict_plot = OrderedDict({method: scores for method, scores in dict_plot.items()})\n",
    "\n",
    "fig, ax = plt.subplots(figsize=(fig_width, fig_height+0.2))\n",
    "violins = ax.violinplot(list(dict_plot.values()), widths=0.9, showmeans=False, showmedians=False, showextrema=False, vert=False)\n",
    "\n",
    "i = 0\n",
    "for violin in violins['bodies']:\n",
    "    violin.set_facecolor(method_color[list(dict_plot.keys())[i]])\n",
    "    violin.set_edgecolor(method_color[list(dict_plot.keys())[i]])\n",
    "    violin.set_linewidth(1)\n",
    "    violin.set_alpha(1)\n",
    "    i += 1\n",
    "\n",
    "means = [sum(scores) / len(scores) for scores in dict_plot.values()]\n",
    "for i, labels in enumerate(list(dict_plot.values())):\n",
    "    quartile1, median, quartile3 = np.percentile(np.array(labels), [25, 50, 75])\n",
    "    whiskers_min, whiskers_max = adjacent_values(np.sort(labels), quartile1, quartile3)\n",
    "\n",
    "    ax.scatter(means[i], i + 1, marker='o', color='white', s=7.5, zorder=7.5)\n",
    "    ax.hlines(i+1, quartile1, quartile3, color='k', linestyle='-', lw=4.5)\n",
    "    ax.hlines(i+1, whiskers_min, whiskers_max, color='k', linestyle='-', lw=1)\n",
    "    \n",
    "plt.xlim(0, x_lim/10)\n",
    "plt.xticks([0, 2, 4, 6, 8, 10])\n",
    "plt.xlabel('Informativeness of accurate explanations', x=0.38, labelpad=8)\n",
    "plt.yticks(ticks=[1, 2, 3, 4], labels=list(dict_plot.keys()))\n",
    "plt.setp(ax.spines.values(), color='k', linewidth=line_width)\n",
    "ax.xaxis.set_label_position('top')\n",
    "ax.spines['right'].set_visible(False)\n",
    "ax.spines['top'].set_visible(False)\n",
    "ax.spines['bottom'].set_visible(False)\n",
    "ax.yaxis.set_tick_params(width=line_width)\n",
    "ax.tick_params(top=False, labeltop=True, bottom=False, labelbottom=False, axis='x', pad=-3)\n",
    "ax.set_axisbelow(True)\n",
    "ax.grid(axis='x', color='#F6F2EC', linewidth=line_width)\n",
    "plt.gca().get_yticklabels()[0].set_color('#8798C4')\n",
    "plt.gca().get_yticklabels()[0].set_fontweight('bold')\n",
    "\n",
    "ax.annotate('', xy=(l1_x/10, 3), xytext=(l1_x/10, 2), arrowprops=dict(arrowstyle='-', lw=line_width, color='k'))\n",
    "ax.text((l1_x+10)/10, 2.5, r\"$p=0.3$\", va='center', ha='right', fontsize=font_medium, rotation=-90)\n",
    "\n",
    "print()\n",
    "print(np.mean(dict_plot['Laypeople (avg)']))\n",
    "print(np.mean(dict_plot['Laypeople (high)']))\n",
    "print(np.mean(dict_plot['GPT-4']))\n",
    "print(np.mean(dict_plot['MUSE']))"
   ],
   "metadata": {
    "collapsed": false,
    "ExecuteTime": {
     "end_time": "2024-04-26T09:09:33.497854Z",
     "start_time": "2024-04-26T09:09:33.350235Z"
    }
   },
   "id": "2ca9f90941565501"
  },
  {
   "cell_type": "code",
   "execution_count": 16,
   "outputs": [
    {
     "name": "stdout",
     "output_type": "stream",
     "text": [
      "{('GPT-4', 'Laypeople (avg)'): 1.2643806623461843e-12,\n",
      " ('GPT-4', 'Laypeople (high)'): 0.276862149161749,\n",
      " ('Laypeople (high)', 'Laypeople (avg)'): 8.920357043288824e-14,\n",
      " ('MUSE', 'GPT-4'): 1.0249124252608156e-28,\n",
      " ('MUSE', 'Laypeople (avg)'): 2.0946689138766053e-72,\n",
      " ('MUSE', 'Laypeople (high)'): 1.309841271312148e-40}\n"
     ]
    }
   ],
   "source": [
    "methods_pval = {}\n",
    "method_pairs = [(a, b) for idx, a in enumerate(target_methods_mapping.values()) for b in\n",
    "                list(target_methods_mapping.values())[idx + 1:]]\n",
    "for m1, m2 in method_pairs:\n",
    "    _, p = mannwhitneyu(dict_plot[m1], dict_plot[m2])\n",
    "    methods_pval[(m1, m2)] = p\n",
    "pprint(methods_pval)"
   ],
   "metadata": {
    "collapsed": false,
    "ExecuteTime": {
     "end_time": "2024-04-26T09:09:33.498903Z",
     "start_time": "2024-04-26T09:09:33.492441Z"
    }
   },
   "id": "65e1b24d93b72a29"
  }
 ],
 "metadata": {
  "kernelspec": {
   "display_name": "Python 3",
   "language": "python",
   "name": "python3"
  },
  "language_info": {
   "codemirror_mode": {
    "name": "ipython",
    "version": 2
   },
   "file_extension": ".py",
   "mimetype": "text/x-python",
   "name": "python",
   "nbconvert_exporter": "python",
   "pygments_lexer": "ipython2",
   "version": "2.7.6"
  }
 },
 "nbformat": 4,
 "nbformat_minor": 5
}
