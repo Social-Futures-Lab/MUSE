{
 "cells": [
  {
   "cell_type": "code",
   "execution_count": 1,
   "id": "initial_id",
   "metadata": {
    "collapsed": true,
    "ExecuteTime": {
     "end_time": "2024-04-26T08:23:36.416039Z",
     "start_time": "2024-04-26T08:23:35.361409Z"
    }
   },
   "outputs": [],
   "source": [
    "import pandas as pd\n",
    "from pprint import pprint\n",
    "import matplotlib.pyplot as plt\n",
    "import numpy as np\n",
    "import matplotlib\n",
    "from scipy.stats import mannwhitneyu\n",
    "from collections import Counter\n",
    "\n",
    "all_methods = [\n",
    "    'note_1_text',\n",
    "    'note_2_text',\n",
    "    'correction_response (ours, time reference: high-qual note)',\n",
    "    'correction_response (ours, time reference: avg-qual note)',\n",
    "    'correction_response (ours removing {retrieval+image}, i.e., vanilla gpt-4)',\n",
    "    'correction_response (ours removing retrieval)',\n",
    "    'correction_response (ours removing image)',\n",
    "    'correction_response (ours, time reference: tweet)'\n",
    "]\n",
    "\n",
    "all_users = [  \n",
    "    'group1_user1',\n",
    "    'group1_user2',\n",
    "    'group2_user1',\n",
    "    'group2_user2',  \n",
    "    'group3_user1',\n",
    "    'group3_user2',\n",
    "    'group4_user1',\n",
    "    'group4_user2',\n",
    "    'group5_user1',\n",
    "    'group5_user2'\n",
    "]\n",
    "\n",
    "path = '../data/'\n",
    "\n",
    "phase_1_post_ids = ['100', '107', '110', '114', '118', '119', '124', '128', '142', '144', '149', '152', '163', '173', '184']\n",
    "\n",
    "# process responses\n",
    "postId_tweetId = pd.read_csv(path + 'tweetid_postid.csv', dtype=str)\n",
    "df_resp_mm = pd.read_csv(path + 'responses_multimodal.csv', dtype=str)\n",
    "df_resp_mm = df_resp_mm.merge(postId_tweetId, on='tweet_id', how='left')\n",
    "df_resp_um = pd.read_csv(path + 'responses_unimodal.csv', dtype=str)\n",
    "df_resp_um = df_resp_um.merge(postId_tweetId, on='tweet_id', how='left')\n",
    "df_resp = pd.concat((df_resp_mm, df_resp_um))\n",
    "df_resp = df_resp.fillna('nan')\n",
    "\n",
    "# get the post ids whose responses were evaluated by one participant only\n",
    "userName_tweetIds = pd.read_csv(path + 'username_tweetids.csv', dtype=str)\n",
    "userName_tweetIds = dict(zip(userName_tweetIds['username'], [tweet_ids.split(';') for tweet_ids in userName_tweetIds['tweet_ids']]))\n",
    "\n",
    "tweetId_postId = pd.read_csv(path + 'tweetid_postid.csv', dtype=str)\n",
    "tweetId_postId = dict(zip(tweetId_postId['tweet_id'], tweetId_postId['post_id']))\n",
    "\n",
    "userName_postIds = {}\n",
    "for username, tweet_ids in userName_tweetIds.items():\n",
    "    if username in all_users:\n",
    "        userName_postIds[username] = [tweetId_postId[tweet_id] for tweet_id in tweet_ids]\n",
    "\n",
    "userName_postIds_2 = {}\n",
    "for group_num in range(1, 6):\n",
    "    u0, u1 = 'group'+str(group_num)+'_user1', 'group'+str(group_num)+'_user2'\n",
    "    post_ids_u0 = set(userName_postIds[u0])\n",
    "    post_ids_u1 = set(userName_postIds[u1])\n",
    "    post_ids_u0_unique = post_ids_u0.difference(post_ids_u1)\n",
    "    post_ids_u1_unique = post_ids_u1.difference(post_ids_u0)\n",
    "\n",
    "    userName_postIds_2[u0] = list(post_ids_u0_unique)\n",
    "    userName_postIds_2[u1] = list(post_ids_u1_unique)\n",
    "    \n",
    "# plot setup \n",
    "plt.style.use('default')\n",
    "plt.rcParams['font.family'] = 'Helvetica'\n",
    "\n",
    "matplotlib.rcParams['font.size'] = 10.5\n",
    "\n",
    "target_methods_mapping = {\n",
    "    'correction_response (ours, time reference: tweet)': 'MUSE',\n",
    "    'correction_response (ours removing {retrieval+image}, i.e., vanilla gpt-4)': 'GPT-4',\n",
    "    'note_1_text': 'Laypeople (high)',\n",
    "    'note_2_text': 'Laypeople (avg)'\n",
    "}\n",
    "\n",
    "method_color = {\n",
    "    'Laypeople (avg)': '#F7E6CC',\n",
    "    'Laypeople (high)': '#F8D3A6',\n",
    "    'GPT-4': '#BABFD4',\n",
    "    'MUSE': '#8798C4'\n",
    "}\n",
    "\n",
    "fig_width, fig_height = 2.8, 1.4\n",
    "line_width = 0.75\n",
    "font_small, font_medium = 8.5, 9.5\n",
    "bbox_y = 1.08\n",
    "l1_x, l2_x, l3_x = 105, 117.5, 130\n",
    "x_lim = 130\n",
    "\n",
    "def num_on_stacked_bar(ax, threshold=5):\n",
    "    i = 1\n",
    "    for c in ax.containers:\n",
    "        if i == 1:\n",
    "            labels = [str(round(v.get_width())) + '%' if v.get_width() > threshold else '' for v in c]\n",
    "            ax.bar_label(c, labels=labels, label_type='center')\n",
    "            i = 0\n",
    "        else:\n",
    "            labels = [round(v.get_width()) if v.get_width() > threshold else '' for v in c]\n",
    "            ax.bar_label(c, labels=labels, label_type='center')\n",
    "            \n",
    "def adjacent_values(vals, q1, q3):\n",
    "    upper_adjacent_value = q3 + (q3 - q1) * 1.5\n",
    "    upper_adjacent_value = np.clip(upper_adjacent_value, q3, vals[-1])\n",
    "\n",
    "    lower_adjacent_value = q1 - (q3 - q1) * 1.5\n",
    "    lower_adjacent_value = np.clip(lower_adjacent_value, vals[0], q1)\n",
    "    return lower_adjacent_value, upper_adjacent_value"
   ]
  },
  {
   "cell_type": "markdown",
   "source": [
    "# Reachability of references"
   ],
   "metadata": {
    "collapsed": false
   },
   "id": "69ab4d7c4a252894"
  },
  {
   "cell_type": "code",
   "execution_count": 2,
   "outputs": [],
   "source": [
    "# process annotations\n",
    "df_eval = pd.read_csv(path + 'Q8-reference_reachability.csv', dtype=str)\n",
    "df_eval = df_eval[~df_eval['post_id'].isin(phase_1_post_ids)]\n",
    "df_eval = df_eval.fillna('nan')\n",
    "\n",
    "# get the labels for each approach\n",
    "data_dict = {method: [] for method in all_methods}\n",
    "for user in all_users:\n",
    "    post_ids = df_eval[df_eval['username'] == user]['post_id'].unique()\n",
    "    for post_id in post_ids:\n",
    "\n",
    "        df = df_eval[(df_eval['username'] == user) & (df_eval['post_id'] == post_id)]\n",
    "\n",
    "        methods_included = df['response_type'].unique()\n",
    "        method_label = {method: [] for method in methods_included}\n",
    "        for method in methods_included:\n",
    "            labels = list(df[df['response_type'] == method]['label'])\n",
    "\n",
    "            for i, label in enumerate(labels):\n",
    "                data_dict[method].append(label)\n",
    "                if post_id in userName_postIds_2[user]: # need to count one more time\n",
    "                    data_dict[method].append(label)\n",
    "                method_label[method].append(label)\n",
    "\n",
    "        methods_excluded = set(all_methods).difference(set(methods_included))\n",
    "        for method in methods_excluded:\n",
    "            responses = list(df_resp[df_resp['post_id'] == post_id][method])\n",
    "\n",
    "            if responses[0] == 'nan':\n",
    "                continue\n",
    "            elif responses[\n",
    "                0] == '~' and 'correction_response (ours, time reference: high-qual note)' in method_label.keys():\n",
    "                data_dict[method] += method_label['correction_response (ours, time reference: high-qual note)']\n",
    "                if post_id in userName_postIds_2[user]:\n",
    "                    data_dict[method] += method_label['correction_response (ours, time reference: high-qual note)']\n",
    "            elif responses[\n",
    "                0] == '|||' and 'correction_response (ours, time reference: avg-qual note)' in method_label.keys():\n",
    "                data_dict[method] += method_label['correction_response (ours, time reference: avg-qual note)']\n",
    "                if post_id in userName_postIds_2[user]:\n",
    "                    data_dict[method] += method_label['correction_response (ours, time reference: avg-qual note)']\n",
    "            elif responses[\n",
    "                0] == '///' and 'correction_response (ours removing {retrieval+image}, i.e., vanilla gpt-4)' in method_label.keys():\n",
    "                data_dict[method] += method_label[\n",
    "                    'correction_response (ours removing {retrieval+image}, i.e., vanilla gpt-4)']\n",
    "                if post_id in userName_postIds_2[user]:\n",
    "                    data_dict[method] += method_label[\n",
    "                        'correction_response (ours removing {retrieval+image}, i.e., vanilla gpt-4)']\n",
    "            elif responses[0] == '*' and 'correction_response (ours removing retrieval)' in method_label.keys():\n",
    "                data_dict[method] += method_label['correction_response (ours removing retrieval)']\n",
    "                if post_id in userName_postIds_2[user]:\n",
    "                    data_dict[method] += method_label['correction_response (ours removing retrieval)']\n",
    "            elif responses[0] == '$' and 'correction_response (ours removing image)' in method_label.keys():\n",
    "                data_dict[method] += method_label['correction_response (ours removing image)']\n",
    "                if post_id in userName_postIds_2[user]:\n",
    "                    data_dict[method] += method_label['correction_response (ours removing image)']"
   ],
   "metadata": {
    "collapsed": false,
    "ExecuteTime": {
     "end_time": "2024-04-26T08:23:36.866575Z",
     "start_time": "2024-04-26T08:23:36.416693Z"
    }
   },
   "id": "691bf6dbb9154ff1"
  },
  {
   "cell_type": "code",
   "execution_count": 3,
   "outputs": [
    {
     "data": {
      "text/plain": "Text(127.5, 2.5, '$p=0.01$')"
     },
     "execution_count": 3,
     "metadata": {},
     "output_type": "execute_result"
    },
    {
     "data": {
      "text/plain": "<Figure size 280x140 with 1 Axes>",
      "image/png": "[encoded data removed]"
     },
     "metadata": {},
     "output_type": "display_data"
    }
   ],
   "source": [
    "labels_mapping = {'Yes': 'Yes', 'No': 'No'}\n",
    "label2num = dict(zip(\n",
    "    list(labels_mapping.values()), \n",
    "    reversed(range(len(labels_mapping.values())))\n",
    "))\n",
    "\n",
    "data_dict_2 = {}\n",
    "for method, labels in data_dict.items():\n",
    "    if method in target_methods_mapping.keys():\n",
    "        data_dict_2[target_methods_mapping[method]] = []\n",
    "        for label in labels:\n",
    "            data_dict_2[target_methods_mapping[method]].append(labels_mapping[label])\n",
    "\n",
    "df_plot = pd.DataFrame(columns=[method for method in target_methods_mapping.values()],\n",
    "                       index=[label for label in labels_mapping.values()])\n",
    "for label in labels_mapping.values():\n",
    "    for method in target_methods_mapping.values():\n",
    "        df_plot[method][label] = Counter(data_dict_2[method])[label] * 100 / len(data_dict_2[method])\n",
    "df_plot = df_plot.T\n",
    "\n",
    "fig, ax = plt.subplots(figsize=(fig_width, fig_height))\n",
    "df_plot.plot.barh(stacked=True, color=['#5C9BBB', '#DD6F5B'], width=line_width, linewidth=0, ax=ax)\n",
    "num_on_stacked_bar(ax)\n",
    "\n",
    "ax.set_xlim(0, x_lim)\n",
    "ax.set_xticks(ticks=[0, 25, 50, 75, 100], labels=['0%', '25', '50', '75', '100'], color='grey', fontsize=font_small)\n",
    "ax.set_yticks(ticks=[0, 1, 2, 3], labels=list(df_plot.index))\n",
    "ax.tick_params(top=False, labeltop=True, bottom=False, labelbottom=False, axis='x', which='major', pad=-3)\n",
    "\n",
    "plt.setp(ax.spines.values(), color='k', linewidth=line_width)\n",
    "ax.spines['right'].set_visible(False)\n",
    "ax.spines['top'].set_visible(False)\n",
    "ax.spines['bottom'].set_visible(False)\n",
    "ax.yaxis.set_tick_params(width=line_width)\n",
    "ax.set_axisbelow(True)\n",
    "ax.grid(axis='x', color='#F3EBE1', linewidth=line_width)\n",
    "plt.gca().get_yticklabels()[0].set_color('#8798C4')\n",
    "plt.gca().get_yticklabels()[0].set_fontweight('bold')\n",
    "\n",
    "lgnd = ax.legend(loc='lower left', facecolor='w', edgecolor='w', framealpha=1, fancybox=False,\n",
    "                  handlelength=0.7, handletextpad=0.5, borderpad=0.2, labelspacing=0.25, columnspacing=0.5,\n",
    "                  title='Reachability of references', bbox_to_anchor=(-0.06, bbox_y), ncol=3)\n",
    "lgnd._legend_box.align = 'center'\n",
    "\n",
    "ax.annotate('', xy=(l1_x, 0), xytext=(l1_x, 2), arrowprops=dict(arrowstyle='-', lw=line_width, color='k'))\n",
    "ax.text(l1_x+10, 1, r'$p=0.0002$', va='center', ha='right', fontsize=font_medium, rotation=-90)\n",
    "ax.annotate('', xy=(l2_x, 2), xytext=(l2_x, 3), arrowprops=dict(arrowstyle='-', lw=line_width, color='k'))\n",
    "ax.text(l2_x+10, 2.5, r'$p=0.01$', va='center', ha='right', fontsize=font_medium, rotation=-90)"
   ],
   "metadata": {
    "collapsed": false,
    "ExecuteTime": {
     "end_time": "2024-04-26T08:23:37.241882Z",
     "start_time": "2024-04-26T08:23:36.866764Z"
    }
   },
   "id": "3bd0eca31f6a483"
  },
  {
   "cell_type": "code",
   "execution_count": 4,
   "outputs": [
    {
     "name": "stdout",
     "output_type": "stream",
     "text": [
      "{('GPT-4', 'Laypeople (avg)'): 8.180694651651426e-58,\n",
      " ('GPT-4', 'Laypeople (high)'): 2.5668286308838156e-85,\n",
      " ('Laypeople (high)', 'Laypeople (avg)'): 0.009824844799315955,\n",
      " ('MUSE', 'GPT-4'): 1.1799278871643951e-123,\n",
      " ('MUSE', 'Laypeople (avg)'): 3.115310497583825e-10,\n",
      " ('MUSE', 'Laypeople (high)'): 0.00015499635205816533}\n"
     ]
    }
   ],
   "source": [
    "methods_pval = {}\n",
    "method_pairs = [(a, b) for idx, a in enumerate(target_methods_mapping.values()) for b in\n",
    "                list(target_methods_mapping.values())[idx + 1:]]\n",
    "for m1, m2 in method_pairs:\n",
    "    _, p = mannwhitneyu([label2num[label] for label in data_dict_2[m1]],\n",
    "                        [label2num[label] for label in data_dict_2[m2]])\n",
    "    methods_pval[(m1, m2)] = p\n",
    "pprint(methods_pval)"
   ],
   "metadata": {
    "collapsed": false,
    "ExecuteTime": {
     "end_time": "2024-04-26T08:23:37.257781Z",
     "start_time": "2024-04-26T08:23:37.240878Z"
    }
   },
   "id": "bdfc41e1d40d8080"
  },
  {
   "cell_type": "code",
   "execution_count": 5,
   "outputs": [
    {
     "name": "stdout",
     "output_type": "stream",
     "text": [
      "n_MUSE = 436\n",
      "n_GPT-4 = 415\n",
      "n_Laypeople (high) = 327\n",
      "n_Laypeople (avg) = 241\n"
     ]
    }
   ],
   "source": [
    "data_dict = {method: [] for method in all_methods}\n",
    "for user in all_users:\n",
    "    post_ids = df_eval[df_eval['username'] == user]['post_id'].unique()\n",
    "    for post_id in post_ids:\n",
    "\n",
    "        df = df_eval[(df_eval['username'] == user) & (df_eval['post_id'] == post_id)]\n",
    "\n",
    "        methods_included = df['response_type'].unique()\n",
    "        method_label = {method: [] for method in methods_included}\n",
    "        for method in methods_included:\n",
    "            labels = list(df[df['response_type'] == method]['label'])\n",
    "            urls = list(df[df['response_type'] == method]['url'])\n",
    "            url_label = {post_id+'_'+url: labels[i] for i, url in enumerate(urls)}\n",
    "            \n",
    "            data_dict[method].append(url_label)\n",
    "            method_label[method].append(url_label)\n",
    "\n",
    "        methods_excluded = set(all_methods).difference(set(methods_included))\n",
    "        for method in methods_excluded:\n",
    "            responses = list(df_resp[df_resp['post_id'] == post_id][method])\n",
    "\n",
    "            if responses[0] == 'nan':\n",
    "                continue\n",
    "            elif responses[\n",
    "                0] == '~' and 'correction_response (ours, time reference: high-qual note)' in method_label.keys():\n",
    "                data_dict[method] += method_label['correction_response (ours, time reference: high-qual note)']\n",
    "            elif responses[\n",
    "                0] == '|||' and 'correction_response (ours, time reference: avg-qual note)' in method_label.keys():\n",
    "                data_dict[method] += method_label['correction_response (ours, time reference: avg-qual note)']\n",
    "            elif responses[\n",
    "                0] == '///' and 'correction_response (ours removing {retrieval+image}, i.e., vanilla gpt-4)' in method_label.keys():\n",
    "                data_dict[method] += method_label[\n",
    "                    'correction_response (ours removing {retrieval+image}, i.e., vanilla gpt-4)']\n",
    "            elif responses[0] == '*' and 'correction_response (ours removing retrieval)' in method_label.keys():\n",
    "                data_dict[method] += method_label['correction_response (ours removing retrieval)']\n",
    "            elif responses[0] == '$' and 'correction_response (ours removing image)' in method_label.keys():\n",
    "                data_dict[method] += method_label['correction_response (ours removing image)']\n",
    "                  \n",
    "data_dict_2 = {}\n",
    "for method, labels in data_dict.items():\n",
    "    if method in target_methods_mapping.keys():\n",
    "        data_dict_2[target_methods_mapping[method]] = data_dict[method]\n",
    "\n",
    "print('n_MUSE =', len(set([url for url_labels in data_dict_2['MUSE'] for url in url_labels.keys()])))\n",
    "print('n_GPT-4 =', len(set([url for url_labels in data_dict_2['GPT-4'] for url in url_labels.keys()])))\n",
    "print('n_Laypeople (high) =', len(set([url for url_labels in data_dict_2['Laypeople (high)'] for url in url_labels.keys()])))\n",
    "print('n_Laypeople (avg) =', len(set([url for url_labels in data_dict_2['Laypeople (avg)'] for url in url_labels.keys()])))"
   ],
   "metadata": {
    "collapsed": false,
    "ExecuteTime": {
     "end_time": "2024-04-26T08:23:37.841281Z",
     "start_time": "2024-04-26T08:23:37.262871Z"
    }
   },
   "id": "20405deb5a31bb9b"
  },
  {
   "cell_type": "markdown",
   "source": [
    "# Credibility of references"
   ],
   "metadata": {
    "collapsed": false
   },
   "id": "25bd574864f8353d"
  },
  {
   "cell_type": "code",
   "execution_count": 6,
   "outputs": [],
   "source": [
    "# process annotations\n",
    "df_1 = pd.read_csv(path + 'Q8-reference_reachability.csv', dtype=str)\n",
    "df_1 = df_1.rename(columns={'label': 'label_8'})\n",
    "df_2 = pd.read_csv(path + 'Q8.1-reference_credibility.csv', dtype=str,\n",
    "                   usecols=['post_id', 'response_id', 'response_url_id', 'username', 'label'])\n",
    "df_2 = df_2.rename(columns={'label': 'label_8.1'})\n",
    "df_eval = df_1.merge(df_2, on=['post_id', 'response_id', 'response_url_id', 'username'], how='left')\n",
    "df_eval = df_eval[~df_eval['post_id'].isin(phase_1_post_ids)]\n",
    "df_eval = df_eval.fillna('nan')\n",
    "\n",
    "# get the labels for each approach\n",
    "data_dict = {method: [] for method in all_methods}\n",
    "for user in all_users:\n",
    "    post_ids = df_eval[df_eval['username'] == user]['post_id'].unique()\n",
    "    for post_id in post_ids:\n",
    "\n",
    "        df = df_eval[(df_eval['username'] == user) & (df_eval['post_id'] == post_id)]\n",
    "\n",
    "        methods_included = df['response_type'].unique()\n",
    "        method_label = {method: [] for method in methods_included}\n",
    "        for method in methods_included:\n",
    "            labels_8 = list(df[df['response_type'] == method]['label_8'])\n",
    "            labels_81 = list(df[df['response_type'] == method]['label_8.1'])\n",
    "\n",
    "            for i, label in enumerate(labels_81):\n",
    "                data_dict[method].append([label,labels_8[i]])\n",
    "                if post_id in userName_postIds_2[user]: # need to count one more time\n",
    "                    data_dict[method].append([label,labels_8[i]])\n",
    "                method_label[method].append([label,labels_8[i]])\n",
    "\n",
    "        methods_excluded = set(all_methods).difference(set(methods_included))\n",
    "        for method in methods_excluded:\n",
    "            responses = list(df_resp[df_resp['post_id'] == post_id][method])\n",
    "\n",
    "            if responses[0] == 'nan':\n",
    "                continue\n",
    "            elif responses[\n",
    "                0] == '~' and 'correction_response (ours, time reference: high-qual note)' in method_label.keys():\n",
    "                data_dict[method] += method_label['correction_response (ours, time reference: high-qual note)']\n",
    "                if post_id in userName_postIds_2[user]:\n",
    "                    data_dict[method] += method_label['correction_response (ours, time reference: high-qual note)']\n",
    "            elif responses[\n",
    "                0] == '|||' and 'correction_response (ours, time reference: avg-qual note)' in method_label.keys():\n",
    "                data_dict[method] += method_label['correction_response (ours, time reference: avg-qual note)']\n",
    "                if post_id in userName_postIds_2[user]:\n",
    "                    data_dict[method] += method_label['correction_response (ours, time reference: avg-qual note)']\n",
    "            elif responses[\n",
    "                0] == '///' and 'correction_response (ours removing {retrieval+image}, i.e., vanilla gpt-4)' in method_label.keys():\n",
    "                data_dict[method] += method_label[\n",
    "                    'correction_response (ours removing {retrieval+image}, i.e., vanilla gpt-4)']\n",
    "                if post_id in userName_postIds_2[user]:\n",
    "                    data_dict[method] += method_label[\n",
    "                        'correction_response (ours removing {retrieval+image}, i.e., vanilla gpt-4)']\n",
    "            elif responses[0] == '*' and 'correction_response (ours removing retrieval)' in method_label.keys():\n",
    "                data_dict[method] += method_label['correction_response (ours removing retrieval)']\n",
    "                if post_id in userName_postIds_2[user]:\n",
    "                    data_dict[method] += method_label['correction_response (ours removing retrieval)']\n",
    "            elif responses[0] == '$' and 'correction_response (ours removing image)' in method_label.keys():\n",
    "                data_dict[method] += method_label['correction_response (ours removing image)']\n",
    "                if post_id in userName_postIds_2[user]:\n",
    "                    data_dict[method] += method_label['correction_response (ours removing image)']"
   ],
   "metadata": {
    "collapsed": false,
    "ExecuteTime": {
     "end_time": "2024-04-26T08:23:38.442701Z",
     "start_time": "2024-04-26T08:23:37.833776Z"
    }
   },
   "id": "959609d7750c6557"
  },
  {
   "cell_type": "code",
   "execution_count": 7,
   "outputs": [
    {
     "data": {
      "text/plain": "Text(115, 2.6, '$p=0.4$')"
     },
     "execution_count": 7,
     "metadata": {},
     "output_type": "execute_result"
    },
    {
     "data": {
      "text/plain": "<Figure size 280x140 with 1 Axes>",
      "image/png": "[encoded data removed]"
     },
     "metadata": {},
     "output_type": "display_data"
    }
   ],
   "source": [
    "labels_mapping = {\n",
    "    'Very High': 'Very high',\n",
    "    'High': 'High',\n",
    "    'Medium': 'Medium',\n",
    "    'Low Not Informed': 'Low',\n",
    "    'Low Informed': 'Low (informed)',\n",
    "    'Cant Determine': 'CND',\n",
    "}\n",
    "label2num = dict(zip(\n",
    "    list(labels_mapping.values())[:-2], \n",
    "    reversed(range(len(labels_mapping.values())-2))\n",
    "))\n",
    "\n",
    "data_dict_2 = {}\n",
    "for method, labels in data_dict.items():\n",
    "    if method in target_methods_mapping.keys():\n",
    "        data_dict_2[target_methods_mapping[method]] = []\n",
    "        for x in labels:\n",
    "            labels_81, label_8 = x[0], x[1]\n",
    "            if label_8 == 'Yes':\n",
    "                data_dict_2[target_methods_mapping[method]].append(labels_mapping[labels_81])\n",
    "        \n",
    "df_plot = pd.DataFrame(columns=[method for method in target_methods_mapping.values()],\n",
    "                       index=[label for label in labels_mapping.values()])\n",
    "for label in labels_mapping.values():\n",
    "    for method in target_methods_mapping.values():\n",
    "        df_plot[method][label] = Counter(data_dict_2[method])[label] * 100 / len(data_dict_2[method])\n",
    "df_plot = df_plot.drop(index=['CND', 'Low (informed)'])\n",
    "df_plot = df_plot.T\n",
    "\n",
    "fig, ax = plt.subplots(figsize=(fig_width, fig_height))\n",
    "df_plot.plot.barh(stacked=True, color=['#5C9BBB', '#BEDAE5', '#EECAC0', '#DD6F5B'], width=line_width, linewidth=0, ax=ax)\n",
    "num_on_stacked_bar(ax)\n",
    "\n",
    "ax.set_xlim(0, x_lim)\n",
    "ax.set_xticks(ticks=[0, 25, 50, 75, 100], labels=['0%', '25', '50', '75', '100'], color='grey', fontsize=font_small)\n",
    "ax.set_yticks(ticks=[0, 1, 2, 3], labels=list(df_plot.index))\n",
    "ax.tick_params(top=False, labeltop=True, bottom=False, labelbottom=False, axis='x', which='major', pad=-3)\n",
    "\n",
    "plt.setp(ax.spines.values(), color='k', linewidth=line_width)\n",
    "ax.spines['right'].set_visible(False)\n",
    "ax.spines['top'].set_visible(False)\n",
    "ax.spines['bottom'].set_visible(False)\n",
    "ax.yaxis.set_tick_params(width=line_width)\n",
    "ax.set_axisbelow(True)\n",
    "ax.grid(axis='x', color='#F3EBE1', linewidth=line_width)\n",
    "plt.gca().get_yticklabels()[0].set_color('#8798C4')\n",
    "plt.gca().get_yticklabels()[0].set_fontweight('bold')\n",
    "\n",
    "lgnd = ax.legend(loc='lower left', facecolor='w', edgecolor='w', framealpha=1, fancybox=False,\n",
    "                  handlelength=0.7, handletextpad=0.5, borderpad=0.2, labelspacing=0.25, columnspacing=0.5,\n",
    "                  title='Credibility of references', bbox_to_anchor=(-0.285, bbox_y), ncol=4)\n",
    "lgnd._legend_box.align = 'center'\n",
    "\n",
    "ax.annotate('', xy=(l1_x, 0), xytext=(l1_x, 1), arrowprops=dict(arrowstyle='-', lw=line_width, color='k'))\n",
    "ax.text(l1_x+10, 0.4, r'$p=0.6$', va='center', ha='right', fontsize=font_medium, rotation=-90)\n",
    "ax.annotate('', xy=(l1_x, 2), xytext=(l1_x, 3), arrowprops=dict(arrowstyle='-', lw=line_width, color='k'))\n",
    "ax.text(l1_x+10, 2.6, r'$p=0.4$', va='center', ha='right', fontsize=font_medium, rotation=-90)"
   ],
   "metadata": {
    "collapsed": false,
    "ExecuteTime": {
     "end_time": "2024-04-26T08:23:38.608042Z",
     "start_time": "2024-04-26T08:23:38.442095Z"
    }
   },
   "id": "83293d070ee90aeb"
  },
  {
   "cell_type": "code",
   "execution_count": 8,
   "outputs": [
    {
     "name": "stdout",
     "output_type": "stream",
     "text": [
      "{('GPT-4', 'Laypeople (avg)'): 1.758371549315746e-08,\n",
      " ('GPT-4', 'Laypeople (high)'): 1.2029779517417142e-07,\n",
      " ('Laypeople (high)', 'Laypeople (avg)'): 0.3614274842357519,\n",
      " ('MUSE', 'GPT-4'): 0.6366494230734197,\n",
      " ('MUSE', 'Laypeople (avg)'): 4.451222311162538e-12,\n",
      " ('MUSE', 'Laypeople (high)'): 3.6695950110853086e-11}\n"
     ]
    }
   ],
   "source": [
    "methods_pval = {}\n",
    "method_pairs = [(a, b) for idx, a in enumerate(target_methods_mapping.values()) for b in\n",
    "                list(target_methods_mapping.values())[idx + 1:]]\n",
    "for m1, m2 in method_pairs:\n",
    "    _, p = mannwhitneyu([label2num[label] for label in data_dict_2[m1] if label in label2num.keys()],\n",
    "                        [label2num[label] for label in data_dict_2[m2] if label in label2num.keys()])\n",
    "    methods_pval[(m1, m2)] = p\n",
    "pprint(methods_pval)"
   ],
   "metadata": {
    "collapsed": false,
    "ExecuteTime": {
     "end_time": "2024-04-26T08:23:38.613434Z",
     "start_time": "2024-04-26T08:23:38.604769Z"
    }
   },
   "id": "74bef75415e81f86"
  },
  {
   "cell_type": "code",
   "execution_count": 9,
   "outputs": [
    {
     "name": "stdout",
     "output_type": "stream",
     "text": [
      "432\n",
      "213\n",
      "312\n",
      "224\n"
     ]
    }
   ],
   "source": [
    "data_dict = {method: [] for method in all_methods}\n",
    "for user in all_users:\n",
    "    post_ids = df_eval[df_eval['username'] == user]['post_id'].unique()\n",
    "    for post_id in post_ids:\n",
    "\n",
    "        df = df_eval[(df_eval['username'] == user) & (df_eval['post_id'] == post_id)]\n",
    "\n",
    "        methods_included = df['response_type'].unique()\n",
    "        method_label = {method: [] for method in methods_included}\n",
    "        for method in methods_included:\n",
    "            labels_8 = list(df[df['response_type'] == method]['label_8'])\n",
    "            labels_81 = list(df[df['response_type'] == method]['label_8.1'])\n",
    "\n",
    "            urls = list(df[df['response_type'] == method]['url'])\n",
    "            url_labels = {post_id+'_'+url: [labels_81[i], labels_8[i]] for i, url in enumerate(urls)}\n",
    "            \n",
    "            data_dict[method].append(url_labels)\n",
    "            method_label[method].append(url_labels)\n",
    "\n",
    "        methods_excluded = set(all_methods).difference(set(methods_included))\n",
    "        for method in methods_excluded:\n",
    "            responses = list(df_resp[df_resp['post_id'] == post_id][method])\n",
    "\n",
    "            if responses[0] == 'nan':\n",
    "                continue\n",
    "            elif responses[\n",
    "                0] == '~' and 'correction_response (ours, time reference: high-qual note)' in method_label.keys():\n",
    "                data_dict[method] += method_label['correction_response (ours, time reference: high-qual note)']\n",
    "            elif responses[\n",
    "                0] == '|||' and 'correction_response (ours, time reference: avg-qual note)' in method_label.keys():\n",
    "                data_dict[method] += method_label['correction_response (ours, time reference: avg-qual note)']\n",
    "            elif responses[\n",
    "                0] == '///' and 'correction_response (ours removing {retrieval+image}, i.e., vanilla gpt-4)' in method_label.keys():\n",
    "                data_dict[method] += method_label[\n",
    "                    'correction_response (ours removing {retrieval+image}, i.e., vanilla gpt-4)']\n",
    "            elif responses[0] == '*' and 'correction_response (ours removing retrieval)' in method_label.keys():\n",
    "                data_dict[method] += method_label['correction_response (ours removing retrieval)']\n",
    "            elif responses[0] == '$' and 'correction_response (ours removing image)' in method_label.keys():\n",
    "                data_dict[method] += method_label['correction_response (ours removing image)']\n",
    "                  \n",
    "data_dict_2 = {}\n",
    "for method, labels in data_dict.items():\n",
    "    if method in target_methods_mapping.keys():\n",
    "        data_dict_2[target_methods_mapping[method]] = data_dict[method]\n",
    "        \n",
    "print(len(set([url for url_labels in data_dict_2['MUSE'] for url, labels in url_labels.items() if labels[1] == 'Yes' and labels_mapping[labels[0]] in label2num.keys()])))\n",
    "print(len(set([url for url_labels in data_dict_2['GPT-4'] for url, labels in url_labels.items() if labels[1] == 'Yes' and labels_mapping[labels[0]] in label2num.keys()])))\n",
    "print(len(set([url for url_labels in data_dict_2['Laypeople (high)'] for url, labels in url_labels.items() if labels[1] == 'Yes' and labels_mapping[labels[0]] in label2num.keys()])))\n",
    "print(len(set([url for url_labels in data_dict_2['Laypeople (avg)'] for url, labels in url_labels.items() if labels[1] == 'Yes' and labels_mapping[labels[0]] in label2num.keys()])))"
   ],
   "metadata": {
    "collapsed": false,
    "ExecuteTime": {
     "end_time": "2024-04-26T08:23:39.349632Z",
     "start_time": "2024-04-26T08:23:38.660196Z"
    }
   },
   "id": "8a1c81d60ec7f0ec"
  },
  {
   "cell_type": "markdown",
   "source": [
    "# Relevance of references"
   ],
   "metadata": {
    "collapsed": false
   },
   "id": "6a25e45f7e9bcc30"
  },
  {
   "cell_type": "code",
   "execution_count": 10,
   "outputs": [],
   "source": [
    "# process annotations\n",
    "df_1 = pd.read_csv(path + 'Q8-reference_reachability.csv', dtype=str)\n",
    "df_1 = df_1.rename(columns={'label': 'label_8'})\n",
    "df_2 = pd.read_csv(path + 'Q8.2-reference_relevance.csv', dtype=str, usecols=['post_id', 'response_id', 'response_url_id', 'username', 'label'])\n",
    "df_2 = df_2.rename(columns={'label': 'label_8.2'})\n",
    "df_eval = df_1.merge(df_2, on=['post_id', 'response_id', 'response_url_id', 'username'], how='left')\n",
    "df_eval = df_eval[~df_eval['post_id'].isin(phase_1_post_ids)]\n",
    "df_eval = df_eval.fillna('nan')\n",
    "\n",
    "# get the labels for each approach\n",
    "data_dict = {method: [] for method in all_methods}\n",
    "for user in all_users:\n",
    "    post_ids = df_eval[df_eval['username'] == user]['post_id'].unique()\n",
    "    for post_id in post_ids:\n",
    "\n",
    "        df = df_eval[(df_eval['username'] == user) & (df_eval['post_id'] == post_id)]\n",
    "\n",
    "        methods_included = df['response_type'].unique()\n",
    "        method_label = {method: [] for method in methods_included}\n",
    "        for method in methods_included:\n",
    "            labels_8 = list(df[df['response_type'] == method]['label_8'])\n",
    "            labels_82 = list(df[df['response_type'] == method]['label_8.2'])\n",
    "\n",
    "            for i, label in enumerate(labels_82):\n",
    "                data_dict[method].append([label,labels_8[i]])\n",
    "                if post_id in userName_postIds_2[user]: # need to count one more time\n",
    "                    data_dict[method].append([label,labels_8[i]])\n",
    "                method_label[method].append([label,labels_8[i]])\n",
    "\n",
    "        methods_excluded = set(all_methods).difference(set(methods_included))\n",
    "        for method in methods_excluded:\n",
    "            responses = list(df_resp[df_resp['post_id'] == post_id][method])\n",
    "\n",
    "            if responses[0] == 'nan':\n",
    "                continue\n",
    "            elif responses[\n",
    "                0] == '~' and 'correction_response (ours, time reference: high-qual note)' in method_label.keys():\n",
    "                data_dict[method] += method_label['correction_response (ours, time reference: high-qual note)']\n",
    "                if post_id in userName_postIds_2[user]:\n",
    "                    data_dict[method] += method_label['correction_response (ours, time reference: high-qual note)']\n",
    "            elif responses[\n",
    "                0] == '|||' and 'correction_response (ours, time reference: avg-qual note)' in method_label.keys():\n",
    "                data_dict[method] += method_label['correction_response (ours, time reference: avg-qual note)']\n",
    "                if post_id in userName_postIds_2[user]:\n",
    "                    data_dict[method] += method_label['correction_response (ours, time reference: avg-qual note)']\n",
    "            elif responses[\n",
    "                0] == '///' and 'correction_response (ours removing {retrieval+image}, i.e., vanilla gpt-4)' in method_label.keys():\n",
    "                data_dict[method] += method_label[\n",
    "                    'correction_response (ours removing {retrieval+image}, i.e., vanilla gpt-4)']\n",
    "                if post_id in userName_postIds_2[user]:\n",
    "                    data_dict[method] += method_label[\n",
    "                        'correction_response (ours removing {retrieval+image}, i.e., vanilla gpt-4)']\n",
    "            elif responses[0] == '*' and 'correction_response (ours removing retrieval)' in method_label.keys():\n",
    "                data_dict[method] += method_label['correction_response (ours removing retrieval)']\n",
    "                if post_id in userName_postIds_2[user]:\n",
    "                    data_dict[method] += method_label['correction_response (ours removing retrieval)']\n",
    "            elif responses[0] == '$' and 'correction_response (ours removing image)' in method_label.keys():\n",
    "                data_dict[method] += method_label['correction_response (ours removing image)']\n",
    "                if post_id in userName_postIds_2[user]:\n",
    "                    data_dict[method] += method_label['correction_response (ours removing image)']"
   ],
   "metadata": {
    "collapsed": false,
    "ExecuteTime": {
     "end_time": "2024-04-26T08:23:39.948184Z",
     "start_time": "2024-04-26T08:23:39.348129Z"
    }
   },
   "id": "a80cd7b9afa11d60"
  },
  {
   "cell_type": "code",
   "execution_count": 11,
   "outputs": [
    {
     "data": {
      "text/plain": "Text(140, 1.5, '$p=1$')"
     },
     "execution_count": 11,
     "metadata": {},
     "output_type": "execute_result"
    },
    {
     "data": {
      "text/plain": "<Figure size 280x140 with 1 Axes>",
      "image/png": "[encoded data removed]"
     },
     "metadata": {},
     "output_type": "display_data"
    }
   ],
   "source": [
    "labels_mapping = {\n",
    "    'Yes': 'High',\n",
    "    'No': 'Low',\n",
    "    'Cant Determine': 'CND',\n",
    "}\n",
    "label2num = dict(zip(\n",
    "    list(labels_mapping.values())[:-1], \n",
    "    reversed(range(len(labels_mapping.values())-1))\n",
    "))\n",
    "\n",
    "data_dict_2 = {}\n",
    "for method, labels in data_dict.items():\n",
    "    if method in target_methods_mapping.keys():\n",
    "        data_dict_2[target_methods_mapping[method]] = []\n",
    "        for x in labels:\n",
    "            labels_82, label_8 = x[0], x[1]\n",
    "            if label_8 == 'Yes':\n",
    "                data_dict_2[target_methods_mapping[method]].append(labels_mapping[labels_82])\n",
    "        \n",
    "df_plot = pd.DataFrame(columns=[method for method in target_methods_mapping.values()], index=[label for label in labels_mapping.values()])\n",
    "for label in labels_mapping.values():\n",
    "    for method in target_methods_mapping.values():\n",
    "        df_plot[method][label] = Counter(data_dict_2[method])[label] * 100 / len(data_dict_2[method])\n",
    "df_plot = df_plot.drop(index='CND')\n",
    "df_plot = df_plot.T\n",
    "\n",
    "fig, ax = plt.subplots(figsize=(fig_width, fig_height))\n",
    "df_plot.plot.barh(stacked=True, color=['#5C9BBB', '#DD6F5B'], width=line_width, linewidth=0, ax=ax)\n",
    "num_on_stacked_bar(ax)\n",
    "\n",
    "ax.set_xlim(0, x_lim)\n",
    "ax.set_xticks(ticks=[0, 25, 50, 75, 100], labels=['0%', '25', '50', '75', '100'], color='grey', fontsize=font_small)\n",
    "ax.set_yticks(ticks=[0, 1, 2, 3], labels=list(df_plot.index))\n",
    "ax.tick_params(top=False, labeltop=True, bottom=False, labelbottom=False, axis='x', which='major', pad=-3)\n",
    "\n",
    "plt.setp(ax.spines.values(), color='k', linewidth=line_width)\n",
    "ax.spines['right'].set_visible(False)\n",
    "ax.spines['top'].set_visible(False)\n",
    "ax.spines['bottom'].set_visible(False)\n",
    "ax.yaxis.set_tick_params(width=line_width)\n",
    "ax.set_axisbelow(True)\n",
    "ax.grid(axis='x', color='#F3EBE1', linewidth=line_width)\n",
    "plt.gca().get_yticklabels()[0].set_color('#8798C4')\n",
    "plt.gca().get_yticklabels()[0].set_fontweight('bold')\n",
    "\n",
    "lgnd = ax.legend(loc='lower left', facecolor='w', edgecolor='w', framealpha=1, fancybox=False,\n",
    "                  handlelength=0.7, handletextpad=0.5, borderpad=0.2, labelspacing=0.25, columnspacing=0.5,\n",
    "                  title='Relevance of references', bbox_to_anchor=(-0.03, bbox_y), ncol=3)\n",
    "lgnd._legend_box.align = 'center'\n",
    "\n",
    "ax.annotate('', xy=(l1_x, 0), xytext=(l1_x, 2), arrowprops=dict(arrowstyle='-', lw=line_width, color='k'))\n",
    "ax.text(l1_x+10, 1, r'$p=0.06$', va='center', ha='right', fontsize=font_medium, rotation=-90)\n",
    "ax.annotate('', xy=(l2_x, 2), xytext=(l2_x, 3), arrowprops=dict(arrowstyle='-', lw=line_width, color='k'))\n",
    "ax.text(l2_x+10, 2.5, r'$p=0.09$', va='center', ha='right', fontsize=font_medium, rotation=-90)\n",
    "ax.annotate('', xy=(l3_x, 0), xytext=(l3_x, 3), arrowprops=dict(arrowstyle='-', lw=line_width, color='k'))\n",
    "ax.text(l3_x+10, 1.5, r'$p=1$', va='center', ha='right', fontsize=font_medium, rotation=-90)"
   ],
   "metadata": {
    "collapsed": false,
    "ExecuteTime": {
     "end_time": "2024-04-26T08:23:40.096245Z",
     "start_time": "2024-04-26T08:23:39.948408Z"
    }
   },
   "id": "b75eab77d4361c1a"
  },
  {
   "cell_type": "code",
   "execution_count": 12,
   "outputs": [
    {
     "name": "stdout",
     "output_type": "stream",
     "text": [
      "{('GPT-4', 'Laypeople (avg)'): 4.127486060906466e-18,\n",
      " ('GPT-4', 'Laypeople (high)'): 1.109601313170496e-28,\n",
      " ('Laypeople (high)', 'Laypeople (avg)'): 0.09484455995596641,\n",
      " ('MUSE', 'GPT-4'): 2.535355485286859e-29,\n",
      " ('MUSE', 'Laypeople (avg)'): 0.9825276135191319,\n",
      " ('MUSE', 'Laypeople (high)'): 0.06428130888254621}\n"
     ]
    }
   ],
   "source": [
    "methods_pval = {}\n",
    "method_pairs = [(a, b) for idx, a in enumerate(target_methods_mapping.values()) for b in\n",
    "                list(target_methods_mapping.values())[idx + 1:]]\n",
    "for m1, m2 in method_pairs:\n",
    "    _, p = mannwhitneyu([label2num[label] for label in data_dict_2[m1] if label != 'CND'],\n",
    "                        [label2num[label] for label in data_dict_2[m2] if label != 'CND'])\n",
    "    methods_pval[(m1, m2)] = p\n",
    "pprint(methods_pval)"
   ],
   "metadata": {
    "collapsed": false,
    "ExecuteTime": {
     "end_time": "2024-04-26T08:23:40.105640Z",
     "start_time": "2024-04-26T08:23:40.098135Z"
    }
   },
   "id": "467c4ded43ce9b81"
  },
  {
   "cell_type": "code",
   "execution_count": 13,
   "outputs": [
    {
     "name": "stdout",
     "output_type": "stream",
     "text": [
      "429\n",
      "213\n",
      "318\n",
      "227\n"
     ]
    }
   ],
   "source": [
    "data_dict = {method: [] for method in all_methods}\n",
    "for user in all_users:\n",
    "    post_ids = df_eval[df_eval['username'] == user]['post_id'].unique()\n",
    "    for post_id in post_ids:\n",
    "\n",
    "        df = df_eval[(df_eval['username'] == user) & (df_eval['post_id'] == post_id)]\n",
    "\n",
    "        methods_included = df['response_type'].unique()\n",
    "        method_label = {method: [] for method in methods_included}\n",
    "        for method in methods_included:\n",
    "            labels_8 = list(df[df['response_type'] == method]['label_8'])\n",
    "            labels_81 = list(df[df['response_type'] == method]['label_8.2'])\n",
    "\n",
    "            urls = list(df[df['response_type'] == method]['url'])\n",
    "            url_labels = {post_id+'_'+url: [labels_81[i], labels_8[i]] for i, url in enumerate(urls)}\n",
    "            \n",
    "            data_dict[method].append(url_labels)\n",
    "            method_label[method].append(url_labels)\n",
    "\n",
    "        methods_excluded = set(all_methods).difference(set(methods_included))\n",
    "        for method in methods_excluded:\n",
    "            responses = list(df_resp[df_resp['post_id'] == post_id][method])\n",
    "\n",
    "            if responses[0] == 'nan':\n",
    "                continue\n",
    "            elif responses[\n",
    "                0] == '~' and 'correction_response (ours, time reference: high-qual note)' in method_label.keys():\n",
    "                data_dict[method] += method_label['correction_response (ours, time reference: high-qual note)']\n",
    "            elif responses[\n",
    "                0] == '|||' and 'correction_response (ours, time reference: avg-qual note)' in method_label.keys():\n",
    "                data_dict[method] += method_label['correction_response (ours, time reference: avg-qual note)']\n",
    "            elif responses[\n",
    "                0] == '///' and 'correction_response (ours removing {retrieval+image}, i.e., vanilla gpt-4)' in method_label.keys():\n",
    "                data_dict[method] += method_label[\n",
    "                    'correction_response (ours removing {retrieval+image}, i.e., vanilla gpt-4)']\n",
    "            elif responses[0] == '*' and 'correction_response (ours removing retrieval)' in method_label.keys():\n",
    "                data_dict[method] += method_label['correction_response (ours removing retrieval)']\n",
    "            elif responses[0] == '$' and 'correction_response (ours removing image)' in method_label.keys():\n",
    "                data_dict[method] += method_label['correction_response (ours removing image)']\n",
    "                  \n",
    "data_dict_2 = {}\n",
    "for method, labels in data_dict.items():\n",
    "    if method in target_methods_mapping.keys():\n",
    "        data_dict_2[target_methods_mapping[method]] = data_dict[method]\n",
    "\n",
    "print(len(set([url for url_labels in data_dict_2['MUSE'] for url, labels in url_labels.items() if labels[1] == 'Yes' and labels_mapping[labels[0]] in label2num.keys()])))\n",
    "print(len(set([url for url_labels in data_dict_2['GPT-4'] for url, labels in url_labels.items() if labels[1] == 'Yes' and labels_mapping[labels[0]] in label2num.keys()])))\n",
    "print(len(set([url for url_labels in data_dict_2['Laypeople (high)'] for url, labels in url_labels.items() if labels[1] == 'Yes' and labels_mapping[labels[0]] in label2num.keys()])))\n",
    "print(len(set([url for url_labels in data_dict_2['Laypeople (avg)'] for url, labels in url_labels.items() if labels[1] == 'Yes' and labels_mapping[labels[0]] in label2num.keys()])))"
   ],
   "metadata": {
    "collapsed": false,
    "ExecuteTime": {
     "end_time": "2024-04-26T08:23:40.859662Z",
     "start_time": "2024-04-26T08:23:40.105354Z"
    }
   },
   "id": "a0c8580679a7a709"
  }
 ],
 "metadata": {
  "kernelspec": {
   "display_name": "Python 3",
   "language": "python",
   "name": "python3"
  },
  "language_info": {
   "codemirror_mode": {
    "name": "ipython",
    "version": 2
   },
   "file_extension": ".py",
   "mimetype": "text/x-python",
   "name": "python",
   "nbconvert_exporter": "python",
   "pygments_lexer": "ipython2",
   "version": "2.7.6"
  }
 },
 "nbformat": 4,
 "nbformat_minor": 5
}
