{
 "cells": [
  {
   "cell_type": "code",
   "execution_count": 1,
   "metadata": {},
   "outputs": [],
   "source": [
    "import pandas as pd\n",
    "import codecs\n",
    "import os\n",
    "import numpy as np"
   ]
  },
  {
   "cell_type": "code",
   "execution_count": 2,
   "metadata": {},
   "outputs": [],
   "source": [
    "import seaborn as sns\n",
    "import matplotlib\n",
    "import matplotlib.pyplot as plt\n",
    "import matplotlib.ticker as ticker\n",
    "import matplotlib.patches as mpatches\n",
    "\n",
    "matplotlib.rcParams['text.usetex']=False\n",
    "# matplotlib.rcParams['text.latex.unicode']=True\n",
    "\n",
    "matplotlib.rcParams['figure.autolayout'] = True\n",
    "\n",
    "sns.set_style('ticks', {'xtick.bottom': True, \"ytick.left\": True, 'grid.color': '0.9'})\n",
    "\n",
    "sns.set_context(\n",
    "\t\"talk\",\n",
    "\tfont_scale=0.9,\n",
    "\trc={\n",
    "\t\t\"lines.linewidth\": 2,\n",
    "\t\t\"text.usetex\": False,\n",
    "\t\t\"font.family\": 'Lato',\n",
    "\t\t\"font.sans-serif\": ['Palatino'],\n",
    "\t\t\"font.weight\": 'bold',\n",
    "\t\t\"font.size\": 22,\n",
    "\t\t\"xtick.major.size\": 6,\n",
    "\t\t\"xtick.major.width\": 2,\n",
    "\t\t\"ytick.left\": True\n",
    "\t})"
   ]
  },
  {
   "cell_type": "code",
   "execution_count": 3,
   "metadata": {},
   "outputs": [],
   "source": [
    "data_path = '../data/'"
   ]
  },
  {
   "cell_type": "code",
   "execution_count": 4,
   "metadata": {},
   "outputs": [],
   "source": [
    "files = os.listdir(data_path)"
   ]
  },
  {
   "cell_type": "code",
   "execution_count": 5,
   "metadata": {},
   "outputs": [],
   "source": [
    "posts = pd.read_csv(data_path + 'posts.csv')"
   ]
  },
  {
   "cell_type": "code",
   "execution_count": 6,
   "metadata": {},
   "outputs": [
    {
     "data": {
      "text/plain": [
       "941"
      ]
     },
     "execution_count": 6,
     "metadata": {},
     "output_type": "execute_result"
    }
   ],
   "source": [
    "len(posts[posts['annotated'] == 'Y'])"
   ]
  },
  {
   "cell_type": "markdown",
   "metadata": {},
   "source": [
    "### Change in Belief"
   ]
  },
  {
   "cell_type": "code",
   "execution_count": 9,
   "metadata": {},
   "outputs": [],
   "source": [
    "pre_belief = pd.read_csv(data_path + 'pre_belief.csv')"
   ]
  },
  {
   "cell_type": "code",
   "execution_count": 11,
   "metadata": {},
   "outputs": [],
   "source": [
    "# prolific id is not None\n",
    "\n",
    "pre_belief = pre_belief[pre_belief['prolific_id'].notnull()]\n",
    "\n",
    "# condition is not None\n",
    "\n",
    "pre_belief = pre_belief[pre_belief['condition'].notnull()]"
   ]
  },
  {
   "cell_type": "code",
   "execution_count": 12,
   "metadata": {},
   "outputs": [],
   "source": [
    "# remove duplicate prolific id, keep the last one\n",
    "\n",
    "pre_belief = pre_belief.drop_duplicates(subset='prolific_id', keep='last')"
   ]
  },
  {
   "cell_type": "code",
   "execution_count": 13,
   "metadata": {},
   "outputs": [],
   "source": [
    "post_belief = pd.read_csv(data_path + 'post_belief.csv')"
   ]
  },
  {
   "cell_type": "code",
   "execution_count": 14,
   "metadata": {},
   "outputs": [],
   "source": [
    "# prolific id is not None\n",
    "\n",
    "post_belief = post_belief[post_belief['prolific_id'].notnull()]\n",
    "\n",
    "# condition is not None\n",
    "\n",
    "post_belief = post_belief[post_belief['condition'].notnull()]"
   ]
  },
  {
   "cell_type": "code",
   "execution_count": 15,
   "metadata": {},
   "outputs": [],
   "source": [
    "# remove duplicate prolific id, keep the last one\n",
    "\n",
    "post_belief = post_belief.drop_duplicates(subset='prolific_id', keep='last')"
   ]
  },
  {
   "cell_type": "code",
   "execution_count": 17,
   "metadata": {},
   "outputs": [],
   "source": [
    "# join pre and post belief on prolific id, post id\n",
    "\n",
    "pre_belief = pre_belief.rename(columns={'label': 'pre_label'})\n",
    "post_belief = post_belief.rename(columns={'label': 'post_label'})\n",
    "\n",
    "pre_post_belief = pd.merge(pre_belief, post_belief, on='prolific_id', how='inner')"
   ]
  },
  {
   "cell_type": "code",
   "execution_count": 19,
   "metadata": {},
   "outputs": [],
   "source": [
    "# remove 62cf2c16297da842a4b56430 -- test user\n",
    "\n",
    "pre_post_belief = pre_post_belief[pre_post_belief['prolific_id'] != '62cf2c16297da842a4b56430']"
   ]
  },
  {
   "cell_type": "code",
   "execution_count": 20,
   "metadata": {},
   "outputs": [],
   "source": [
    "# change in label\n",
    "\n",
    "pre_post_belief['change_in_label'] = pre_post_belief['post_label'] - pre_post_belief['pre_label']\n",
    "\n",
    "\n",
    "# percentage change\n",
    "\n",
    "pre_post_belief['percentage_change'] = (pre_post_belief['post_label'] - pre_post_belief['pre_label']) / pre_post_belief['pre_label']"
   ]
  },
  {
   "cell_type": "code",
   "execution_count": 21,
   "metadata": {},
   "outputs": [],
   "source": [
    "# condition_x -- Categorical and Ordered 'label' and 'no label'\n",
    "\n",
    "pre_post_belief['condition_x'] = pre_post_belief['condition_x'].map({'label': 'Label', 'no label': 'No Label'})\n",
    "\n",
    "# ordered\n",
    "\n",
    "pre_post_belief['condition_x'] = pd.Categorical(pre_post_belief['condition_x'], categories=['No Label', 'Label'], ordered=True)"
   ]
  },
  {
   "cell_type": "code",
   "execution_count": 22,
   "metadata": {},
   "outputs": [],
   "source": [
    "# prebelief\n",
    "\n",
    "# 1: Extremely Accurate\n",
    "# 2: Accurate\n",
    "# 3: Somewhat Accurate\n",
    "# 4: Neutral\n",
    "# 5: Somewhat Misleading\n",
    "# 6: Misleading\n",
    "# 7: Extremely Misleading\n",
    "\n",
    "pre_post_belief['pre_label_map'] = pre_post_belief['pre_label'].map({1: '1: Extremely Accurate', 2: '2: Accurate', 3: '3: Somewhat Accurate', 4: '4: Neutral', 5: '5: Somewhat Misleading', 6: '6: Misleading', 7: '7: Extremely Misleading'})\n",
    "\n",
    "# ordered\n",
    "\n",
    "pre_post_belief['pre_label_map'] = pd.Categorical(pre_post_belief['pre_label_map'], categories=['1: Extremely Accurate', '2: Accurate', '3: Somewhat Accurate', '4: Neutral', '5: Somewhat Misleading', '6: Misleading', '7: Extremely Misleading'], ordered=True)"
   ]
  },
  {
   "cell_type": "code",
   "execution_count": 23,
   "metadata": {},
   "outputs": [],
   "source": [
    "# post_id_x to post_id\n",
    "\n",
    "pre_post_belief = pre_post_belief.rename(columns={'post_id_x': 'post_id'})"
   ]
  },
  {
   "cell_type": "code",
   "execution_count": 24,
   "metadata": {},
   "outputs": [],
   "source": [
    "# merge with posts[['post_id', 'response_type']]\n",
    "\n",
    "pre_post_belief = pd.merge(pre_post_belief, posts[['post_id', 'response_type']], on='post_id', how='inner')"
   ]
  },
  {
   "cell_type": "code",
   "execution_count": 25,
   "metadata": {},
   "outputs": [],
   "source": [
    "pre_belief['collection_time'] = 'pre'\n",
    "post_belief['collection_time'] = 'post'\n",
    "\n",
    "pre_belief['label'] = pre_belief['pre_label']\n",
    "post_belief['label'] = post_belief['post_label']"
   ]
  },
  {
   "cell_type": "code",
   "execution_count": 26,
   "metadata": {},
   "outputs": [],
   "source": [
    "pre_post_belief_concat = pd.concat([pre_belief, post_belief], axis=0)"
   ]
  },
  {
   "cell_type": "code",
   "execution_count": 28,
   "metadata": {},
   "outputs": [],
   "source": [
    "condition_map = {'label': 'Signaling', 'no label': 'No Signaling'}\n",
    "\n",
    "pre_post_belief_concat['condition_map'] = pre_post_belief_concat['condition'].map(condition_map)"
   ]
  },
  {
   "cell_type": "code",
   "execution_count": 29,
   "metadata": {},
   "outputs": [
    {
     "name": "stderr",
     "output_type": "stream",
     "text": [
      "/tmp/ipykernel_591108/566046559.py:9: UserWarning: set_ticklabels() should only be used with a fixed number of ticks, i.e. after set_ticks() or using a FixedLocator.\n",
      "  ax.set_xticklabels(['Before Reading\\nthe Response', 'After Reading\\nthe Response'])\n"
     ]
    },
    {
     "data": {
      "image/png": "[encoded data removed]",
      "text/plain": [
       "<Figure size 600x400 with 1 Axes>"
      ]
     },
     "metadata": {},
     "output_type": "display_data"
    }
   ],
   "source": [
    "g = sns.pointplot(x='collection_time', y='label', hue='condition_map', data=pre_post_belief_concat, dodge=True, palette=['#BABFD4', '#8798C4'], markers=['<', '>'],)\n",
    "\n",
    "ax = g.axes\n",
    "\n",
    "ax.set_ylabel('Is the Tweet Misleading? (1-7)')\n",
    "\n",
    "ax.set_xlabel('')\n",
    "\n",
    "ax.set_xticklabels(['Before Reading\\nthe Response', 'After Reading\\nthe Response'])\n",
    "\n",
    "\n",
    "# legend outside\n",
    "\n",
    "# plt.legend(title='Condition', bbox_to_anchor=(1.05, 1), loc=2, borderaxespad=0.)\n",
    "\n",
    "plt.legend(bbox_to_anchor=(0.5, 1.3), loc='upper center', borderaxespad=0., ncol=2, title=None, facecolor='w', edgecolor='w', framealpha=1, fancybox=False, handletextpad=0.2, borderpad=0., labelspacing=0.5, columnspacing=1.)\n",
    "\n",
    "\n",
    "# increase width\n",
    "\n",
    "plt.gcf().set_size_inches(6, 4)\n"
   ]
  },
  {
   "cell_type": "code",
   "execution_count": 30,
   "metadata": {},
   "outputs": [],
   "source": [
    "def cohen_d(x, y):\n",
    "\tnx = len(x)\n",
    "\tny = len(y)\n",
    "\tdof = nx + ny - 2\n",
    "\ts = ((nx - 1) * x.std() ** 2 + (ny - 1) * y.std() ** 2) / dof\n",
    "\ts = s ** 0.5\n",
    "\td = (x.mean() - y.mean()) / s\n",
    "\treturn d"
   ]
  },
  {
   "cell_type": "code",
   "execution_count": 31,
   "metadata": {},
   "outputs": [
    {
     "name": "stdout",
     "output_type": "stream",
     "text": [
      "label\n",
      "-0.05425143666611441\n",
      "TtestResult(statistic=-0.8646256233802613, pvalue=0.38744879603529614, df=1014.0)\n",
      "pre:  4.505905511811024\n",
      "post:  4.5984251968503935\n",
      "diff:  0.09251968503936947\n",
      "relative_diff:  0.020532983835735992\n",
      "no label\n",
      "-0.20134145720135396\n",
      "TtestResult(statistic=-3.127279048777846, pvalue=0.0018172878837592163, df=963.0)\n",
      "pre:  4.37888198757764\n",
      "post:  4.719917012448133\n",
      "diff:  0.341035024870493\n",
      "relative_diff:  0.07788175745269414\n"
     ]
    }
   ],
   "source": [
    "# is the difference between pre_label and post_label statistically significant?\n",
    "\n",
    "from scipy.stats import ttest_ind\n",
    "\n",
    "# for each condition\n",
    "\n",
    "for condition in ['label', 'no label']:\n",
    "\tprint(condition)\n",
    "\n",
    "\tprint(cohen_d(pre_post_belief_concat[(pre_post_belief_concat['condition'] == condition) & ~(pre_post_belief_concat['pre_label'].isna())]['pre_label'], pre_post_belief_concat[(pre_post_belief_concat['condition'] == condition) & ~(pre_post_belief_concat['post_label'].isna())]['post_label']))\n",
    "\n",
    "\tprint(ttest_ind(pre_post_belief_concat[(pre_post_belief_concat['condition'] == condition) & ~(pre_post_belief_concat['pre_label'].isna())]['pre_label'], pre_post_belief_concat[(pre_post_belief_concat['condition'] == condition) & ~(pre_post_belief_concat['post_label'].isna())]['post_label']))\n",
    "\n",
    "\tprint('pre: ', pre_post_belief_concat[pre_post_belief_concat['condition'] == condition]['pre_label'].mean())\n",
    "\n",
    "\tprint('post: ', pre_post_belief_concat[pre_post_belief_concat['condition'] == condition]['post_label'].mean())\n",
    "\n",
    "\n",
    "\t# diff\n",
    "\n",
    "\tprint('diff: ', pre_post_belief_concat[pre_post_belief_concat['condition'] == condition]['post_label'].mean() - pre_post_belief_concat[pre_post_belief_concat['condition'] == condition]['pre_label'].mean())\n",
    "\n",
    "\t# relative_diff\n",
    "\n",
    "\tprint('relative_diff: ', (pre_post_belief_concat[pre_post_belief_concat['condition'] == condition]['post_label'].mean() - pre_post_belief_concat[pre_post_belief_concat['condition'] == condition]['pre_label'].mean()) / pre_post_belief_concat[pre_post_belief_concat['condition'] == condition]['pre_label'].mean())"
   ]
  },
  {
   "cell_type": "code",
   "execution_count": 32,
   "metadata": {},
   "outputs": [],
   "source": [
    "pre_post_belief_concat = pd.merge(pre_post_belief_concat, posts[['post_id', 'response_type']], on='post_id', how='inner')"
   ]
  },
  {
   "cell_type": "code",
   "execution_count": 33,
   "metadata": {},
   "outputs": [],
   "source": [
    "pre_post_belief_concat['response_type'] = pre_post_belief_concat['response_type'].map({'human-high': 'Laypeople (high)', 'human-avg': 'Laypeople (avg)', 'gpt-4': 'GPT-4', 'muse': 'MUSE'})\n",
    "\n",
    "pre_post_belief_concat['response_type'] = pd.Categorical(pre_post_belief_concat['response_type'], categories=['Laypeople (avg)', 'Laypeople (high)', 'GPT-4', 'MUSE'], ordered=True)"
   ]
  },
  {
   "cell_type": "code",
   "execution_count": 34,
   "metadata": {},
   "outputs": [],
   "source": [
    "method_color = {\n",
    "    'Laypeople (avg)': '#F7E6CC',\n",
    "    'Laypeople (high)': '#F8D3A6',\n",
    "    'GPT-4': '#BABFD4',\n",
    "    'MUSE': '#8798C4'\n",
    "}"
   ]
  },
  {
   "cell_type": "code",
   "execution_count": 35,
   "metadata": {},
   "outputs": [],
   "source": [
    "method_marker = {\n",
    "    'MUSE': 's',\n",
    "    'GPT-4': 'o',\n",
    "    'Laypeople (high)': '>',\n",
    "    'Laypeople (avg)': '<'\n",
    "}\n"
   ]
  },
  {
   "cell_type": "code",
   "execution_count": 36,
   "metadata": {},
   "outputs": [],
   "source": [
    "matplotlib.rcParams['font.size'] = 12\n"
   ]
  },
  {
   "cell_type": "code",
   "execution_count": 37,
   "metadata": {},
   "outputs": [
    {
     "name": "stderr",
     "output_type": "stream",
     "text": [
      "/tmp/ipykernel_591108/30648565.py:11: UserWarning: set_ticklabels() should only be used with a fixed number of ticks, i.e. after set_ticks() or using a FixedLocator.\n",
      "  ax.set_xticklabels(['Before Reading\\nthe Response', 'After Reading\\nthe Response'])\n"
     ]
    },
    {
     "data": {
      "image/png": "[encoded data removed]",
      "text/plain": [
       "<Figure size 500x400 with 1 Axes>"
      ]
     },
     "metadata": {},
     "output_type": "display_data"
    }
   ],
   "source": [
    "g = sns.pointplot(x='collection_time', y='label', hue='response_type', data=pre_post_belief_concat, dodge=0.2, palette=['#F7E6CC', '#F8D3A6', '#BABFD4', '#8798C4'], markers=['<', '>', 'o', 's'],)\n",
    "\n",
    "ax = g.axes\n",
    "\n",
    "ax.set_ylabel('Is the Tweet\\nMisleading? (1-7)')\n",
    "\n",
    "ax.set_xlabel('')\n",
    "\n",
    "# change xtick labels 'before reading\\nthe response', 'after reading\\nthe response'\n",
    "\n",
    "ax.set_xticklabels(['Before Reading\\nthe Response', 'After Reading\\nthe Response'])\n",
    "\n",
    "ax.set_ylim([3.85, 5.15])\n",
    "\n",
    "# y-ticks 4 to 5: \n",
    "ax.set_yticks([4, 5])\n",
    "\n",
    "# minor ticks every 0.2, major every 1\n",
    "\n",
    "# major every 1, minor every 0.2 \n",
    "\n",
    "# ax.yaxis.set_major_locator(ticker.MultipleLocator(1))\n",
    "ax.yaxis.set_minor_locator(ticker.MultipleLocator(0.2))\n",
    "\n",
    "\n",
    "# legend outside and on top 4 columns, no title, no box\n",
    "\n",
    "plt.legend(bbox_to_anchor=(0.5, 1.3), loc='upper center', borderaxespad=0., ncol=2, title=None, facecolor='w', edgecolor='w', framealpha=1, fancybox=False, handletextpad=0.2, borderpad=0., labelspacing=0.5, columnspacing=1.)\n",
    "\n",
    "\n",
    "# increase width\n",
    "\n",
    "plt.gcf().set_size_inches(5, 4)\n",
    "\n",
    "# tight_layout\n",
    "plt.tight_layout()\n",
    "\n",
    "# save\n",
    "\n",
    "# plt.savefig('pre_post_belief.svg')\n"
   ]
  },
  {
   "cell_type": "code",
   "execution_count": 38,
   "metadata": {},
   "outputs": [],
   "source": [
    "pre_post_belief['response_type'] = pre_post_belief['response_type'].map({'human-high': 'Laypeople (high)', 'human-avg': 'Laypeople (avg)', 'gpt-4': 'GPT-4', 'muse': 'MUSE'})\n",
    "\n",
    "pre_post_belief['response_type'] = pd.Categorical(pre_post_belief['response_type'], categories=['Laypeople (avg)', 'Laypeople (high)', 'GPT-4', 'MUSE'], ordered=True)"
   ]
  },
  {
   "cell_type": "code",
   "execution_count": 39,
   "metadata": {},
   "outputs": [
    {
     "name": "stderr",
     "output_type": "stream",
     "text": [
      "/tmp/ipykernel_591108/3547175474.py:4: FutureWarning: \n",
      "\n",
      "Passing `palette` without assigning `hue` is deprecated and will be removed in v0.14.0. Assign the `y` variable to `hue` and set `legend=False` for the same effect.\n",
      "\n",
      "  g = sns.pointplot(y='response_type', x='change_in_label', data=pre_post_belief, dodge=True, palette=['#F7E6CC', '#F8D3A6', '#BABFD4', '#8798C4'], markers=['<', '>', 'o', 's'])\n"
     ]
    },
    {
     "data": {
      "image/png": "[encoded data removed]",
      "text/plain": [
       "<Figure size 600x350 with 1 Axes>"
      ]
     },
     "metadata": {},
     "output_type": "display_data"
    }
   ],
   "source": [
    "# draw a vertical line at 0\n",
    "plt.axvline(x=0, color='grey', linestyle='dotted', linewidth=2)\n",
    "\n",
    "g = sns.pointplot(y='response_type', x='change_in_label', data=pre_post_belief, dodge=True, palette=['#F7E6CC', '#F8D3A6', '#BABFD4', '#8798C4'], markers=['<', '>', 'o', 's'])\n",
    "\n",
    "ax = g.axes\n",
    "\n",
    "ax.set_xlabel('Increase in Belief that\\nthe Misinformation is Misleading')\n",
    "\n",
    "ax.set_ylabel('')\n",
    "\n",
    "# y-ticks 4 to 5: \n",
    "ax.set_xlim([-0.1, .7])\n",
    "\n",
    "\n",
    "ax.set_xticks(np.arange(0., 0.6, 0.1), minor=True)\n",
    "ax.set_xticks(np.arange(0., 0.61, 0.2), minor=False)\n",
    "\n",
    "\n",
    "# minor ticks every 0.2, major every 1\n",
    "\n",
    "# major every 1, minor every 0.2 \n",
    "\n",
    "# ax.yaxis.set_major_locator(ticker.MultipleLocator(1))\n",
    "# ax.xaxis.set_minor_locator(ticker.MultipleLocator(0.1))\n",
    "\n",
    "\n",
    "# legend outside\n",
    "\n",
    "# plt.legend(title='Pre Belief', bbox_to_anchor=(1.05, 1), loc=2, borderaxespad=0.)\n",
    "\n",
    "# increase width\n",
    "\n",
    "# plt.gcf().set_size_inches(10, 6)\n",
    "plt.gcf().set_size_inches(6, 3.5)\n",
    "\n",
    "# tight_layout\n",
    "plt.tight_layout()\n",
    "\n",
    "# save\n",
    "\n",
    "# plt.savefig('plots/change_in_belief.svg')\n"
   ]
  },
  {
   "cell_type": "code",
   "execution_count": 41,
   "metadata": {},
   "outputs": [
    {
     "name": "stderr",
     "output_type": "stream",
     "text": [
      "/tmp/ipykernel_591108/2752079964.py:9: FutureWarning: \n",
      "\n",
      "Passing `palette` without assigning `hue` is deprecated and will be removed in v0.14.0. Assign the `y` variable to `hue` and set `legend=False` for the same effect.\n",
      "\n",
      "  g = sns.pointplot(y='condition_map', x='change_in_label', data=pre_post_belief, dodge=True, palette=['#bdbdbd', '#424242'], markers=['x', 'D'],)\n",
      "/tmp/ipykernel_591108/2752079964.py:32: UserWarning: No artists with labels found to put in legend.  Note that artists whose label start with an underscore are ignored when legend() is called with no argument.\n",
      "  plt.legend(bbox_to_anchor=(0.5, 1.3), loc='upper center', borderaxespad=0., ncol=2, title=None, facecolor='w', edgecolor='w', framealpha=1, fancybox=False, handletextpad=0.2, borderpad=0., labelspacing=0.5, columnspacing=1.)\n"
     ]
    },
    {
     "data": {
      "image/png": "[encoded data removed]",
      "text/plain": [
       "<Figure size 600x250 with 1 Axes>"
      ]
     },
     "metadata": {},
     "output_type": "display_data"
    }
   ],
   "source": [
    "condition_map = {'label': 'Signaling', 'no label': 'No Signaling'}\n",
    "\n",
    "pre_post_belief['condition_map'] = pre_post_belief['condition_y'].map(condition_map)\n",
    "\n",
    "pre_post_belief['condition_map'] = pd.Categorical(pre_post_belief['condition_map'], categories=['No Signaling', 'Signaling'], ordered=True)\n",
    "\n",
    "plt.axvline(x=0, color='grey', linestyle='dotted', linewidth=2)\n",
    "\n",
    "g = sns.pointplot(y='condition_map', x='change_in_label', data=pre_post_belief, dodge=True, palette=['#bdbdbd', '#424242'], markers=['x', 'D'],)\n",
    "\n",
    "ax = g.axes\n",
    "\n",
    "ax.set_xlabel('Increase in Belief that\\nthe Misinformation is Misleading')\n",
    "\n",
    "ax.set_ylabel('')\n",
    "\n",
    "# y-ticks 4 to 5: \n",
    "# ax.set_xlim([-0.1, .6])\n",
    "\n",
    "\n",
    "ax.set_xticks(np.arange(0., 0.6, 0.1), minor=True)\n",
    "ax.set_xticks(np.arange(0., 0.61, 0.2), minor=False)\n",
    "\n",
    "\n",
    "# ax.set_xticklabels(['Before Reading\\nthe Response', 'After Reading\\nthe Response'])\n",
    "\n",
    "\n",
    "# legend outside\n",
    "\n",
    "# plt.legend(title='Condition', bbox_to_anchor=(1.05, 1), loc=2, borderaxespad=0.)\n",
    "\n",
    "plt.legend(bbox_to_anchor=(0.5, 1.3), loc='upper center', borderaxespad=0., ncol=2, title=None, facecolor='w', edgecolor='w', framealpha=1, fancybox=False, handletextpad=0.2, borderpad=0., labelspacing=0.5, columnspacing=1.)\n",
    "\n",
    "\n",
    "# increase width\n",
    "\n",
    "plt.gcf().set_size_inches(6, 2.5)\n",
    "\n",
    "plt.tight_layout()\n",
    "\n",
    "# save\n",
    "\n",
    "# plt.savefig('plots/signaling_change_in_belief.svg')\n",
    "\n"
   ]
  },
  {
   "cell_type": "code",
   "execution_count": 42,
   "metadata": {},
   "outputs": [
    {
     "name": "stdout",
     "output_type": "stream",
     "text": [
      "Laypeople (avg)\n",
      "-0.10598981281777248\n",
      "pre:  4.264227642276423\n",
      "post:  4.436734693877551\n",
      "diff:  0.17250705160112823\n",
      "relative_diff:  0.040454465866422824\n",
      "Laypeople (high)\n",
      "-0.009265442607229451\n",
      "pre:  4.592741935483871\n",
      "post:  4.608870967741935\n",
      "diff:  0.016129032258064058\n",
      "relative_diff:  0.003511852502194808\n",
      "GPT-4\n",
      "-0.12809241255693796\n",
      "pre:  4.467741935483871\n",
      "post:  4.69758064516129\n",
      "diff:  0.22983870967741904\n",
      "relative_diff:  0.051444043321299565\n",
      "MUSE\n",
      "-0.26582026528110736\n",
      "pre:  4.449799196787149\n",
      "post:  4.883534136546185\n",
      "diff:  0.4337349397590362\n",
      "relative_diff:  0.09747292418772564\n"
     ]
    }
   ],
   "source": [
    "# cohen d\n",
    "\n",
    "def cohen_d(x, y):\n",
    "\tnx = len(x)\n",
    "\tny = len(y)\n",
    "\tdof = nx + ny - 2\n",
    "\treturn (x.mean() - y.mean()) / ((nx * x.var() + ny * y.var()) / dof)**0.5\n",
    "\n",
    "\n",
    "# for each response type\n",
    "\n",
    "for response_type in ['Laypeople (avg)', 'Laypeople (high)', 'GPT-4', 'MUSE']:\n",
    "\tprint(response_type)\n",
    "\tprint(cohen_d(pre_post_belief_concat[(pre_post_belief_concat['response_type'] == response_type) & ~(pre_post_belief_concat['pre_label'].isna())]['pre_label'], pre_post_belief_concat[(pre_post_belief_concat['response_type'] == response_type) & ~(pre_post_belief_concat['post_label'].isna())]['post_label']))\n",
    "\n",
    "\tprint('pre: ', pre_post_belief_concat[pre_post_belief_concat['response_type'] == response_type]['pre_label'].mean())\n",
    "\n",
    "\tprint('post: ', pre_post_belief_concat[pre_post_belief_concat['response_type'] == response_type]['post_label'].mean())\n",
    "\n",
    "\n",
    "\t# diff\n",
    "\n",
    "\tprint('diff: ', pre_post_belief_concat[pre_post_belief_concat['response_type'] == response_type]['post_label'].mean() - pre_post_belief_concat[pre_post_belief_concat['response_type'] == response_type]['pre_label'].mean())\n",
    "\n",
    "\t# relative_diff\n",
    "\n",
    "\tprint('relative_diff: ', (pre_post_belief_concat[pre_post_belief_concat['response_type'] == response_type]['post_label'].mean() - pre_post_belief_concat[pre_post_belief_concat['response_type'] == response_type]['pre_label'].mean()) / pre_post_belief_concat[pre_post_belief_concat['response_type'] == response_type]['pre_label'].mean())"
   ]
  },
  {
   "cell_type": "code",
   "execution_count": 44,
   "metadata": {},
   "outputs": [
    {
     "name": "stdout",
     "output_type": "stream",
     "text": [
      "Laypeople (avg)\n",
      "Ttest: TtestResult(statistic=-1.1766853720355486, pvalue=0.23989357050046864, df=489.0)\n",
      "Pre Mean: 4.264227642276423\n",
      "Post Mean: 4.436734693877551\n",
      "Diff: 0.17250705160112823\n",
      "Relative Diff: 0.040454465866422824\n",
      "MUSE\n",
      "Ttest: TtestResult(statistic=-2.9719848821580093, pvalue=0.0031025438591264463, df=496.0)\n",
      "Pre Mean: 4.449799196787149\n",
      "Post Mean: 4.883534136546185\n",
      "Diff: 0.4337349397590362\n",
      "Relative Diff: 0.09747292418772564\n",
      "GPT-4\n",
      "Ttest: TtestResult(statistic=-1.4292612253027335, pvalue=0.1535612105237114, df=494.0)\n",
      "Pre Mean: 4.467741935483871\n",
      "Post Mean: 4.69758064516129\n",
      "Diff: 0.22983870967741904\n",
      "Relative Diff: 0.051444043321299565\n",
      "Laypeople (high)\n",
      "Ttest: TtestResult(statistic=-0.10338424883592877, pvalue=0.9176999686421137, df=494.0)\n",
      "Pre Mean: 4.592741935483871\n",
      "Post Mean: 4.608870967741935\n",
      "Diff: 0.016129032258064058\n",
      "Relative Diff: 0.003511852502194808\n"
     ]
    }
   ],
   "source": [
    "# is the difference between pre_label and post_label statistically significant?\n",
    "\n",
    "from scipy.stats import ttest_ind\n",
    "\n",
    "# for each response type\n",
    "\n",
    "for response_type in pre_post_belief_concat['response_type'].unique():\n",
    "\tpre_label_belief = pre_post_belief_concat[(pre_post_belief_concat['response_type'] == response_type) & (~pre_post_belief_concat['pre_label'].isna())]['pre_label']\n",
    "\tpost_label_belief = pre_post_belief_concat[(pre_post_belief_concat['response_type'] == response_type) & (~pre_post_belief_concat['post_label'].isna())]['post_label']\n",
    "\tprint(response_type)\n",
    "\t\n",
    "\tprint('Ttest:', ttest_ind(pre_label_belief, post_label_belief))\n",
    "\n",
    "\tprint('Pre Mean:', pre_label_belief.mean())\n",
    "\tprint('Post Mean:', post_label_belief.mean())\n",
    "\n",
    "\t# diff\n",
    "\tprint('Diff:', post_label_belief.mean() - pre_label_belief.mean())\n",
    "\n",
    "\t# relative diff\n",
    "\n",
    "\tprint('Relative Diff:', (post_label_belief.mean() - pre_label_belief.mean()) / pre_label_belief.mean())\n",
    "\n"
   ]
  },
  {
   "cell_type": "code",
   "execution_count": 45,
   "metadata": {},
   "outputs": [
    {
     "name": "stdout",
     "output_type": "stream",
     "text": [
      "Laypeople (avg)\n",
      "Ttest: TtestResult(statistic=1.3067595527760203, pvalue=0.19190985404850694, df=488.0)\n",
      "MUSE\n",
      "Ttest: TtestResult(statistic=3.8465534552269625, pvalue=0.0001354116715502051, df=496.0)\n",
      "GPT-4\n",
      "Ttest: TtestResult(statistic=1.780405947543099, pvalue=0.07562654967902947, df=492.0)\n",
      "Laypeople (high)\n",
      "Ttest: TtestResult(statistic=0.11751460994863987, pvalue=0.9065000301794334, df=494.0)\n"
     ]
    }
   ],
   "source": [
    "# is the difference between pre_label and post_label statistically significant?\n",
    "\n",
    "from scipy.stats import ttest_ind\n",
    "\n",
    "# for each response type\n",
    "\n",
    "for response_type in pre_post_belief['response_type'].unique():\n",
    "\tchange_in_label_belief = pre_post_belief[(pre_post_belief['response_type'] == response_type) & (~pre_post_belief['change_in_label'].isna())]['change_in_label']\n",
    "\n",
    "\tprint(response_type)\n",
    "\t\n",
    "\tprint('Ttest:', ttest_ind(change_in_label_belief, np.zeros(len(change_in_label_belief))))"
   ]
  },
  {
   "cell_type": "code",
   "execution_count": 46,
   "metadata": {},
   "outputs": [
    {
     "name": "stdout",
     "output_type": "stream",
     "text": [
      "Signaling\n",
      "Ttest: TtestResult(statistic=0.9642335140367417, pvalue=0.335159214013972, df=1012.0)\n",
      "No Signaling\n",
      "Ttest: TtestResult(statistic=3.8484859335068693, pvalue=0.00012669265727446456, df=962.0)\n"
     ]
    }
   ],
   "source": [
    "# is the difference between pre_label and post_label statistically significant?\n",
    "\n",
    "from scipy.stats import ttest_ind\n",
    "\n",
    "# for each response type\n",
    "\n",
    "for response_type in pre_post_belief['condition_map'].unique():\n",
    "\tchange_in_label_belief = pre_post_belief[(pre_post_belief['condition_map'] == response_type) & (~pre_post_belief['change_in_label'].isna())]['change_in_label']\n",
    "\n",
    "\tprint(response_type)\n",
    "\t\n",
    "\tprint('Ttest:', ttest_ind(change_in_label_belief, np.zeros(len(change_in_label_belief))))"
   ]
  },
  {
   "cell_type": "markdown",
   "metadata": {},
   "source": [
    "### Intention to Share"
   ]
  },
  {
   "cell_type": "code",
   "execution_count": 47,
   "metadata": {},
   "outputs": [],
   "source": [
    "pre_intention = pd.read_csv(data_path + 'pre_intention.csv')"
   ]
  },
  {
   "cell_type": "code",
   "execution_count": 48,
   "metadata": {},
   "outputs": [],
   "source": [
    "# prolific id is not None\n",
    "\n",
    "pre_intention = pre_intention[pre_intention['prolific_id'].notnull()]\n",
    "\n",
    "# condition is not None\n",
    "\n",
    "pre_intention = pre_intention[pre_intention['condition'].notnull()]"
   ]
  },
  {
   "cell_type": "code",
   "execution_count": 49,
   "metadata": {},
   "outputs": [],
   "source": [
    "# remove duplicate prolific id, keep the last one\n",
    "\n",
    "pre_intention = pre_intention.drop_duplicates(subset='prolific_id', keep='last')"
   ]
  },
  {
   "cell_type": "code",
   "execution_count": 50,
   "metadata": {},
   "outputs": [],
   "source": [
    "post_intention = pd.read_csv(data_path + 'post_intention.csv')"
   ]
  },
  {
   "cell_type": "code",
   "execution_count": 51,
   "metadata": {},
   "outputs": [],
   "source": [
    "post_intention = post_intention.drop_duplicates(subset='prolific_id', keep='last')"
   ]
  },
  {
   "cell_type": "code",
   "execution_count": 52,
   "metadata": {},
   "outputs": [],
   "source": [
    "# join pre and post belief on prolific id, post id\n",
    "\n",
    "pre_intention = pre_intention.rename(columns={'label': 'pre_label'})\n",
    "post_intention = post_intention.rename(columns={'label': 'post_label'})\n",
    "\n",
    "pre_post_intention = pd.merge(pre_intention, post_intention, on='prolific_id', how='inner')"
   ]
  },
  {
   "cell_type": "code",
   "execution_count": 53,
   "metadata": {},
   "outputs": [],
   "source": [
    "pre_intention['collection_time'] = 'pre'\n",
    "post_intention['collection_time'] = 'post'\n",
    "\n",
    "pre_intention['label'] = pre_intention['pre_label']\n",
    "post_intention['label'] = post_intention['post_label']"
   ]
  },
  {
   "cell_type": "code",
   "execution_count": 55,
   "metadata": {},
   "outputs": [],
   "source": [
    "pre_post_intention_concat = pd.concat([pre_intention, post_intention], axis=0)"
   ]
  },
  {
   "cell_type": "code",
   "execution_count": 56,
   "metadata": {},
   "outputs": [],
   "source": [
    "pre_post_intention_concat = pd.merge(pre_post_intention_concat, posts[['post_id', 'response_type']], on='post_id', how='inner')"
   ]
  },
  {
   "cell_type": "code",
   "execution_count": 57,
   "metadata": {},
   "outputs": [],
   "source": [
    "pre_post_intention_concat['response_type'] = pre_post_intention_concat['response_type'].map({'human-high': 'Laypeople (high)', 'human-avg': 'Laypeople (avg)', 'gpt-4': 'GPT-4', 'muse': 'MUSE'})\n",
    "\n",
    "pre_post_intention_concat['response_type'] = pd.Categorical(pre_post_intention_concat['response_type'], categories=['Laypeople (avg)', 'Laypeople (high)', 'GPT-4', 'MUSE'], ordered=True)"
   ]
  },
  {
   "cell_type": "code",
   "execution_count": 58,
   "metadata": {},
   "outputs": [],
   "source": [
    "pre_post_intention['change_in_label'] = pre_post_intention['pre_label'] - pre_post_intention['post_label']\n"
   ]
  },
  {
   "cell_type": "code",
   "execution_count": 59,
   "metadata": {},
   "outputs": [],
   "source": [
    "pre_post_intention = pre_post_intention.rename(columns={'post_id_x': 'post_id'})\n",
    "\n",
    "pre_post_intention = pd.merge(pre_post_intention, posts[['post_id', 'response_type']], on='post_id', how='inner')"
   ]
  },
  {
   "cell_type": "code",
   "execution_count": 60,
   "metadata": {},
   "outputs": [],
   "source": [
    "pre_post_intention['response_type'] = pre_post_intention['response_type'].map({'human-high': 'Laypeople (high)', 'human-avg': 'Laypeople (avg)', 'gpt-4': 'GPT-4', 'muse': 'MUSE'})\n",
    "\n",
    "pre_post_intention['response_type'] = pd.Categorical(pre_post_intention['response_type'], categories=['Laypeople (avg)', 'Laypeople (high)', 'GPT-4', 'MUSE'], ordered=True)"
   ]
  },
  {
   "cell_type": "code",
   "execution_count": 61,
   "metadata": {},
   "outputs": [
    {
     "name": "stderr",
     "output_type": "stream",
     "text": [
      "/tmp/ipykernel_591108/2797102275.py:4: FutureWarning: \n",
      "\n",
      "Passing `palette` without assigning `hue` is deprecated and will be removed in v0.14.0. Assign the `y` variable to `hue` and set `legend=False` for the same effect.\n",
      "\n",
      "  g = sns.pointplot(y='response_type', x='change_in_label', data=pre_post_intention, dodge=True, palette=['#F7E6CC', '#F8D3A6', '#BABFD4', '#8798C4'], markers=['<', '>', 'o', 's'])\n"
     ]
    },
    {
     "data": {
      "image/png": "[encoded data removed]",
      "text/plain": [
       "<Figure size 600x350 with 1 Axes>"
      ]
     },
     "metadata": {},
     "output_type": "display_data"
    }
   ],
   "source": [
    "# draw a vertical line at 0\n",
    "plt.axvline(x=0, color='grey', linestyle='dotted', linewidth=2)\n",
    "\n",
    "g = sns.pointplot(y='response_type', x='change_in_label', data=pre_post_intention, dodge=True, palette=['#F7E6CC', '#F8D3A6', '#BABFD4', '#8798C4'], markers=['<', '>', 'o', 's'])\n",
    "\n",
    "ax = g.axes\n",
    "\n",
    "ax.set_xlabel('Decrease in Intention to\\nShare the Misinformation')\n",
    "\n",
    "ax.set_ylabel('')\n",
    "\n",
    "# y-ticks 4 to 5: \n",
    "ax.set_xlim([-0.3, .4])\n",
    "\n",
    "\n",
    "ax.set_xticks(np.arange(-0.3, 0.3, 0.1), minor=True)\n",
    "ax.set_xticks(np.arange(-0.3, 0.31, 0.2), minor=False)\n",
    "\n",
    "\n",
    "# minor ticks every 0.2, major every 1\n",
    "\n",
    "# major every 1, minor every 0.2 \n",
    "\n",
    "# ax.yaxis.set_major_locator(ticker.MultipleLocator(1))\n",
    "# ax.xaxis.set_minor_locator(ticker.MultipleLocator(0.1))\n",
    "\n",
    "\n",
    "# legend outside\n",
    "\n",
    "# plt.legend(title='Pre Belief', bbox_to_anchor=(1.05, 1), loc=2, borderaxespad=0.)\n",
    "\n",
    "# increase width\n",
    "# plt.gcf().set_size_inches(10, 6)\n",
    "plt.gcf().set_size_inches(6, 3.5)\n",
    "\n",
    "# tight_layout\n",
    "plt.tight_layout()\n",
    "# plt.gcf().set_size_inches(10, 6)\n",
    "\n",
    "# plt.savefig('plots/change_in_intention_to_share.svg')\n"
   ]
  },
  {
   "cell_type": "code",
   "execution_count": 62,
   "metadata": {},
   "outputs": [
    {
     "name": "stderr",
     "output_type": "stream",
     "text": [
      "/tmp/ipykernel_591108/1709901144.py:9: FutureWarning: \n",
      "\n",
      "Passing `palette` without assigning `hue` is deprecated and will be removed in v0.14.0. Assign the `y` variable to `hue` and set `legend=False` for the same effect.\n",
      "\n",
      "  g = sns.pointplot(y='condition_map', x='change_in_label', data=pre_post_intention, dodge=True, palette=['#bdbdbd', '#424242'], markers=['x', 'D'],)\n",
      "/tmp/ipykernel_591108/1709901144.py:33: UserWarning: No artists with labels found to put in legend.  Note that artists whose label start with an underscore are ignored when legend() is called with no argument.\n",
      "  plt.legend(bbox_to_anchor=(0.5, 1.3), loc='upper center', borderaxespad=0., ncol=2, title=None, facecolor='w', edgecolor='w', framealpha=1, fancybox=False, handletextpad=0.2, borderpad=0., labelspacing=0.5, columnspacing=1.)\n"
     ]
    },
    {
     "data": {
      "image/png": "[encoded data removed]",
      "text/plain": [
       "<Figure size 600x250 with 1 Axes>"
      ]
     },
     "metadata": {},
     "output_type": "display_data"
    }
   ],
   "source": [
    "condition_map = {'label': 'Signaling', 'no label': 'No Signaling'}\n",
    "\n",
    "pre_post_intention['condition_map'] = pre_post_intention['condition_y'].map(condition_map)\n",
    "\n",
    "pre_post_intention['condition_map'] = pd.Categorical(pre_post_intention['condition_map'], categories=['No Signaling', 'Signaling'], ordered=True)\n",
    "\n",
    "plt.axvline(x=0, color='grey', linestyle='dotted', linewidth=2)\n",
    "\n",
    "g = sns.pointplot(y='condition_map', x='change_in_label', data=pre_post_intention, dodge=True, palette=['#bdbdbd', '#424242'], markers=['x', 'D'],)\n",
    "\n",
    "ax = g.axes\n",
    "\n",
    "ax.set_xlabel('Decrease in Intention to\\nShare the Misinformation')\n",
    "\n",
    "ax.set_ylabel('')\n",
    "\n",
    "# y-ticks 4 to 5: \n",
    "# ax.set_xlim([-0.3, .4])\n",
    "\n",
    "\n",
    "ax.set_xticks(np.arange(-0.3, 0.3, 0.1), minor=True)\n",
    "ax.set_xticks(np.arange(-0.3, 0.31, 0.2), minor=False)\n",
    "\n",
    "\n",
    "\n",
    "# ax.set_xticklabels(['Before Reading\\nthe Response', 'After Reading\\nthe Response'])\n",
    "\n",
    "\n",
    "# legend outside\n",
    "\n",
    "# plt.legend(title='Condition', bbox_to_anchor=(1.05, 1), loc=2, borderaxespad=0.)\n",
    "\n",
    "plt.legend(bbox_to_anchor=(0.5, 1.3), loc='upper center', borderaxespad=0., ncol=2, title=None, facecolor='w', edgecolor='w', framealpha=1, fancybox=False, handletextpad=0.2, borderpad=0., labelspacing=0.5, columnspacing=1.)\n",
    "\n",
    "\n",
    "# increase width\n",
    "\n",
    "plt.gcf().set_size_inches(6, 2.5)\n",
    "\n",
    "plt.tight_layout()\n",
    "\n",
    "# save\n",
    "\n",
    "# plt.savefig('plots/signaling_change_in_intention_to_share.svg')\n",
    "\n"
   ]
  },
  {
   "cell_type": "code",
   "execution_count": 63,
   "metadata": {},
   "outputs": [
    {
     "name": "stdout",
     "output_type": "stream",
     "text": [
      "Laypeople (avg)\n",
      "Ttest: TtestResult(statistic=0.2651799019943445, pvalue=0.7909828533035742, df=488.0)\n",
      "MUSE\n",
      "Ttest: TtestResult(statistic=-0.6240840791155338, pvalue=0.5328592925162852, df=496.0)\n",
      "GPT-4\n",
      "Ttest: TtestResult(statistic=1.503481925144707, pvalue=0.133353819305295, df=494.0)\n",
      "Laypeople (high)\n",
      "Ttest: TtestResult(statistic=-2.272766286707224, pvalue=0.023468988729152426, df=494.0)\n"
     ]
    }
   ],
   "source": [
    "# is the difference between pre_label and post_label statistically significant?\n",
    "\n",
    "from scipy.stats import ttest_ind\n",
    "\n",
    "# for each response type\n",
    "\n",
    "for response_type in pre_post_intention['response_type'].unique():\n",
    "\tchange_in_label_belief = pre_post_intention[(pre_post_intention['response_type'] == response_type) & (~pre_post_intention['change_in_label'].isna())]['change_in_label']\n",
    "\n",
    "\tprint(response_type)\n",
    "\t\n",
    "\tprint('Ttest:', ttest_ind(change_in_label_belief, np.zeros(len(change_in_label_belief))))"
   ]
  },
  {
   "cell_type": "markdown",
   "metadata": {},
   "source": [
    "### Trustworthiness"
   ]
  },
  {
   "cell_type": "code",
   "execution_count": 65,
   "metadata": {},
   "outputs": [],
   "source": [
    "trustworthiness = pd.read_csv(data_path + 'trustworthiness.csv')"
   ]
  },
  {
   "cell_type": "code",
   "execution_count": 67,
   "metadata": {},
   "outputs": [],
   "source": [
    "# prolific id is not None\n",
    "\n",
    "trustworthiness = trustworthiness[trustworthiness['prolific_id'].notnull()]\n",
    "\n",
    "# condition is not None\n",
    "\n",
    "trustworthiness = trustworthiness[trustworthiness['condition'].notnull()]"
   ]
  },
  {
   "cell_type": "code",
   "execution_count": 68,
   "metadata": {},
   "outputs": [],
   "source": [
    "# remove duplicate prolific id, keep the last one\n",
    "\n",
    "trustworthiness = trustworthiness.drop_duplicates(subset='prolific_id', keep='last')"
   ]
  },
  {
   "cell_type": "code",
   "execution_count": 69,
   "metadata": {},
   "outputs": [],
   "source": [
    "trustworthiness = trustworthiness[trustworthiness['prolific_id'] != '62cf2c16297da842a4b56430']"
   ]
  },
  {
   "cell_type": "code",
   "execution_count": 70,
   "metadata": {},
   "outputs": [],
   "source": [
    "# condition re-label \"label\" to \"Signaling\" and \"no label\" to \"No Signaling\"\n",
    "\n",
    "trustworthiness['condition_map'] = trustworthiness['condition'].map({'label': 'Signaling', 'no label': 'No Signaling'})"
   ]
  },
  {
   "cell_type": "code",
   "execution_count": 71,
   "metadata": {},
   "outputs": [],
   "source": [
    "# merge with posts[['post_id', 'response_type']]\n",
    "\n",
    "trustworthiness = pd.merge(trustworthiness, posts[['post_id', 'response_type']], on='post_id', how='inner')"
   ]
  },
  {
   "cell_type": "code",
   "execution_count": 72,
   "metadata": {},
   "outputs": [],
   "source": [
    "# response_type -- Categorical and Ordered 'human-avg', 'human-high', 'gpt-4', 'muse'\n",
    "\n",
    "# map 'human-high' to 'Laypeople (high)', 'human-avg' to 'Laypeople (avg)', 'gpt-4' to 'GPT-4', 'muse' to 'MUSE'\n",
    "\n",
    "trustworthiness['response_type'] = trustworthiness['response_type'].map({'human-high': 'Laypeople (high)', 'human-avg': 'Laypeople (avg)', 'gpt-4': 'GPT-4', 'muse': 'MUSE'})\n",
    "\n",
    "trustworthiness['response_type'] = pd.Categorical(trustworthiness['response_type'], categories=['Laypeople (avg)', 'Laypeople (high)', 'GPT-4', 'MUSE'], ordered=True)"
   ]
  },
  {
   "cell_type": "code",
   "execution_count": 73,
   "metadata": {},
   "outputs": [
    {
     "name": "stderr",
     "output_type": "stream",
     "text": [
      "/tmp/ipykernel_591108/1759135894.py:1: FutureWarning: \n",
      "\n",
      "Passing `palette` without assigning `hue` is deprecated and will be removed in v0.14.0. Assign the `y` variable to `hue` and set `legend=False` for the same effect.\n",
      "\n",
      "  g = sns.pointplot(y='response_type', x='label', data=trustworthiness, palette=['#F7E6CC', '#F8D3A6', '#BABFD4', '#8798C4'], markers=['<', '>', 'o', 's'])\n"
     ]
    },
    {
     "data": {
      "image/png": "[encoded data removed]",
      "text/plain": [
       "<Figure size 600x350 with 1 Axes>"
      ]
     },
     "metadata": {},
     "output_type": "display_data"
    }
   ],
   "source": [
    "g = sns.pointplot(y='response_type', x='label', data=trustworthiness, palette=['#F7E6CC', '#F8D3A6', '#BABFD4', '#8798C4'], markers=['<', '>', 'o', 's'])\n",
    "\n",
    "ax = g.axes\n",
    "\n",
    "# y-ticks 4 to 5: \n",
    "ax.set_xlim([4, 5.5])\n",
    "\n",
    "\n",
    "ax.set_xticks(np.arange(4, 5.41, 0.25), minor=True)\n",
    "ax.set_xticks(np.arange(4, 5.51, 0.5), minor=False)\n",
    "\n",
    "\n",
    "\n",
    "ax.set_ylabel('')\n",
    "\n",
    "ax.set_xlabel('Trustworthiness of the correction')\n",
    "\n",
    "# plt.gcf().set_size_inches(10, 6)\n",
    "plt.gcf().set_size_inches(6, 3.5)\n",
    "\n",
    "# tight_layout\n",
    "plt.tight_layout()\n",
    "\n",
    "# plt.savefig('plots/trustworthiness.svg')\n",
    "\n"
   ]
  },
  {
   "cell_type": "code",
   "execution_count": 74,
   "metadata": {},
   "outputs": [
    {
     "name": "stderr",
     "output_type": "stream",
     "text": [
      "/tmp/ipykernel_591108/932105482.py:10: FutureWarning: \n",
      "\n",
      "Passing `palette` without assigning `hue` is deprecated and will be removed in v0.14.0. Assign the `y` variable to `hue` and set `legend=False` for the same effect.\n",
      "\n",
      "  g = sns.pointplot(y='condition_map', x='label', data=trustworthiness, dodge=True, palette=['#bdbdbd', '#424242'], markers=['x', 'D'],)\n",
      "/tmp/ipykernel_591108/932105482.py:34: UserWarning: No artists with labels found to put in legend.  Note that artists whose label start with an underscore are ignored when legend() is called with no argument.\n",
      "  plt.legend(bbox_to_anchor=(0.5, 1.3), loc='upper center', borderaxespad=0., ncol=2, title=None, facecolor='w', edgecolor='w', framealpha=1, fancybox=False, handletextpad=0.2, borderpad=0., labelspacing=0.5, columnspacing=1.)\n"
     ]
    },
    {
     "data": {
      "image/png": "[encoded data removed]",
      "text/plain": [
       "<Figure size 600x250 with 1 Axes>"
      ]
     },
     "metadata": {},
     "output_type": "display_data"
    }
   ],
   "source": [
    "condition_map = {'label': 'Signaling', 'no label': 'No Signaling'}\n",
    "\n",
    "trustworthiness['condition_map'] = trustworthiness['condition'].map(condition_map)\n",
    "\n",
    "trustworthiness['condition_map'] = pd.Categorical(trustworthiness['condition_map'], categories=['No Signaling', 'Signaling'], ordered=True)\n",
    "\n",
    "# plt.axvline(x=0, color='grey', linestyle='dotted', linewidth=2)\n",
    "\n",
    "# \n",
    "g = sns.pointplot(y='condition_map', x='label', data=trustworthiness, dodge=True, palette=['#bdbdbd', '#424242'], markers=['x', 'D'],)\n",
    "\n",
    "ax = g.axes\n",
    "\n",
    "ax.set_xlabel('Trustworthiness of the correction')\n",
    "\n",
    "ax.set_ylabel('')\n",
    "\n",
    "# y-ticks 4 to 5: \n",
    "# ax.set_xlim([-0.3, .4])\n",
    "\n",
    "\n",
    "ax.set_xticks(np.arange(4.5, 5.01, 0.1), minor=True)\n",
    "ax.set_xticks(np.arange(4.5, 5.01, 0.5), minor=False)\n",
    "\n",
    "\n",
    "\n",
    "# ax.set_xticklabels(['Before Reading\\nthe Response', 'After Reading\\nthe Response'])\n",
    "\n",
    "\n",
    "# legend outside\n",
    "\n",
    "# plt.legend(title='Condition', bbox_to_anchor=(1.05, 1), loc=2, borderaxespad=0.)\n",
    "\n",
    "plt.legend(bbox_to_anchor=(0.5, 1.3), loc='upper center', borderaxespad=0., ncol=2, title=None, facecolor='w', edgecolor='w', framealpha=1, fancybox=False, handletextpad=0.2, borderpad=0., labelspacing=0.5, columnspacing=1.)\n",
    "\n",
    "\n",
    "# increase width\n",
    "\n",
    "plt.gcf().set_size_inches(6, 2.5)\n",
    "\n",
    "plt.tight_layout()\n",
    "\n",
    "# save\n",
    "\n",
    "# plt.savefig('plots/signaling_trustworthiness.svg')\n",
    "\n"
   ]
  },
  {
   "cell_type": "code",
   "execution_count": 75,
   "metadata": {},
   "outputs": [
    {
     "name": "stderr",
     "output_type": "stream",
     "text": [
      "/tmp/ipykernel_591108/330026778.py:3: FutureWarning: The default of observed=False is deprecated and will be changed to True in a future version of pandas. Pass observed=False to retain current behavior or observed=True to adopt the future default and silence this warning.\n",
      "  trustworthiness.groupby('response_type')['label'].mean()\n"
     ]
    },
    {
     "data": {
      "text/plain": [
       "response_type\n",
       "Laypeople (avg)     4.563265\n",
       "Laypeople (high)    5.032258\n",
       "GPT-4               4.842105\n",
       "MUSE                4.911647\n",
       "Name: label, dtype: float64"
      ]
     },
     "execution_count": 75,
     "metadata": {},
     "output_type": "execute_result"
    }
   ],
   "source": [
    "# groupby 'response_type', mean 'label'\n",
    "\n",
    "trustworthiness.groupby('response_type')['label'].mean()"
   ]
  },
  {
   "cell_type": "code",
   "execution_count": 76,
   "metadata": {},
   "outputs": [
    {
     "name": "stdout",
     "output_type": "stream",
     "text": [
      "GPT-4\n",
      "TtestResult(statistic=-2.2361780617799263, pvalue=0.02578946097296746, df=490.0)\n",
      "Layepeople (avg) Mean: 4.563265306122449\n",
      "GPT-4 Mean: 4.842105263157895\n",
      "Diff: 0.27883995703544606\n",
      "Relative Diff: 0.061105357310987735\n",
      "Laypeople (high)\n",
      "TtestResult(statistic=-3.766936206516654, pvalue=0.00018531384460061985, df=491.0)\n",
      "Layepeople (avg) Mean: 4.563265306122449\n",
      "Laypeople (high) Mean: 5.032258064516129\n",
      "Diff: 0.4689927583936804\n",
      "Relative Diff: 0.10277569392348095\n",
      "MUSE\n",
      "TtestResult(statistic=-2.887689552394029, pvalue=0.0040517264133481685, df=492.0)\n",
      "Layepeople (avg) Mean: 4.563265306122449\n",
      "MUSE Mean: 4.911646586345381\n",
      "Diff: 0.3483812802229327\n",
      "Relative Diff: 0.0763447349325747\n"
     ]
    }
   ],
   "source": [
    "# check statistical significance with Laypeople (avg)\n",
    "\n",
    "from scipy.stats import ttest_ind\n",
    "\n",
    "trustworthiness_avg = trustworthiness[trustworthiness['response_type'] == 'Laypeople (avg)']\n",
    "\n",
    "# GPT-4, Laypeople (high), MUSE\n",
    "\n",
    "for response_type in ['GPT-4', 'Laypeople (high)', 'MUSE']:\n",
    "\ttrustworthiness_response = trustworthiness[trustworthiness['response_type'] == response_type]\n",
    "\tprint(response_type)\n",
    "\tprint(ttest_ind(trustworthiness_avg['label'], trustworthiness_response['label']))\n",
    "\tprint('Layepeople (avg) Mean:', trustworthiness_avg['label'].mean())\n",
    "\tprint(response_type, 'Mean:', trustworthiness_response['label'].mean())\n",
    "\tprint('Diff:', trustworthiness_response['label'].mean() - trustworthiness_avg['label'].mean())\n",
    "\tprint('Relative Diff:', (trustworthiness_response['label'].mean() - trustworthiness_avg['label'].mean()) / trustworthiness_avg['label'].mean())"
   ]
  }
 ],
 "metadata": {
  "kernelspec": {
   "display_name": "base",
   "language": "python",
   "name": "python3"
  },
  "language_info": {
   "codemirror_mode": {
    "name": "ipython",
    "version": 3
   },
   "file_extension": ".py",
   "mimetype": "text/x-python",
   "name": "python",
   "nbconvert_exporter": "python",
   "pygments_lexer": "ipython3",
   "version": "3.12.7"
  }
 },
 "nbformat": 4,
 "nbformat_minor": 2
}
